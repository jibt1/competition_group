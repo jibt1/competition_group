{
  "nbformat": 4,
  "nbformat_minor": 0,
  "metadata": {
    "colab": {
      "name": "PreprocesadoTextos_SuperFinalV.ipynb",
      "provenance": [],
      "collapsed_sections": [],
      "toc_visible": true
    },
    "kernelspec": {
      "name": "python3",
      "display_name": "Python 3"
    },
    "language_info": {
      "name": "python"
    }
  },
  "cells": [
    {
      "cell_type": "markdown",
      "metadata": {
        "id": "2Mj-ks6fqT25"
      },
      "source": [
        " # Todas las cuestiones relativas al preprocesado figuran en este Collab"
      ]
    },
    {
      "cell_type": "markdown",
      "metadata": {
        "id": "Mrsy19b21q6J"
      },
      "source": [
        "#### **Recordatorio**: aunque todo este preprocesado se haya hecho en grupo, se recuerda que la redacción ha de ser personalizada."
      ]
    },
    {
      "cell_type": "markdown",
      "metadata": {
        "id": "73QBKRpzqasp"
      },
      "source": [
        "---\n",
        "---\n",
        "\n",
        "# Length Features\n",
        "\n",
        "Aquí se recogen algunas variables relacionadas con la longitud de la frase tanto a nivel de token como a nivel de caracter."
      ]
    },
    {
      "cell_type": "code",
      "metadata": {
        "id": "rPxleGp6p6BH"
      },
      "source": [
        "import pandas as pd\n",
        "train_dataframe = pd.read_csv(\"https://raw.githubusercontent.com/jibt1/competition_group/main/Tareas/datasets/haha_2021_train.csv\", sep=',')"
      ],
      "execution_count": 617,
      "outputs": []
    },
    {
      "cell_type": "code",
      "metadata": {
        "id": "O0P3h2Zvqxqz"
      },
      "source": [
        "text = train_dataframe[['id', 'text']]\n",
        "text = text.iloc[0:10,:]"
      ],
      "execution_count": 618,
      "outputs": []
    },
    {
      "cell_type": "code",
      "metadata": {
        "colab": {
          "base_uri": "https://localhost:8080/",
          "height": 363
        },
        "id": "_YWgPaW5qswt",
        "outputId": "27b6d7de-1056-4cf5-b222-65daee078825"
      },
      "source": [
        "def len_token(tweet):\n",
        "  tweet_tokens = tweet.replace('\\n', ' ').split(' ')\n",
        "  return len(tweet_tokens)\n",
        "def n_characters_tweet(tweet):\n",
        "  tweet = tweet.replace('\\n', ' ')\n",
        "  return len(tweet)\n",
        "\n",
        "def get_len_token(text):\n",
        "  return list(map(len_token, text['text'].to_list()))\n",
        "\n",
        "def get_n_characters_tweet(text):\n",
        "  return list(map(n_characters_tweet, text['text'].to_list()))\n",
        "\n",
        "def get_n_characters_tweet(text):\n",
        "  return list(map(n_characters_tweet, text['text'].to_list()))\n",
        "\n",
        "text['len_token'] = get_len_token(text)\n",
        "\n",
        "text['n_char'] = get_n_characters_tweet(text)\n",
        "\n",
        "text['ratio'] = text['len_token']/text['n_char']\n",
        "\n",
        "text"
      ],
      "execution_count": 619,
      "outputs": [
        {
          "output_type": "execute_result",
          "data": {
            "text/html": [
              "<div>\n",
              "<style scoped>\n",
              "    .dataframe tbody tr th:only-of-type {\n",
              "        vertical-align: middle;\n",
              "    }\n",
              "\n",
              "    .dataframe tbody tr th {\n",
              "        vertical-align: top;\n",
              "    }\n",
              "\n",
              "    .dataframe thead th {\n",
              "        text-align: right;\n",
              "    }\n",
              "</style>\n",
              "<table border=\"1\" class=\"dataframe\">\n",
              "  <thead>\n",
              "    <tr style=\"text-align: right;\">\n",
              "      <th></th>\n",
              "      <th>id</th>\n",
              "      <th>text</th>\n",
              "      <th>len_token</th>\n",
              "      <th>n_char</th>\n",
              "      <th>ratio</th>\n",
              "    </tr>\n",
              "  </thead>\n",
              "  <tbody>\n",
              "    <tr>\n",
              "      <th>0</th>\n",
              "      <td>tweet1</td>\n",
              "      <td>Niveles de retraso mental: \\n\\n— Bajo.\\n— Medi...</td>\n",
              "      <td>19</td>\n",
              "      <td>86</td>\n",
              "      <td>0.220930</td>\n",
              "    </tr>\n",
              "    <tr>\n",
              "      <th>1</th>\n",
              "      <td>tweet2</td>\n",
              "      <td>—Vamos Luke desenfunda tu sable, demuestra tu ...</td>\n",
              "      <td>22</td>\n",
              "      <td>140</td>\n",
              "      <td>0.157143</td>\n",
              "    </tr>\n",
              "    <tr>\n",
              "      <th>2</th>\n",
              "      <td>tweet3</td>\n",
              "      <td>- ¿Te ofrezco algo?, ¿Agua, café, mi corazón, ...</td>\n",
              "      <td>21</td>\n",
              "      <td>112</td>\n",
              "      <td>0.187500</td>\n",
              "    </tr>\n",
              "    <tr>\n",
              "      <th>3</th>\n",
              "      <td>tweet4</td>\n",
              "      <td>No se porqué me hago la cabeza deooos</td>\n",
              "      <td>8</td>\n",
              "      <td>37</td>\n",
              "      <td>0.216216</td>\n",
              "    </tr>\n",
              "    <tr>\n",
              "      <th>4</th>\n",
              "      <td>tweet5</td>\n",
              "      <td>Quisiera saber que hago durante la siesta de l...</td>\n",
              "      <td>20</td>\n",
              "      <td>106</td>\n",
              "      <td>0.188679</td>\n",
              "    </tr>\n",
              "    <tr>\n",
              "      <th>5</th>\n",
              "      <td>tweet6</td>\n",
              "      <td>La persona que te dice que no se arrepiente de...</td>\n",
              "      <td>26</td>\n",
              "      <td>120</td>\n",
              "      <td>0.216667</td>\n",
              "    </tr>\n",
              "    <tr>\n",
              "      <th>6</th>\n",
              "      <td>tweet7</td>\n",
              "      <td>—Buenas don Pepe, ¿me vende un litro de leche?...</td>\n",
              "      <td>19</td>\n",
              "      <td>112</td>\n",
              "      <td>0.169643</td>\n",
              "    </tr>\n",
              "    <tr>\n",
              "      <th>7</th>\n",
              "      <td>tweet8</td>\n",
              "      <td>Meeee aburro</td>\n",
              "      <td>2</td>\n",
              "      <td>12</td>\n",
              "      <td>0.166667</td>\n",
              "    </tr>\n",
              "    <tr>\n",
              "      <th>8</th>\n",
              "      <td>tweet9</td>\n",
              "      <td>Macri le dijo las gordas que usar calzas está ...</td>\n",
              "      <td>10</td>\n",
              "      <td>51</td>\n",
              "      <td>0.196078</td>\n",
              "    </tr>\n",
              "    <tr>\n",
              "      <th>9</th>\n",
              "      <td>tweet10</td>\n",
              "      <td>JAVIER CHICALITO HERNANDEZ *7</td>\n",
              "      <td>4</td>\n",
              "      <td>29</td>\n",
              "      <td>0.137931</td>\n",
              "    </tr>\n",
              "  </tbody>\n",
              "</table>\n",
              "</div>"
            ],
            "text/plain": [
              "        id                                               text  ...  n_char     ratio\n",
              "0   tweet1  Niveles de retraso mental: \\n\\n— Bajo.\\n— Medi...  ...      86  0.220930\n",
              "1   tweet2  —Vamos Luke desenfunda tu sable, demuestra tu ...  ...     140  0.157143\n",
              "2   tweet3  - ¿Te ofrezco algo?, ¿Agua, café, mi corazón, ...  ...     112  0.187500\n",
              "3   tweet4              No se porqué me hago la cabeza deooos  ...      37  0.216216\n",
              "4   tweet5  Quisiera saber que hago durante la siesta de l...  ...     106  0.188679\n",
              "5   tweet6  La persona que te dice que no se arrepiente de...  ...     120  0.216667\n",
              "6   tweet7  —Buenas don Pepe, ¿me vende un litro de leche?...  ...     112  0.169643\n",
              "7   tweet8                                       Meeee aburro  ...      12  0.166667\n",
              "8   tweet9  Macri le dijo las gordas que usar calzas está ...  ...      51  0.196078\n",
              "9  tweet10                      JAVIER CHICALITO HERNANDEZ *7  ...      29  0.137931\n",
              "\n",
              "[10 rows x 5 columns]"
            ]
          },
          "metadata": {
            "tags": []
          },
          "execution_count": 619
        }
      ]
    },
    {
      "cell_type": "markdown",
      "metadata": {
        "id": "Vg40bU_6q_0a"
      },
      "source": [
        "---\n",
        "---\n",
        "\n",
        "# Word Emoji Context Matrix. 🤣 😆 😂 \n",
        "\n",
        "Descripción: Extracción/guardado de Emojis y depuración del Corpus\n",
        "\n",
        "Inconvenientes detectados con los emojis:\n",
        "\n",
        "* 1 Resulta que los emojis hemos podido verificar que countvectorizer los ignora. Es decir si las frases fueran solo emojis el shape de la matriz word context sería (1,1), con valor empty.\n",
        "\n",
        "* 2 Aun suponiendo que exista alguna alternativa a countvectorizer muchas personas escriben palabras juntas con emojis, e.g.: 'man👨', lo que podría generar un token más del vocabulario que innecesario. Además pueden escribir varios emojis juntos 👨, 👨👨, 👨👨👨, ... generando también un problema en su identificación.\n",
        "\n",
        "La propuesta ha sido realizar un preproceso como el siguiente. Además, para solucionar el problema de los emoticonos, en lugar de pasárselos a countvectorizer en bruto utilizamos la decodificación a texto de la librería emoji: **emoji.demojize()**"
      ]
    },
    {
      "cell_type": "code",
      "metadata": {
        "id": "pIiT0DQFr7-D"
      },
      "source": [
        "# %%capture\n",
        "#!pip install emoji"
      ],
      "execution_count": 620,
      "outputs": []
    },
    {
      "cell_type": "code",
      "metadata": {
        "id": "8fZg102qqy3x"
      },
      "source": [
        "import emoji"
      ],
      "execution_count": 621,
      "outputs": []
    },
    {
      "cell_type": "code",
      "metadata": {
        "id": "zrtV7mIUrxI6"
      },
      "source": [
        "def extract_emojis(tweet):\n",
        "  return ''.join(c for c in tweet if c in emoji.UNICODE_EMOJI_ENGLISH)\n",
        "\n",
        "def get_emojilist(tweet):\n",
        "  emojistring = extract_emojis(tweet)\n",
        "  emojilist = [emoji for emoji in emojistring]\n",
        "  for emoji in emojilist:\n",
        "    tweet = tweet.replace(emoji, \"\")\n",
        "  return tweet, emojilist\n",
        "\n",
        "def get_emoji_sentence(tweet):\n",
        "  tweet, emojilist = get_emojilist(tweet)\n",
        "  emoji_sentence = emoji.demojize(' '.join(emojilist))\n",
        "  return tweet, emoji_sentence\n",
        "\n",
        "def filter(text_df):\n",
        "  filtered_df = pd.DataFrame(map(get_emoji_sentence, text_df['text'].to_list()))\n",
        "  filtered_df.rename(columns={0: 'sentences_without_emojis', 1: 'emoji_sentences'}, inplace=True)\n",
        "  return filtered_df\n",
        "\n",
        "df_filter_output = filter(text)\n",
        "\n",
        "df_cleaned_sentences = df_filter_output[['sentences_without_emojis']]\n",
        "# df_cleaned_sentences = df_filter_output['emoji_sentences']\n",
        "\n",
        "text['text_v2'] = df_filter_output['sentences_without_emojis'].to_list()\n",
        "\n",
        "emoji_sentences = df_filter_output['emoji_sentences']\n",
        "\n",
        "text['text_emojis'] = emoji_sentences.to_list()\n",
        "\n",
        "\n",
        "def get_emoji_vocab(emoji_sentence):\n",
        "  analyzer = CountVectorizer(binary=False, analyzer='word', # stop_words=more_stop_words,\n",
        "                              ngram_range=(1, 1)).build_analyzer()\n",
        "  return (emoji for emoji in analyzer(emoji_sentence))"
      ],
      "execution_count": 622,
      "outputs": []
    },
    {
      "cell_type": "code",
      "metadata": {
        "id": "RHBFHP-dsILP"
      },
      "source": [
        "from sklearn.feature_extraction.text import  CountVectorizer\n",
        "cv_emoji = CountVectorizer(analyzer=get_emoji_vocab)"
      ],
      "execution_count": 623,
      "outputs": []
    },
    {
      "cell_type": "code",
      "metadata": {
        "id": "QXpdsPjBsOR0"
      },
      "source": [
        "try:\n",
        "  word_context_emoji = cv_emoji.fit_transform(emoji_sentences.to_list())\n",
        "# Just if there is no emoji\n",
        "except ValueError:\n",
        "  emoji_sentences.loc[0,0] = emoji.demojize(\"🆘\")\n",
        "  word_context_emoji = cv_emoji.fit_transform(emoji_sentences.to_list())\n",
        "  \"\"\"emoji_sentences_test = emoji_sentences\"\"\"\n",
        "  \"\"\"emoji_sentences_test.loc[0,0] = \"🆘🆘🆘🆘🆘🆘🆘🆘\"\"\"\n",
        "  \"\"\"text['text_emojis'] = emoji_sentences_test.to_list()\"\"\"\n",
        "# cv_emoji.get_feature_names()"
      ],
      "execution_count": 624,
      "outputs": []
    },
    {
      "cell_type": "code",
      "metadata": {
        "colab": {
          "base_uri": "https://localhost:8080/"
        },
        "id": "kGX1lnvAZLzh",
        "outputId": "8ae179dc-721e-46f1-a4fa-9e1f0ca844d0"
      },
      "source": [
        "cv_emoji.get_feature_names()"
      ],
      "execution_count": 625,
      "outputs": [
        {
          "output_type": "execute_result",
          "data": {
            "text/plain": [
              "['sos_button']"
            ]
          },
          "metadata": {
            "tags": []
          },
          "execution_count": 625
        }
      ]
    },
    {
      "cell_type": "code",
      "metadata": {
        "colab": {
          "base_uri": "https://localhost:8080/",
          "height": 363
        },
        "id": "C_DfuZRWUbyY",
        "outputId": "126120aa-c8a7-4171-b7f9-d5772016e215"
      },
      "source": [
        "text"
      ],
      "execution_count": 626,
      "outputs": [
        {
          "output_type": "execute_result",
          "data": {
            "text/html": [
              "<div>\n",
              "<style scoped>\n",
              "    .dataframe tbody tr th:only-of-type {\n",
              "        vertical-align: middle;\n",
              "    }\n",
              "\n",
              "    .dataframe tbody tr th {\n",
              "        vertical-align: top;\n",
              "    }\n",
              "\n",
              "    .dataframe thead th {\n",
              "        text-align: right;\n",
              "    }\n",
              "</style>\n",
              "<table border=\"1\" class=\"dataframe\">\n",
              "  <thead>\n",
              "    <tr style=\"text-align: right;\">\n",
              "      <th></th>\n",
              "      <th>id</th>\n",
              "      <th>text</th>\n",
              "      <th>len_token</th>\n",
              "      <th>n_char</th>\n",
              "      <th>ratio</th>\n",
              "      <th>text_v2</th>\n",
              "      <th>text_emojis</th>\n",
              "    </tr>\n",
              "  </thead>\n",
              "  <tbody>\n",
              "    <tr>\n",
              "      <th>0</th>\n",
              "      <td>tweet1</td>\n",
              "      <td>Niveles de retraso mental: \\n\\n— Bajo.\\n— Medi...</td>\n",
              "      <td>19</td>\n",
              "      <td>86</td>\n",
              "      <td>0.220930</td>\n",
              "      <td>Niveles de retraso mental: \\n\\n— Bajo.\\n— Medi...</td>\n",
              "      <td></td>\n",
              "    </tr>\n",
              "    <tr>\n",
              "      <th>1</th>\n",
              "      <td>tweet2</td>\n",
              "      <td>—Vamos Luke desenfunda tu sable, demuestra tu ...</td>\n",
              "      <td>22</td>\n",
              "      <td>140</td>\n",
              "      <td>0.157143</td>\n",
              "      <td>—Vamos Luke desenfunda tu sable, demuestra tu ...</td>\n",
              "      <td></td>\n",
              "    </tr>\n",
              "    <tr>\n",
              "      <th>2</th>\n",
              "      <td>tweet3</td>\n",
              "      <td>- ¿Te ofrezco algo?, ¿Agua, café, mi corazón, ...</td>\n",
              "      <td>21</td>\n",
              "      <td>112</td>\n",
              "      <td>0.187500</td>\n",
              "      <td>- ¿Te ofrezco algo?, ¿Agua, café, mi corazón, ...</td>\n",
              "      <td></td>\n",
              "    </tr>\n",
              "    <tr>\n",
              "      <th>3</th>\n",
              "      <td>tweet4</td>\n",
              "      <td>No se porqué me hago la cabeza deooos</td>\n",
              "      <td>8</td>\n",
              "      <td>37</td>\n",
              "      <td>0.216216</td>\n",
              "      <td>No se porqué me hago la cabeza deooos</td>\n",
              "      <td></td>\n",
              "    </tr>\n",
              "    <tr>\n",
              "      <th>4</th>\n",
              "      <td>tweet5</td>\n",
              "      <td>Quisiera saber que hago durante la siesta de l...</td>\n",
              "      <td>20</td>\n",
              "      <td>106</td>\n",
              "      <td>0.188679</td>\n",
              "      <td>Quisiera saber que hago durante la siesta de l...</td>\n",
              "      <td></td>\n",
              "    </tr>\n",
              "    <tr>\n",
              "      <th>5</th>\n",
              "      <td>tweet6</td>\n",
              "      <td>La persona que te dice que no se arrepiente de...</td>\n",
              "      <td>26</td>\n",
              "      <td>120</td>\n",
              "      <td>0.216667</td>\n",
              "      <td>La persona que te dice que no se arrepiente de...</td>\n",
              "      <td></td>\n",
              "    </tr>\n",
              "    <tr>\n",
              "      <th>6</th>\n",
              "      <td>tweet7</td>\n",
              "      <td>—Buenas don Pepe, ¿me vende un litro de leche?...</td>\n",
              "      <td>19</td>\n",
              "      <td>112</td>\n",
              "      <td>0.169643</td>\n",
              "      <td>—Buenas don Pepe, ¿me vende un litro de leche?...</td>\n",
              "      <td></td>\n",
              "    </tr>\n",
              "    <tr>\n",
              "      <th>7</th>\n",
              "      <td>tweet8</td>\n",
              "      <td>Meeee aburro</td>\n",
              "      <td>2</td>\n",
              "      <td>12</td>\n",
              "      <td>0.166667</td>\n",
              "      <td>Meeee aburro</td>\n",
              "      <td></td>\n",
              "    </tr>\n",
              "    <tr>\n",
              "      <th>8</th>\n",
              "      <td>tweet9</td>\n",
              "      <td>Macri le dijo las gordas que usar calzas está ...</td>\n",
              "      <td>10</td>\n",
              "      <td>51</td>\n",
              "      <td>0.196078</td>\n",
              "      <td>Macri le dijo las gordas que usar calzas está ...</td>\n",
              "      <td></td>\n",
              "    </tr>\n",
              "    <tr>\n",
              "      <th>9</th>\n",
              "      <td>tweet10</td>\n",
              "      <td>JAVIER CHICALITO HERNANDEZ *7</td>\n",
              "      <td>4</td>\n",
              "      <td>29</td>\n",
              "      <td>0.137931</td>\n",
              "      <td>JAVIER CHICALITO HERNANDEZ *7</td>\n",
              "      <td></td>\n",
              "    </tr>\n",
              "  </tbody>\n",
              "</table>\n",
              "</div>"
            ],
            "text/plain": [
              "        id  ... text_emojis\n",
              "0   tweet1  ...            \n",
              "1   tweet2  ...            \n",
              "2   tweet3  ...            \n",
              "3   tweet4  ...            \n",
              "4   tweet5  ...            \n",
              "5   tweet6  ...            \n",
              "6   tweet7  ...            \n",
              "7   tweet8  ...            \n",
              "8   tweet9  ...            \n",
              "9  tweet10  ...            \n",
              "\n",
              "[10 rows x 7 columns]"
            ]
          },
          "metadata": {
            "tags": []
          },
          "execution_count": 626
        }
      ]
    },
    {
      "cell_type": "markdown",
      "metadata": {
        "id": "fvNuLb2w-5ZD"
      },
      "source": [
        "---\n",
        "---\n"
      ]
    },
    {
      "cell_type": "markdown",
      "metadata": {
        "id": "YSNvKkoiBPAN"
      },
      "source": [
        "# Detector de cansinos y corrección de repeticiones innecesarias\n",
        "\n",
        "En twitter hay mucho \"pesao\" con el pulgar \"cansao\" y lo dejan mucho tiempo en el móooooooooovil pulsando una letraaaaa. A todos estos, los consideramos unos pesaos y lo vamos a tener en cuenta. No quieren trabajar.\n",
        "\n",
        "¿Por qué corregiremos también a los pesaos? Porque spellchecker no puede, es fácil ver esto con un ejemplo en código. "
      ]
    },
    {
      "cell_type": "code",
      "metadata": {
        "id": "pDfM0P-AYdTm"
      },
      "source": [
        "def is_cansino(tweet, tolerancia:int=2):\n",
        "  # Consideramos pesados a todos aquellos\n",
        "  # que repitan 3 veces una letra\n",
        "  \"\"\"\n",
        "  Esta función identifica a los pesaos\n",
        "  Args:\n",
        "    tolerancia (int): tolerancia al pesao\n",
        "  \"\"\"\n",
        "  l1 = \"\"\n",
        "  rep = 0\n",
        "  letra = \"\"\n",
        "  tweet_aux = tweet + '<eos>'\n",
        "  for index, letra in enumerate(tweet_aux):\n",
        "      if letra == l1:\n",
        "          rep += 1\n",
        "      elif rep >= tolerancia:\n",
        "          return l1, rep, tolerancia, 1*True\n",
        "      else:\n",
        "        rep = 0\n",
        "        l1 = letra\n",
        "  return letra, 0, tolerancia, 1*False\n",
        "\n",
        "def get_cansinos(corpus):\n",
        "  L = list(map(is_cansino, corpus))\n",
        "  return [ret[3] for ret in L]\n",
        "\n",
        "###################################Ç\n",
        "##### Correccion repeticiones #####\n",
        "###################################\n",
        "\n",
        "# Esto es beta solo corrige la primera\n",
        "# tanda de repeticiones se puede mejorar\n",
        "\n",
        "def tweet_corrector(tweet):\n",
        "    letra, rep, tolerancia, bool_ = is_cansino(tweet)\n",
        "    if bool_ == 1:\n",
        "        tweet = tweet.replace(rep*letra, '')\n",
        "        tweet = tweet_corrector(tweet)\n",
        "    return tweet\n",
        "\n",
        "def corpus_corrector(corpus):\n",
        "    L = list(map(tweet_corrector, corpus))\n",
        "    return L"
      ],
      "execution_count": 627,
      "outputs": []
    },
    {
      "cell_type": "code",
      "metadata": {
        "colab": {
          "base_uri": "https://localhost:8080/",
          "height": 35
        },
        "id": "KafDiR18bkO5",
        "outputId": "0b2e00bb-262d-4f95-a4ca-2814e8d797ad"
      },
      "source": [
        "\"\"\"\n",
        "text.loc[7,'text_v2'] = 'Meeee aaaaabuuuuurroooooo'\n",
        "text\n",
        "\"\"\""
      ],
      "execution_count": 628,
      "outputs": [
        {
          "output_type": "execute_result",
          "data": {
            "application/vnd.google.colaboratory.intrinsic+json": {
              "type": "string"
            },
            "text/plain": [
              "\"\\ntext.loc[7,'text_v2'] = 'Meeee aaaaabuuuuurroooooo'\\ntext\\n\""
            ]
          },
          "metadata": {
            "tags": []
          },
          "execution_count": 628
        }
      ]
    },
    {
      "cell_type": "code",
      "metadata": {
        "colab": {
          "base_uri": "https://localhost:8080/",
          "height": 658
        },
        "id": "7I8k8XfG-7M3",
        "outputId": "3ab31601-315a-424d-d27d-a144b770159a"
      },
      "source": [
        "text['detected_text_cansinos'] = get_cansinos(text['text_v2'].to_list())\n",
        "text['detected_emojis_cansinos'] = get_cansinos(text['text_emojis'].to_list())\n",
        "text['detected_cansinos'] = (text['detected_text_cansinos'] + text['detected_emojis_cansinos']) % 2\n",
        "# text['detected_emojis_cansinos] | text['detected_text_cansinos'] \n",
        "\n",
        "text['text_v3'] = corpus_corrector(text['text_v2'].to_list())\n",
        "\n",
        "text"
      ],
      "execution_count": 629,
      "outputs": [
        {
          "output_type": "execute_result",
          "data": {
            "text/html": [
              "<div>\n",
              "<style scoped>\n",
              "    .dataframe tbody tr th:only-of-type {\n",
              "        vertical-align: middle;\n",
              "    }\n",
              "\n",
              "    .dataframe tbody tr th {\n",
              "        vertical-align: top;\n",
              "    }\n",
              "\n",
              "    .dataframe thead th {\n",
              "        text-align: right;\n",
              "    }\n",
              "</style>\n",
              "<table border=\"1\" class=\"dataframe\">\n",
              "  <thead>\n",
              "    <tr style=\"text-align: right;\">\n",
              "      <th></th>\n",
              "      <th>id</th>\n",
              "      <th>text</th>\n",
              "      <th>len_token</th>\n",
              "      <th>n_char</th>\n",
              "      <th>ratio</th>\n",
              "      <th>text_v2</th>\n",
              "      <th>text_emojis</th>\n",
              "      <th>detected_text_cansinos</th>\n",
              "      <th>detected_emojis_cansinos</th>\n",
              "      <th>detected_cansinos</th>\n",
              "      <th>text_v3</th>\n",
              "    </tr>\n",
              "  </thead>\n",
              "  <tbody>\n",
              "    <tr>\n",
              "      <th>0</th>\n",
              "      <td>tweet1</td>\n",
              "      <td>Niveles de retraso mental: \\n\\n— Bajo.\\n— Medi...</td>\n",
              "      <td>19</td>\n",
              "      <td>86</td>\n",
              "      <td>0.220930</td>\n",
              "      <td>Niveles de retraso mental: \\n\\n— Bajo.\\n— Medi...</td>\n",
              "      <td></td>\n",
              "      <td>0</td>\n",
              "      <td>0</td>\n",
              "      <td>0</td>\n",
              "      <td>Niveles de retraso mental: \\n\\n— Bajo.\\n— Medi...</td>\n",
              "    </tr>\n",
              "    <tr>\n",
              "      <th>1</th>\n",
              "      <td>tweet2</td>\n",
              "      <td>—Vamos Luke desenfunda tu sable, demuestra tu ...</td>\n",
              "      <td>22</td>\n",
              "      <td>140</td>\n",
              "      <td>0.157143</td>\n",
              "      <td>—Vamos Luke desenfunda tu sable, demuestra tu ...</td>\n",
              "      <td></td>\n",
              "      <td>0</td>\n",
              "      <td>0</td>\n",
              "      <td>0</td>\n",
              "      <td>—Vamos Luke desenfunda tu sable, demuestra tu ...</td>\n",
              "    </tr>\n",
              "    <tr>\n",
              "      <th>2</th>\n",
              "      <td>tweet3</td>\n",
              "      <td>- ¿Te ofrezco algo?, ¿Agua, café, mi corazón, ...</td>\n",
              "      <td>21</td>\n",
              "      <td>112</td>\n",
              "      <td>0.187500</td>\n",
              "      <td>- ¿Te ofrezco algo?, ¿Agua, café, mi corazón, ...</td>\n",
              "      <td></td>\n",
              "      <td>1</td>\n",
              "      <td>0</td>\n",
              "      <td>1</td>\n",
              "      <td>- ¿Te ofrezco algo?, ¿Agua, café, mi corazón, ...</td>\n",
              "    </tr>\n",
              "    <tr>\n",
              "      <th>3</th>\n",
              "      <td>tweet4</td>\n",
              "      <td>No se porqué me hago la cabeza deooos</td>\n",
              "      <td>8</td>\n",
              "      <td>37</td>\n",
              "      <td>0.216216</td>\n",
              "      <td>No se porqué me hago la cabeza deooos</td>\n",
              "      <td></td>\n",
              "      <td>1</td>\n",
              "      <td>0</td>\n",
              "      <td>1</td>\n",
              "      <td>No se porqué me hago la cabeza deos</td>\n",
              "    </tr>\n",
              "    <tr>\n",
              "      <th>4</th>\n",
              "      <td>tweet5</td>\n",
              "      <td>Quisiera saber que hago durante la siesta de l...</td>\n",
              "      <td>20</td>\n",
              "      <td>106</td>\n",
              "      <td>0.188679</td>\n",
              "      <td>Quisiera saber que hago durante la siesta de l...</td>\n",
              "      <td></td>\n",
              "      <td>0</td>\n",
              "      <td>0</td>\n",
              "      <td>0</td>\n",
              "      <td>Quisiera saber que hago durante la siesta de l...</td>\n",
              "    </tr>\n",
              "    <tr>\n",
              "      <th>5</th>\n",
              "      <td>tweet6</td>\n",
              "      <td>La persona que te dice que no se arrepiente de...</td>\n",
              "      <td>26</td>\n",
              "      <td>120</td>\n",
              "      <td>0.216667</td>\n",
              "      <td>La persona que te dice que no se arrepiente de...</td>\n",
              "      <td></td>\n",
              "      <td>0</td>\n",
              "      <td>0</td>\n",
              "      <td>0</td>\n",
              "      <td>La persona que te dice que no se arrepiente de...</td>\n",
              "    </tr>\n",
              "    <tr>\n",
              "      <th>6</th>\n",
              "      <td>tweet7</td>\n",
              "      <td>—Buenas don Pepe, ¿me vende un litro de leche?...</td>\n",
              "      <td>19</td>\n",
              "      <td>112</td>\n",
              "      <td>0.169643</td>\n",
              "      <td>—Buenas don Pepe, ¿me vende un litro de leche?...</td>\n",
              "      <td></td>\n",
              "      <td>1</td>\n",
              "      <td>0</td>\n",
              "      <td>1</td>\n",
              "      <td>—Buenas don Pepe, ¿me vende un litro de leche?...</td>\n",
              "    </tr>\n",
              "    <tr>\n",
              "      <th>7</th>\n",
              "      <td>tweet8</td>\n",
              "      <td>Meeee aburro</td>\n",
              "      <td>2</td>\n",
              "      <td>12</td>\n",
              "      <td>0.166667</td>\n",
              "      <td>Meeee aburro</td>\n",
              "      <td></td>\n",
              "      <td>1</td>\n",
              "      <td>0</td>\n",
              "      <td>1</td>\n",
              "      <td>Me aburro</td>\n",
              "    </tr>\n",
              "    <tr>\n",
              "      <th>8</th>\n",
              "      <td>tweet9</td>\n",
              "      <td>Macri le dijo las gordas que usar calzas está ...</td>\n",
              "      <td>10</td>\n",
              "      <td>51</td>\n",
              "      <td>0.196078</td>\n",
              "      <td>Macri le dijo las gordas que usar calzas está ...</td>\n",
              "      <td></td>\n",
              "      <td>0</td>\n",
              "      <td>0</td>\n",
              "      <td>0</td>\n",
              "      <td>Macri le dijo las gordas que usar calzas está ...</td>\n",
              "    </tr>\n",
              "    <tr>\n",
              "      <th>9</th>\n",
              "      <td>tweet10</td>\n",
              "      <td>JAVIER CHICALITO HERNANDEZ *7</td>\n",
              "      <td>4</td>\n",
              "      <td>29</td>\n",
              "      <td>0.137931</td>\n",
              "      <td>JAVIER CHICALITO HERNANDEZ *7</td>\n",
              "      <td></td>\n",
              "      <td>0</td>\n",
              "      <td>0</td>\n",
              "      <td>0</td>\n",
              "      <td>JAVIER CHICALITO HERNANDEZ *7</td>\n",
              "    </tr>\n",
              "  </tbody>\n",
              "</table>\n",
              "</div>"
            ],
            "text/plain": [
              "        id  ...                                            text_v3\n",
              "0   tweet1  ...  Niveles de retraso mental: \\n\\n— Bajo.\\n— Medi...\n",
              "1   tweet2  ...  —Vamos Luke desenfunda tu sable, demuestra tu ...\n",
              "2   tweet3  ...  - ¿Te ofrezco algo?, ¿Agua, café, mi corazón, ...\n",
              "3   tweet4  ...                No se porqué me hago la cabeza deos\n",
              "4   tweet5  ...  Quisiera saber que hago durante la siesta de l...\n",
              "5   tweet6  ...  La persona que te dice que no se arrepiente de...\n",
              "6   tweet7  ...  —Buenas don Pepe, ¿me vende un litro de leche?...\n",
              "7   tweet8  ...                                          Me aburro\n",
              "8   tweet9  ...  Macri le dijo las gordas que usar calzas está ...\n",
              "9  tweet10  ...                      JAVIER CHICALITO HERNANDEZ *7\n",
              "\n",
              "[10 rows x 11 columns]"
            ]
          },
          "metadata": {
            "tags": []
          },
          "execution_count": 629
        }
      ]
    },
    {
      "cell_type": "markdown",
      "metadata": {
        "id": "J5mKE0s-Iwyi"
      },
      "source": [
        "---\n",
        "---\n",
        "\n",
        "# SpellChecker (Corrector ortográfico)"
      ]
    },
    {
      "cell_type": "code",
      "metadata": {
        "id": "y4NFs9wbJUOh"
      },
      "source": [
        "# SpellChecker creo que no hace falta, pero por si acaso la dejo\n",
        "# !pip install SpellChecker"
      ],
      "execution_count": 630,
      "outputs": []
    },
    {
      "cell_type": "code",
      "metadata": {
        "id": "oqRUmrkeJS24"
      },
      "source": [
        "# pyspellchecker si hace falta instalarla\n",
        "# %%capture\n",
        "# !pip install pyspellchecker\n",
        "from spellchecker import SpellChecker"
      ],
      "execution_count": 631,
      "outputs": []
    },
    {
      "cell_type": "code",
      "metadata": {
        "id": "Itqtu20aePBd"
      },
      "source": [
        "# Con distance=1 el corrector es más conservador \n",
        "spell_check = SpellChecker(language='es', distance=1) # Gracias Yoan\n",
        "# spell_check.correction(\"-\")\n",
        "# (9spell_check  = SpellChecker(language='es', distance=100)\n",
        "# spell_check.correction(\"chicxs cómo hestais\")"
      ],
      "execution_count": 632,
      "outputs": []
    },
    {
      "cell_type": "code",
      "metadata": {
        "id": "aDDGqY57dyZY"
      },
      "source": [
        "def corrector_ortografico(tweet):\n",
        "  tweet = tweet.replace('\\n', '').split(' ')\n",
        "  corrected_tweet = [spell_check.correction(token) for token in tweet if token != '']\n",
        "\n",
        "  return ' '.join(corrected_tweet)\n",
        "\n",
        "def corrector_corpus(corpus):\n",
        "  return list(map(corrector_ortografico, corpus))"
      ],
      "execution_count": 633,
      "outputs": []
    },
    {
      "cell_type": "code",
      "metadata": {
        "id": "9rqxyK6lhhcy"
      },
      "source": [
        "text['text_v4'] = corrector_corpus(text['text_v3'])"
      ],
      "execution_count": 634,
      "outputs": []
    },
    {
      "cell_type": "code",
      "metadata": {
        "id": "CZcxEdQYJADg"
      },
      "source": [
        "# text[['text_v3', 'text_v4']]"
      ],
      "execution_count": 635,
      "outputs": []
    },
    {
      "cell_type": "markdown",
      "metadata": {
        "id": "mAHq7-UxsXQk"
      },
      "source": [
        "---\n",
        "---\n",
        "\n",
        "# Obtención de Stop Words"
      ]
    },
    {
      "cell_type": "code",
      "metadata": {
        "id": "_wIzMFmFsSL0"
      },
      "source": [
        "# %%capture\n",
        "# !pip install stop_words"
      ],
      "execution_count": 636,
      "outputs": []
    },
    {
      "cell_type": "code",
      "metadata": {
        "colab": {
          "base_uri": "https://localhost:8080/"
        },
        "id": "JkMEdYs0scJi",
        "outputId": "0105d50c-4756-48ef-d565-ee672775ff6a"
      },
      "source": [
        "from stop_words import get_stop_words # Se añade librería para obtener las stop_word de cualquier idioma\n",
        "!wget \"https://raw.githubusercontent.com/jibt1/competition_group/main/Tareas/datasets/more_stop_words.txt\"\n",
        "\n",
        "# Se obtienen las stop_words en español\n",
        "import pickle\n",
        "with open(\"more_stop_words.txt\", \"rb\") as f:\n",
        "  list_test = pickle.load(f)\n",
        "\n",
        "stop_words = get_stop_words(\"spanish\")\n",
        "more_stop_words = stop_words + list_test\n",
        "more_stop_words.sort()"
      ],
      "execution_count": 637,
      "outputs": [
        {
          "output_type": "stream",
          "text": [
            "--2021-05-22 10:24:25--  https://raw.githubusercontent.com/jibt1/competition_group/main/Tareas/datasets/more_stop_words.txt\n",
            "Resolving raw.githubusercontent.com (raw.githubusercontent.com)... 185.199.108.133, 185.199.109.133, 185.199.110.133, ...\n",
            "Connecting to raw.githubusercontent.com (raw.githubusercontent.com)|185.199.108.133|:443... connected.\n",
            "HTTP request sent, awaiting response... 200 OK\n",
            "Length: 10258 (10K) [application/octet-stream]\n",
            "Saving to: ‘more_stop_words.txt.9’\n",
            "\n",
            "\rmore_stop_words.txt   0%[                    ]       0  --.-KB/s               \rmore_stop_words.txt 100%[===================>]  10.02K  --.-KB/s    in 0s      \n",
            "\n",
            "2021-05-22 10:24:26 (59.9 MB/s) - ‘more_stop_words.txt.9’ saved [10258/10258]\n",
            "\n"
          ],
          "name": "stdout"
        }
      ]
    },
    {
      "cell_type": "markdown",
      "metadata": {
        "id": "plCYOpqytS6q"
      },
      "source": [
        "# ELIMINACIÓN DE IDIOMAS ALEJADOS DEL ESPAÑOL"
      ]
    },
    {
      "cell_type": "code",
      "metadata": {
        "id": "VwRexGeKt7Zo"
      },
      "source": [
        "# !pip install spacy_langdetect"
      ],
      "execution_count": 638,
      "outputs": []
    },
    {
      "cell_type": "code",
      "metadata": {
        "id": "5hlWpW9kyD8n"
      },
      "source": [
        "# frase de prueba\n",
        "# text = '¿Hola cómo سمبأسكمق estáis? 종현아생일축하해'"
      ],
      "execution_count": 639,
      "outputs": []
    },
    {
      "cell_type": "code",
      "metadata": {
        "colab": {
          "base_uri": "https://localhost:8080/",
          "height": 1000
        },
        "id": "gsY5GPpMta-e",
        "outputId": "e58fdfe1-fee9-4c96-94bb-481142059e18"
      },
      "source": [
        "import spacy\n",
        "from spacy_langdetect import LanguageDetector\n",
        "\n",
        "# sentence level language detection\n",
        "dict_ = {}\n",
        "\n",
        "nlp = spacy.load('en')\n",
        "nlp.add_pipe(LanguageDetector(), name='language_detector', last=True)\n",
        "\n",
        "# Eliminamos palabras koreanas, vietnamitas, japonesas o árabes\n",
        "L = ['ko', 'vi', 'ja', 'ar']\n",
        "df_cleaned_sentences_list = df_cleaned_sentences['sentences_without_emojis'].to_list()\n",
        "df_cleaned_sentences_list = text['text_v4'].to_list()\n",
        "for index, sentence in enumerate(df_cleaned_sentences_list):\n",
        "  doc = nlp(sentence)\n",
        "  for subsent in doc.sents:\n",
        "    if subsent._.language['language'] in L:\n",
        "      df_cleaned_sentences_list[index] = sentence.replace(subsent.text,'')\n",
        "df_cleaned_sentences_list\n",
        "\n",
        "text['text_v5'] = df_cleaned_sentences_list\n",
        "\n",
        "text"
      ],
      "execution_count": 640,
      "outputs": [
        {
          "output_type": "execute_result",
          "data": {
            "text/html": [
              "<div>\n",
              "<style scoped>\n",
              "    .dataframe tbody tr th:only-of-type {\n",
              "        vertical-align: middle;\n",
              "    }\n",
              "\n",
              "    .dataframe tbody tr th {\n",
              "        vertical-align: top;\n",
              "    }\n",
              "\n",
              "    .dataframe thead th {\n",
              "        text-align: right;\n",
              "    }\n",
              "</style>\n",
              "<table border=\"1\" class=\"dataframe\">\n",
              "  <thead>\n",
              "    <tr style=\"text-align: right;\">\n",
              "      <th></th>\n",
              "      <th>id</th>\n",
              "      <th>text</th>\n",
              "      <th>len_token</th>\n",
              "      <th>n_char</th>\n",
              "      <th>ratio</th>\n",
              "      <th>text_v2</th>\n",
              "      <th>text_emojis</th>\n",
              "      <th>detected_text_cansinos</th>\n",
              "      <th>detected_emojis_cansinos</th>\n",
              "      <th>detected_cansinos</th>\n",
              "      <th>text_v3</th>\n",
              "      <th>text_v4</th>\n",
              "      <th>text_v5</th>\n",
              "    </tr>\n",
              "  </thead>\n",
              "  <tbody>\n",
              "    <tr>\n",
              "      <th>0</th>\n",
              "      <td>tweet1</td>\n",
              "      <td>Niveles de retraso mental: \\n\\n— Bajo.\\n— Medi...</td>\n",
              "      <td>19</td>\n",
              "      <td>86</td>\n",
              "      <td>0.220930</td>\n",
              "      <td>Niveles de retraso mental: \\n\\n— Bajo.\\n— Medi...</td>\n",
              "      <td></td>\n",
              "      <td>0</td>\n",
              "      <td>0</td>\n",
              "      <td>0</td>\n",
              "      <td>Niveles de retraso mental: \\n\\n— Bajo.\\n— Medi...</td>\n",
              "      <td>Niveles de retraso mental a Bajo.— Medio.— Alt...</td>\n",
              "      <td>Niveles de retraso mental a Bajo.— Medio.— Alt...</td>\n",
              "    </tr>\n",
              "    <tr>\n",
              "      <th>1</th>\n",
              "      <td>tweet2</td>\n",
              "      <td>—Vamos Luke desenfunda tu sable, demuestra tu ...</td>\n",
              "      <td>22</td>\n",
              "      <td>140</td>\n",
              "      <td>0.157143</td>\n",
              "      <td>—Vamos Luke desenfunda tu sable, demuestra tu ...</td>\n",
              "      <td></td>\n",
              "      <td>0</td>\n",
              "      <td>0</td>\n",
              "      <td>0</td>\n",
              "      <td>—Vamos Luke desenfunda tu sable, demuestra tu ...</td>\n",
              "      <td>vamos Luke desenfunda tu sable demuestra tu od...</td>\n",
              "      <td>vamos Luke desenfunda tu sable demuestra tu od...</td>\n",
              "    </tr>\n",
              "    <tr>\n",
              "      <th>2</th>\n",
              "      <td>tweet3</td>\n",
              "      <td>- ¿Te ofrezco algo?, ¿Agua, café, mi corazón, ...</td>\n",
              "      <td>21</td>\n",
              "      <td>112</td>\n",
              "      <td>0.187500</td>\n",
              "      <td>- ¿Te ofrezco algo?, ¿Agua, café, mi corazón, ...</td>\n",
              "      <td></td>\n",
              "      <td>1</td>\n",
              "      <td>0</td>\n",
              "      <td>1</td>\n",
              "      <td>- ¿Te ofrezco algo?, ¿Agua, café, mi corazón, ...</td>\n",
              "      <td>- te ofrezco algo?, ¿Agua, café mi corazón mi ...</td>\n",
              "      <td>- te ofrezco algo?, ¿Agua, café mi corazón mi ...</td>\n",
              "    </tr>\n",
              "    <tr>\n",
              "      <th>3</th>\n",
              "      <td>tweet4</td>\n",
              "      <td>No se porqué me hago la cabeza deooos</td>\n",
              "      <td>8</td>\n",
              "      <td>37</td>\n",
              "      <td>0.216216</td>\n",
              "      <td>No se porqué me hago la cabeza deooos</td>\n",
              "      <td></td>\n",
              "      <td>1</td>\n",
              "      <td>0</td>\n",
              "      <td>1</td>\n",
              "      <td>No se porqué me hago la cabeza deos</td>\n",
              "      <td>No se porqué me hago la cabeza deos</td>\n",
              "      <td>No se porqué me hago la cabeza deos</td>\n",
              "    </tr>\n",
              "    <tr>\n",
              "      <th>4</th>\n",
              "      <td>tweet5</td>\n",
              "      <td>Quisiera saber que hago durante la siesta de l...</td>\n",
              "      <td>20</td>\n",
              "      <td>106</td>\n",
              "      <td>0.188679</td>\n",
              "      <td>Quisiera saber que hago durante la siesta de l...</td>\n",
              "      <td></td>\n",
              "      <td>0</td>\n",
              "      <td>0</td>\n",
              "      <td>0</td>\n",
              "      <td>Quisiera saber que hago durante la siesta de l...</td>\n",
              "      <td>Quisiera saber que hago durante la siesta de l...</td>\n",
              "      <td>Quisiera saber que hago durante la siesta de l...</td>\n",
              "    </tr>\n",
              "    <tr>\n",
              "      <th>5</th>\n",
              "      <td>tweet6</td>\n",
              "      <td>La persona que te dice que no se arrepiente de...</td>\n",
              "      <td>26</td>\n",
              "      <td>120</td>\n",
              "      <td>0.216667</td>\n",
              "      <td>La persona que te dice que no se arrepiente de...</td>\n",
              "      <td></td>\n",
              "      <td>0</td>\n",
              "      <td>0</td>\n",
              "      <td>0</td>\n",
              "      <td>La persona que te dice que no se arrepiente de...</td>\n",
              "      <td>La persona que te dice que no se arrepiente de...</td>\n",
              "      <td>La persona que te dice que no se arrepiente de...</td>\n",
              "    </tr>\n",
              "    <tr>\n",
              "      <th>6</th>\n",
              "      <td>tweet7</td>\n",
              "      <td>—Buenas don Pepe, ¿me vende un litro de leche?...</td>\n",
              "      <td>19</td>\n",
              "      <td>112</td>\n",
              "      <td>0.169643</td>\n",
              "      <td>—Buenas don Pepe, ¿me vende un litro de leche?...</td>\n",
              "      <td></td>\n",
              "      <td>1</td>\n",
              "      <td>0</td>\n",
              "      <td>1</td>\n",
              "      <td>—Buenas don Pepe, ¿me vende un litro de leche?...</td>\n",
              "      <td>buenas don pepe me vende un litro de leche?—¿E...</td>\n",
              "      <td>buenas don pepe me vende un litro de leche?—¿E...</td>\n",
              "    </tr>\n",
              "    <tr>\n",
              "      <th>7</th>\n",
              "      <td>tweet8</td>\n",
              "      <td>Meeee aburro</td>\n",
              "      <td>2</td>\n",
              "      <td>12</td>\n",
              "      <td>0.166667</td>\n",
              "      <td>Meeee aburro</td>\n",
              "      <td></td>\n",
              "      <td>1</td>\n",
              "      <td>0</td>\n",
              "      <td>1</td>\n",
              "      <td>Me aburro</td>\n",
              "      <td>Me aburro</td>\n",
              "      <td>Me aburro</td>\n",
              "    </tr>\n",
              "    <tr>\n",
              "      <th>8</th>\n",
              "      <td>tweet9</td>\n",
              "      <td>Macri le dijo las gordas que usar calzas está ...</td>\n",
              "      <td>10</td>\n",
              "      <td>51</td>\n",
              "      <td>0.196078</td>\n",
              "      <td>Macri le dijo las gordas que usar calzas está ...</td>\n",
              "      <td></td>\n",
              "      <td>0</td>\n",
              "      <td>0</td>\n",
              "      <td>0</td>\n",
              "      <td>Macri le dijo las gordas que usar calzas está ...</td>\n",
              "      <td>mari le dijo las gordas que usar calzas está bien</td>\n",
              "      <td>mari le dijo las gordas que usar calzas está bien</td>\n",
              "    </tr>\n",
              "    <tr>\n",
              "      <th>9</th>\n",
              "      <td>tweet10</td>\n",
              "      <td>JAVIER CHICALITO HERNANDEZ *7</td>\n",
              "      <td>4</td>\n",
              "      <td>29</td>\n",
              "      <td>0.137931</td>\n",
              "      <td>JAVIER CHICALITO HERNANDEZ *7</td>\n",
              "      <td></td>\n",
              "      <td>0</td>\n",
              "      <td>0</td>\n",
              "      <td>0</td>\n",
              "      <td>JAVIER CHICALITO HERNANDEZ *7</td>\n",
              "      <td>JAVIER CHICALITO hernández *7</td>\n",
              "      <td>JAVIER CHICALITO hernández *7</td>\n",
              "    </tr>\n",
              "  </tbody>\n",
              "</table>\n",
              "</div>"
            ],
            "text/plain": [
              "        id  ...                                            text_v5\n",
              "0   tweet1  ...  Niveles de retraso mental a Bajo.— Medio.— Alt...\n",
              "1   tweet2  ...  vamos Luke desenfunda tu sable demuestra tu od...\n",
              "2   tweet3  ...  - te ofrezco algo?, ¿Agua, café mi corazón mi ...\n",
              "3   tweet4  ...                No se porqué me hago la cabeza deos\n",
              "4   tweet5  ...  Quisiera saber que hago durante la siesta de l...\n",
              "5   tweet6  ...  La persona que te dice que no se arrepiente de...\n",
              "6   tweet7  ...  buenas don pepe me vende un litro de leche?—¿E...\n",
              "7   tweet8  ...                                          Me aburro\n",
              "8   tweet9  ...  mari le dijo las gordas que usar calzas está bien\n",
              "9  tweet10  ...                      JAVIER CHICALITO hernández *7\n",
              "\n",
              "[10 rows x 13 columns]"
            ]
          },
          "metadata": {
            "tags": []
          },
          "execution_count": 640
        }
      ]
    },
    {
      "cell_type": "markdown",
      "metadata": {
        "id": "Db8Z3XeEyfj1"
      },
      "source": [
        "---\n",
        "---\n",
        "\n",
        "# CREACION MATRIZ WORD CONTEXT DEL TEXTO DEPURADO (SIN EMOJIS y sin idiomas poco habituales)"
      ]
    },
    {
      "cell_type": "code",
      "metadata": {
        "colab": {
          "base_uri": "https://localhost:8080/"
        },
        "id": "x3HmJbsGtz7a",
        "outputId": "2de31e72-67eb-42fb-ecc9-47d4dff59345"
      },
      "source": [
        "from nltk.stem.snowball import SpanishStemmer\n",
        "def spanish_stemmer(sentence):\n",
        "    stemmer = SpanishStemmer()\n",
        "    analyzer = CountVectorizer(binary=False, analyzer='word', stop_words=more_stop_words,\n",
        "                               ngram_range=(1, 1)).build_analyzer()\n",
        "    return (stemmer.stem(word) for word in analyzer(sentence))\n",
        "    \n",
        "from sklearn.feature_extraction.text import CountVectorizer\n",
        "c_vec = CountVectorizer(analyzer=spanish_stemmer, stop_words=more_stop_words, lowercase=True)\n",
        "# tf_idf = TfidfTransformer(smooth_idf=True, use_idf=True)\n",
        "c_vec_mat = c_vec.fit_transform(text['text_v3'])\n",
        "# tf_idf_mat = tf_idf.fit_transform(c_vec_mat)\n",
        "c_vec_mat.shape"
      ],
      "execution_count": 641,
      "outputs": [
        {
          "output_type": "execute_result",
          "data": {
            "text/plain": [
              "(10, 73)"
            ]
          },
          "metadata": {
            "tags": []
          },
          "execution_count": 641
        }
      ]
    },
    {
      "cell_type": "code",
      "metadata": {
        "colab": {
          "base_uri": "https://localhost:8080/"
        },
        "id": "MGnFBGAhzHRi",
        "outputId": "8f4a08a4-7a9a-4d30-9207-aa923e295b83"
      },
      "source": [
        "df_c_vec = pd.DataFrame(c_vec_mat.toarray(), columns=c_vec.get_feature_names())\n",
        "print(df_c_vec)"
      ],
      "execution_count": 642,
      "outputs": [
        {
          "output_type": "stream",
          "text": [
            "   aburr  abus  acost  agu  alcohol  alto  ...  usar  vam  vasit  vend  vid  viej\n",
            "0      0     0      0    0        0     1  ...     0    0      0     0    0     0\n",
            "1      0     0      0    0        0     0  ...     0    1      0     0    0     0\n",
            "2      0     0      0    3        0     0  ...     0    0      0     0    1     0\n",
            "3      0     0      0    0        0     0  ...     0    0      0     0    0     0\n",
            "4      0     0      1    0        0     0  ...     0    0      0     0    0     0\n",
            "5      0     0      0    0        1     0  ...     0    0      0     0    1     0\n",
            "6      0     1      0    0        0     0  ...     0    0      1     1    0     1\n",
            "7      1     0      0    0        0     0  ...     0    0      0     0    0     0\n",
            "8      0     0      0    0        0     0  ...     1    0      0     0    0     0\n",
            "9      0     0      0    0        0     0  ...     0    0      0     0    0     0\n",
            "\n",
            "[10 rows x 73 columns]\n"
          ],
          "name": "stdout"
        }
      ]
    },
    {
      "cell_type": "markdown",
      "metadata": {
        "id": "x5CutgimzyLS"
      },
      "source": [
        "---\n",
        "---\n",
        "\n",
        "# Traducción Corpus\n",
        "\n",
        "# Descripción:\n",
        "\n",
        "Frente a la adversidad que supone que la gran mayoría de modelos desarrollados en HuggingFace se encuentran en Inglés, se ha optado por traducir el corpus al inglés con el pipeline correspondiente. Así, podemos aprovecharlos para hacer Transfer Learning.\n",
        "\n",
        "Puesto que la fama de los transformers les antecede, consideramos que el error de los mismos de cara a las traducciones resulta asumible."
      ]
    },
    {
      "cell_type": "code",
      "metadata": {
        "id": "p54MeEel0qxg"
      },
      "source": [
        "#!pip install transformers\n",
        "#!pip install sentencepiece"
      ],
      "execution_count": 643,
      "outputs": []
    },
    {
      "cell_type": "code",
      "metadata": {
        "id": "PyzSC6zF1hoB"
      },
      "source": [
        "from transformers import AutoTokenizer, AutoModelForSeq2SeqLM\n",
        "from transformers import AutoModelForSequenceClassification, pipeline"
      ],
      "execution_count": 644,
      "outputs": []
    },
    {
      "cell_type": "code",
      "metadata": {
        "id": "hRTYsdk81lK-"
      },
      "source": [
        "# Autotokenizador\n",
        "tokenizer = AutoTokenizer.from_pretrained(\"Helsinki-NLP/opus-mt-es-en\")\n",
        "\n",
        "# Elección/Descarga del modelo Preentrenado\n",
        "model = AutoModelForSeq2SeqLM.from_pretrained(\"Helsinki-NLP/opus-mt-es-en\")"
      ],
      "execution_count": 645,
      "outputs": []
    },
    {
      "cell_type": "code",
      "metadata": {
        "id": "Zlw1G7Q9CzVv"
      },
      "source": [
        "def get_corpus_translation(corpus):\n",
        "  from transformers import pipeline\n",
        "  pline = pipeline(\"translation_es_to_en\", model=model, tokenizer=tokenizer)\n",
        "\n",
        "  def get_tweet_translation(tweet):\n",
        "    return pline(tweet.replace('.', ' <point>'))[0]['translation_text']\n",
        "\n",
        "  return list(map(get_tweet_translation, corpus['text_v5'].to_list()))\n",
        "\n",
        "text['en_text'] = get_corpus_translation(text)\n",
        "\n",
        "def recover_point(tweet):\n",
        "  return tweet.replace(' <point>', '.')\n",
        "\n",
        "def recover_point_corpus(corpus):\n",
        "  return list(map(recover_point, corpus))\n",
        "\n",
        "text['en_text'] = recover_point_corpus(text['en_text'])\n",
        "\n",
        "text = text[['id', 'text', 'text_v2', 'text_v3', 'text_v4', 'text_v5', 'en_text', 'len_token', 'n_char', 'ratio', 'detected_cansinos', 'detected_emojis_cansinos', 'detected_text_cansinos']]\n",
        "text\n",
        "\n",
        "corpus = text.copy()"
      ],
      "execution_count": 646,
      "outputs": []
    },
    {
      "cell_type": "code",
      "metadata": {
        "id": "Zq1StCABmG-P"
      },
      "source": [
        "corpus.to_csv('cleaned_corpus.csv', index=False, sep = ',')"
      ],
      "execution_count": 647,
      "outputs": []
    },
    {
      "cell_type": "code",
      "metadata": {
        "colab": {
          "base_uri": "https://localhost:8080/",
          "height": 606
        },
        "id": "IRlcnsLRnBGW",
        "outputId": "fd33be1f-e031-4fd4-894e-b116b9322d59"
      },
      "source": [
        "test_corpus = pd.read_csv('cleaned_corpus.csv', header=0, sep=',')\n",
        "\n",
        "test_corpus.head()"
      ],
      "execution_count": 649,
      "outputs": [
        {
          "output_type": "execute_result",
          "data": {
            "text/html": [
              "<div>\n",
              "<style scoped>\n",
              "    .dataframe tbody tr th:only-of-type {\n",
              "        vertical-align: middle;\n",
              "    }\n",
              "\n",
              "    .dataframe tbody tr th {\n",
              "        vertical-align: top;\n",
              "    }\n",
              "\n",
              "    .dataframe thead th {\n",
              "        text-align: right;\n",
              "    }\n",
              "</style>\n",
              "<table border=\"1\" class=\"dataframe\">\n",
              "  <thead>\n",
              "    <tr style=\"text-align: right;\">\n",
              "      <th></th>\n",
              "      <th>id</th>\n",
              "      <th>text</th>\n",
              "      <th>text_v2</th>\n",
              "      <th>text_v3</th>\n",
              "      <th>text_v4</th>\n",
              "      <th>text_v5</th>\n",
              "      <th>en_text</th>\n",
              "      <th>len_token</th>\n",
              "      <th>n_char</th>\n",
              "      <th>ratio</th>\n",
              "      <th>detected_cansinos</th>\n",
              "      <th>detected_emojis_cansinos</th>\n",
              "      <th>detected_text_cansinos</th>\n",
              "    </tr>\n",
              "  </thead>\n",
              "  <tbody>\n",
              "    <tr>\n",
              "      <th>0</th>\n",
              "      <td>tweet1</td>\n",
              "      <td>Niveles de retraso mental: \\n\\n— Bajo.\\n— Medi...</td>\n",
              "      <td>Niveles de retraso mental: \\n\\n— Bajo.\\n— Medi...</td>\n",
              "      <td>Niveles de retraso mental: \\n\\n— Bajo.\\n— Medi...</td>\n",
              "      <td>Niveles de retraso mental a Bajo.— Medio.— Alt...</td>\n",
              "      <td>Niveles de retraso mental a Bajo.— Medio.— Alt...</td>\n",
              "      <td>Levels of Mental Retardation to Low.— Medium.—...</td>\n",
              "      <td>19</td>\n",
              "      <td>86</td>\n",
              "      <td>0.220930</td>\n",
              "      <td>0</td>\n",
              "      <td>0</td>\n",
              "      <td>0</td>\n",
              "    </tr>\n",
              "    <tr>\n",
              "      <th>1</th>\n",
              "      <td>tweet2</td>\n",
              "      <td>—Vamos Luke desenfunda tu sable, demuestra tu ...</td>\n",
              "      <td>—Vamos Luke desenfunda tu sable, demuestra tu ...</td>\n",
              "      <td>—Vamos Luke desenfunda tu sable, demuestra tu ...</td>\n",
              "      <td>vamos Luke desenfunda tu sable demuestra tu od...</td>\n",
              "      <td>vamos Luke desenfunda tu sable demuestra tu od...</td>\n",
              "      <td>Come on, Luke, unscrew your saber, prove your ...</td>\n",
              "      <td>22</td>\n",
              "      <td>140</td>\n",
              "      <td>0.157143</td>\n",
              "      <td>0</td>\n",
              "      <td>0</td>\n",
              "      <td>0</td>\n",
              "    </tr>\n",
              "    <tr>\n",
              "      <th>2</th>\n",
              "      <td>tweet3</td>\n",
              "      <td>- ¿Te ofrezco algo?, ¿Agua, café, mi corazón, ...</td>\n",
              "      <td>- ¿Te ofrezco algo?, ¿Agua, café, mi corazón, ...</td>\n",
              "      <td>- ¿Te ofrezco algo?, ¿Agua, café, mi corazón, ...</td>\n",
              "      <td>- te ofrezco algo?, ¿Agua, café mi corazón mi ...</td>\n",
              "      <td>- te ofrezco algo?, ¿Agua, café mi corazón mi ...</td>\n",
              "      <td>- I offer you something?, Water, coffee my hea...</td>\n",
              "      <td>21</td>\n",
              "      <td>112</td>\n",
              "      <td>0.187500</td>\n",
              "      <td>1</td>\n",
              "      <td>0</td>\n",
              "      <td>1</td>\n",
              "    </tr>\n",
              "    <tr>\n",
              "      <th>3</th>\n",
              "      <td>tweet4</td>\n",
              "      <td>No se porqué me hago la cabeza deooos</td>\n",
              "      <td>No se porqué me hago la cabeza deooos</td>\n",
              "      <td>No se porqué me hago la cabeza deos</td>\n",
              "      <td>No se porqué me hago la cabeza deos</td>\n",
              "      <td>No se porqué me hago la cabeza deos</td>\n",
              "      <td>I don't know why I'm doing my head.</td>\n",
              "      <td>8</td>\n",
              "      <td>37</td>\n",
              "      <td>0.216216</td>\n",
              "      <td>1</td>\n",
              "      <td>0</td>\n",
              "      <td>1</td>\n",
              "    </tr>\n",
              "    <tr>\n",
              "      <th>4</th>\n",
              "      <td>tweet5</td>\n",
              "      <td>Quisiera saber que hago durante la siesta de l...</td>\n",
              "      <td>Quisiera saber que hago durante la siesta de l...</td>\n",
              "      <td>Quisiera saber que hago durante la siesta de l...</td>\n",
              "      <td>Quisiera saber que hago durante la siesta de l...</td>\n",
              "      <td>Quisiera saber que hago durante la siesta de l...</td>\n",
              "      <td>I'd like to know what I do during the nap from...</td>\n",
              "      <td>20</td>\n",
              "      <td>106</td>\n",
              "      <td>0.188679</td>\n",
              "      <td>0</td>\n",
              "      <td>0</td>\n",
              "      <td>0</td>\n",
              "    </tr>\n",
              "  </tbody>\n",
              "</table>\n",
              "</div>"
            ],
            "text/plain": [
              "       id  ... detected_text_cansinos\n",
              "0  tweet1  ...                      0\n",
              "1  tweet2  ...                      0\n",
              "2  tweet3  ...                      1\n",
              "3  tweet4  ...                      1\n",
              "4  tweet5  ...                      0\n",
              "\n",
              "[5 rows x 13 columns]"
            ]
          },
          "metadata": {
            "tags": []
          },
          "execution_count": 649
        }
      ]
    },
    {
      "cell_type": "markdown",
      "metadata": {
        "id": "WbrUBiTrX93k"
      },
      "source": [
        "**I'm bored** antes se traducía como **meeee bored**, así que hemos ganado en calidad.\n",
        "\n",
        "Generar a partir de text_v2, text_v3 donde se pase text_v2 y se haga el spell_checker"
      ]
    }
  ]
}