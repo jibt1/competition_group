{
  "nbformat": 4,
  "nbformat_minor": 0,
  "metadata": {
    "colab": {
      "name": "PreprocesadoTextos_SuperFinalV.ipynb",
      "provenance": [],
      "collapsed_sections": [],
      "toc_visible": true
    },
    "kernelspec": {
      "name": "python3",
      "display_name": "Python 3"
    },
    "language_info": {
      "name": "python"
    }
  },
  "cells": [
    {
      "cell_type": "markdown",
      "metadata": {
        "id": "2Mj-ks6fqT25"
      },
      "source": [
        " # Todas las cuestiones relativas al preprocesado figuran en este Collab"
      ]
    },
    {
      "cell_type": "markdown",
      "metadata": {
        "id": "Mrsy19b21q6J"
      },
      "source": [
        "#### **Recordatorio**: aunque todo este preprocesado se haya hecho en grupo, se recuerda que la redacción ha de ser personalizada."
      ]
    },
    {
      "cell_type": "markdown",
      "metadata": {
        "id": "73QBKRpzqasp"
      },
      "source": [
        "---\n",
        "---\n",
        "\n",
        "# Length Features\n",
        "\n",
        "Aquí se recogen algunas variables relacionadas con la longitud de la frase tanto a nivel de token como a nivel de caracter."
      ]
    },
    {
      "cell_type": "code",
      "metadata": {
        "id": "rPxleGp6p6BH"
      },
      "source": [
        "import pandas as pd\n",
        "train_dataframe = pd.read_csv(\"https://raw.githubusercontent.com/jibt1/competition_group/main/Tareas/datasets/haha_2021_train.csv\", sep=',')"
      ],
      "execution_count": 148,
      "outputs": []
    },
    {
      "cell_type": "code",
      "metadata": {
        "colab": {
          "base_uri": "https://localhost:8080/"
        },
        "id": "-fHi_3JGrAS1",
        "outputId": "ad4f8275-3ce5-4ac3-c825-35abc577883f"
      },
      "source": [
        "train_dataframe.columns"
      ],
      "execution_count": 149,
      "outputs": [
        {
          "output_type": "execute_result",
          "data": {
            "text/plain": [
              "Index(['id', 'text', 'is_humor', 'votes_no', 'votes_1', 'votes_2', 'votes_3',\n",
              "       'votes_4', 'votes_5', 'humor_rating', 'humor_mechanism',\n",
              "       'humor_target'],\n",
              "      dtype='object')"
            ]
          },
          "metadata": {
            "tags": []
          },
          "execution_count": 149
        }
      ]
    },
    {
      "cell_type": "code",
      "metadata": {
        "id": "O0P3h2Zvqxqz"
      },
      "source": [
        "text = train_dataframe[['id', 'text', 'is_humor', 'votes_no', 'votes_1', 'votes_2', 'votes_3',\n",
        "       'votes_4', 'votes_5', 'humor_rating', 'humor_mechanism',\n",
        "       'humor_target']]\n",
        "#text = text.iloc[4650:4660,:] # comentar esta"
      ],
      "execution_count": 150,
      "outputs": []
    },
    {
      "cell_type": "code",
      "metadata": {
        "colab": {
          "base_uri": "https://localhost:8080/",
          "height": 462
        },
        "id": "_YWgPaW5qswt",
        "outputId": "b6dd5d7b-cb3f-4228-d63f-5109c2fa647c"
      },
      "source": [
        "def len_token(tweet):\n",
        "  tweet_tokens = tweet.replace('\\n', ' ').split(' ')\n",
        "  return len(tweet_tokens)\n",
        "def n_characters_tweet(tweet):\n",
        "  tweet = tweet.replace('\\n', ' ')\n",
        "  return len(tweet)\n",
        "\n",
        "def get_len_token(text):\n",
        "  return list(map(len_token, text['text'].to_list()))\n",
        "\n",
        "def get_n_characters_tweet(text):\n",
        "  return list(map(n_characters_tweet, text['text'].to_list()))\n",
        "\n",
        "def get_n_characters_tweet(text):\n",
        "  return list(map(n_characters_tweet, text['text'].to_list()))\n",
        "\n",
        "text['len_token'] = get_len_token(text)\n",
        "\n",
        "text['n_char'] = get_n_characters_tweet(text)\n",
        "\n",
        "text['ratio'] = text['len_token']/text['n_char']\n",
        "\n",
        "text"
      ],
      "execution_count": 151,
      "outputs": [
        {
          "output_type": "execute_result",
          "data": {
            "text/html": [
              "<div>\n",
              "<style scoped>\n",
              "    .dataframe tbody tr th:only-of-type {\n",
              "        vertical-align: middle;\n",
              "    }\n",
              "\n",
              "    .dataframe tbody tr th {\n",
              "        vertical-align: top;\n",
              "    }\n",
              "\n",
              "    .dataframe thead th {\n",
              "        text-align: right;\n",
              "    }\n",
              "</style>\n",
              "<table border=\"1\" class=\"dataframe\">\n",
              "  <thead>\n",
              "    <tr style=\"text-align: right;\">\n",
              "      <th></th>\n",
              "      <th>id</th>\n",
              "      <th>text</th>\n",
              "      <th>is_humor</th>\n",
              "      <th>votes_no</th>\n",
              "      <th>votes_1</th>\n",
              "      <th>votes_2</th>\n",
              "      <th>votes_3</th>\n",
              "      <th>votes_4</th>\n",
              "      <th>votes_5</th>\n",
              "      <th>humor_rating</th>\n",
              "      <th>humor_mechanism</th>\n",
              "      <th>humor_target</th>\n",
              "      <th>len_token</th>\n",
              "      <th>n_char</th>\n",
              "      <th>ratio</th>\n",
              "    </tr>\n",
              "  </thead>\n",
              "  <tbody>\n",
              "    <tr>\n",
              "      <th>4650</th>\n",
              "      <td>tweet4651</td>\n",
              "      <td>“Te voy a dejar encerrado todo el día y sin In...</td>\n",
              "      <td>1</td>\n",
              "      <td>0</td>\n",
              "      <td>2</td>\n",
              "      <td>0</td>\n",
              "      <td>2</td>\n",
              "      <td>1</td>\n",
              "      <td>0</td>\n",
              "      <td>2.40</td>\n",
              "      <td>NaN</td>\n",
              "      <td>NaN</td>\n",
              "      <td>30</td>\n",
              "      <td>139</td>\n",
              "      <td>0.215827</td>\n",
              "    </tr>\n",
              "    <tr>\n",
              "      <th>4651</th>\n",
              "      <td>tweet4652</td>\n",
              "      <td>Es verdad eso que dicen que después de los qui...</td>\n",
              "      <td>0</td>\n",
              "      <td>3</td>\n",
              "      <td>0</td>\n",
              "      <td>0</td>\n",
              "      <td>0</td>\n",
              "      <td>0</td>\n",
              "      <td>0</td>\n",
              "      <td>NaN</td>\n",
              "      <td>NaN</td>\n",
              "      <td>NaN</td>\n",
              "      <td>13</td>\n",
              "      <td>73</td>\n",
              "      <td>0.178082</td>\n",
              "    </tr>\n",
              "    <tr>\n",
              "      <th>4652</th>\n",
              "      <td>tweet4653</td>\n",
              "      <td>En mi defensa diré que fui educado mientras El...</td>\n",
              "      <td>0</td>\n",
              "      <td>3</td>\n",
              "      <td>0</td>\n",
              "      <td>0</td>\n",
              "      <td>0</td>\n",
              "      <td>0</td>\n",
              "      <td>0</td>\n",
              "      <td>NaN</td>\n",
              "      <td>NaN</td>\n",
              "      <td>NaN</td>\n",
              "      <td>15</td>\n",
              "      <td>88</td>\n",
              "      <td>0.170455</td>\n",
              "    </tr>\n",
              "    <tr>\n",
              "      <th>4653</th>\n",
              "      <td>tweet4654</td>\n",
              "      <td>Ahorita en la calle escuche a dos vatos decir:...</td>\n",
              "      <td>1</td>\n",
              "      <td>0</td>\n",
              "      <td>2</td>\n",
              "      <td>1</td>\n",
              "      <td>2</td>\n",
              "      <td>0</td>\n",
              "      <td>0</td>\n",
              "      <td>2.00</td>\n",
              "      <td>misunderstanding</td>\n",
              "      <td>NaN</td>\n",
              "      <td>29</td>\n",
              "      <td>136</td>\n",
              "      <td>0.213235</td>\n",
              "    </tr>\n",
              "    <tr>\n",
              "      <th>4654</th>\n",
              "      <td>tweet4655</td>\n",
              "      <td>Eramos mutuals @LOUISCARAJO</td>\n",
              "      <td>0</td>\n",
              "      <td>3</td>\n",
              "      <td>0</td>\n",
              "      <td>0</td>\n",
              "      <td>0</td>\n",
              "      <td>0</td>\n",
              "      <td>0</td>\n",
              "      <td>NaN</td>\n",
              "      <td>NaN</td>\n",
              "      <td>NaN</td>\n",
              "      <td>3</td>\n",
              "      <td>27</td>\n",
              "      <td>0.111111</td>\n",
              "    </tr>\n",
              "    <tr>\n",
              "      <th>4655</th>\n",
              "      <td>tweet4656</td>\n",
              "      <td>Quero desaparecer</td>\n",
              "      <td>0</td>\n",
              "      <td>3</td>\n",
              "      <td>0</td>\n",
              "      <td>0</td>\n",
              "      <td>0</td>\n",
              "      <td>0</td>\n",
              "      <td>0</td>\n",
              "      <td>NaN</td>\n",
              "      <td>NaN</td>\n",
              "      <td>NaN</td>\n",
              "      <td>2</td>\n",
              "      <td>17</td>\n",
              "      <td>0.117647</td>\n",
              "    </tr>\n",
              "    <tr>\n",
              "      <th>4656</th>\n",
              "      <td>tweet4657</td>\n",
              "      <td>Le saque platica a una de ellas, y pues ehhh.\\...</td>\n",
              "      <td>0</td>\n",
              "      <td>3</td>\n",
              "      <td>0</td>\n",
              "      <td>0</td>\n",
              "      <td>0</td>\n",
              "      <td>0</td>\n",
              "      <td>0</td>\n",
              "      <td>NaN</td>\n",
              "      <td>NaN</td>\n",
              "      <td>NaN</td>\n",
              "      <td>22</td>\n",
              "      <td>112</td>\n",
              "      <td>0.196429</td>\n",
              "    </tr>\n",
              "    <tr>\n",
              "      <th>4657</th>\n",
              "      <td>tweet4658</td>\n",
              "      <td>Lo que veo en matemáticas: 我不明白這我不明白這. :|</td>\n",
              "      <td>1</td>\n",
              "      <td>1</td>\n",
              "      <td>1</td>\n",
              "      <td>1</td>\n",
              "      <td>2</td>\n",
              "      <td>0</td>\n",
              "      <td>0</td>\n",
              "      <td>2.25</td>\n",
              "      <td>NaN</td>\n",
              "      <td>NaN</td>\n",
              "      <td>7</td>\n",
              "      <td>41</td>\n",
              "      <td>0.170732</td>\n",
              "    </tr>\n",
              "    <tr>\n",
              "      <th>4658</th>\n",
              "      <td>tweet4659</td>\n",
              "      <td>1-1 Quién desempata? 🤔</td>\n",
              "      <td>0</td>\n",
              "      <td>3</td>\n",
              "      <td>0</td>\n",
              "      <td>0</td>\n",
              "      <td>0</td>\n",
              "      <td>0</td>\n",
              "      <td>0</td>\n",
              "      <td>NaN</td>\n",
              "      <td>NaN</td>\n",
              "      <td>NaN</td>\n",
              "      <td>4</td>\n",
              "      <td>22</td>\n",
              "      <td>0.181818</td>\n",
              "    </tr>\n",
              "    <tr>\n",
              "      <th>4659</th>\n",
              "      <td>tweet4660</td>\n",
              "      <td>Siento q hace una semana se fue y recién van t...</td>\n",
              "      <td>0</td>\n",
              "      <td>3</td>\n",
              "      <td>0</td>\n",
              "      <td>0</td>\n",
              "      <td>0</td>\n",
              "      <td>0</td>\n",
              "      <td>0</td>\n",
              "      <td>NaN</td>\n",
              "      <td>NaN</td>\n",
              "      <td>NaN</td>\n",
              "      <td>20</td>\n",
              "      <td>73</td>\n",
              "      <td>0.273973</td>\n",
              "    </tr>\n",
              "  </tbody>\n",
              "</table>\n",
              "</div>"
            ],
            "text/plain": [
              "             id  ...     ratio\n",
              "4650  tweet4651  ...  0.215827\n",
              "4651  tweet4652  ...  0.178082\n",
              "4652  tweet4653  ...  0.170455\n",
              "4653  tweet4654  ...  0.213235\n",
              "4654  tweet4655  ...  0.111111\n",
              "4655  tweet4656  ...  0.117647\n",
              "4656  tweet4657  ...  0.196429\n",
              "4657  tweet4658  ...  0.170732\n",
              "4658  tweet4659  ...  0.181818\n",
              "4659  tweet4660  ...  0.273973\n",
              "\n",
              "[10 rows x 15 columns]"
            ]
          },
          "metadata": {
            "tags": []
          },
          "execution_count": 151
        }
      ]
    },
    {
      "cell_type": "markdown",
      "metadata": {
        "id": "Vg40bU_6q_0a"
      },
      "source": [
        "---\n",
        "---\n",
        "\n",
        "# Word Emoji Context Matrix. 🤣 😆 😂 \n",
        "\n",
        "Descripción: Extracción/guardado de Emojis y depuración del Corpus\n",
        "\n",
        "Inconvenientes detectados con los emojis:\n",
        "\n",
        "* 1 Resulta que los emojis hemos podido verificar que countvectorizer los ignora. Es decir si las frases fueran solo emojis el shape de la matriz word context sería (1,1), con valor empty.\n",
        "\n",
        "* 2 Aun suponiendo que exista alguna alternativa a countvectorizer muchas personas escriben palabras juntas con emojis, e.g.: 'man👨', lo que podría generar un token más del vocabulario que innecesario. Además pueden escribir varios emojis juntos 👨, 👨👨, 👨👨👨, ... generando también un problema en su identificación.\n",
        "\n",
        "La propuesta ha sido realizar un preproceso como el siguiente. Además, para solucionar el problema de los emoticonos, en lugar de pasárselos a countvectorizer en bruto utilizamos la decodificación a texto de la librería emoji: **emoji.demojize()**"
      ]
    },
    {
      "cell_type": "code",
      "metadata": {
        "id": "pIiT0DQFr7-D",
        "colab": {
          "base_uri": "https://localhost:8080/"
        },
        "outputId": "c86ae4b7-90db-410f-c297-d84d235dd9d3"
      },
      "source": [
        "# %%capture\n",
        "!pip install emoji"
      ],
      "execution_count": 152,
      "outputs": [
        {
          "output_type": "stream",
          "text": [
            "Requirement already satisfied: emoji in /usr/local/lib/python3.7/dist-packages (1.2.0)\n"
          ],
          "name": "stdout"
        }
      ]
    },
    {
      "cell_type": "code",
      "metadata": {
        "id": "8fZg102qqy3x"
      },
      "source": [
        "import emoji"
      ],
      "execution_count": 153,
      "outputs": []
    },
    {
      "cell_type": "code",
      "metadata": {
        "id": "zrtV7mIUrxI6"
      },
      "source": [
        "def extract_emojis(tweet):\n",
        "  return ''.join(c for c in tweet if c in emoji.UNICODE_EMOJI_ENGLISH)\n",
        "\n",
        "def get_emojilist(tweet):\n",
        "  emojistring = extract_emojis(tweet)\n",
        "  emojilist = [emoji for emoji in emojistring]\n",
        "  for emoji in emojilist:\n",
        "    tweet = tweet.replace(emoji, \"\")\n",
        "  return tweet, emojilist\n",
        "\n",
        "def get_emoji_sentence(tweet):\n",
        "  tweet, emojilist = get_emojilist(tweet)\n",
        "  emoji_sentence = emoji.demojize(' '.join(emojilist))\n",
        "  return tweet, emoji_sentence\n",
        "\n",
        "def filter(text_df):\n",
        "  filtered_df = pd.DataFrame(map(get_emoji_sentence, text_df['text'].to_list()))\n",
        "  filtered_df.rename(columns={0: 'sentences_without_emojis', 1: 'emoji_sentences'}, inplace=True)\n",
        "  return filtered_df\n",
        "\n",
        "df_filter_output = filter(text)\n",
        "\n",
        "df_cleaned_sentences = df_filter_output[['sentences_without_emojis']]\n",
        "# df_cleaned_sentences = df_filter_output['emoji_sentences']\n",
        "\n",
        "text['text_v2'] = df_filter_output['sentences_without_emojis'].to_list()\n",
        "\n",
        "emoji_sentences = df_filter_output['emoji_sentences']\n",
        "\n",
        "text['text_emojis'] = emoji_sentences.to_list()\n",
        "\n",
        "\n",
        "def get_emoji_vocab(emoji_sentence):\n",
        "  analyzer = CountVectorizer(binary=False, analyzer='word', # stop_words=more_stop_words,\n",
        "                              ngram_range=(1, 1)).build_analyzer()\n",
        "  return (emoji for emoji in analyzer(emoji_sentence))"
      ],
      "execution_count": 154,
      "outputs": []
    },
    {
      "cell_type": "code",
      "metadata": {
        "id": "RHBFHP-dsILP"
      },
      "source": [
        "from sklearn.feature_extraction.text import  CountVectorizer\n",
        "cv_emoji = CountVectorizer(analyzer=get_emoji_vocab)"
      ],
      "execution_count": 155,
      "outputs": []
    },
    {
      "cell_type": "code",
      "metadata": {
        "id": "QXpdsPjBsOR0"
      },
      "source": [
        "try:\n",
        "  word_context_emoji = cv_emoji.fit_transform(emoji_sentences.to_list())\n",
        "# Just if there is no emoji\n",
        "except ValueError:\n",
        "  emoji_sentences.loc[0,0] = emoji.demojize(\"🆘\")\n",
        "  word_context_emoji = cv_emoji.fit_transform(emoji_sentences.to_list())\n",
        "  \"\"\"emoji_sentences_test = emoji_sentences\"\"\"\n",
        "  \"\"\"emoji_sentences_test.loc[0,0] = \"🆘🆘🆘🆘🆘🆘🆘🆘\"\"\"\n",
        "  \"\"\"text['text_emojis'] = emoji_sentences_test.to_list()\"\"\"\n",
        "# cv_emoji.get_feature_names()"
      ],
      "execution_count": 156,
      "outputs": []
    },
    {
      "cell_type": "code",
      "metadata": {
        "colab": {
          "base_uri": "https://localhost:8080/"
        },
        "id": "kGX1lnvAZLzh",
        "outputId": "100c6797-5548-48bf-afc3-1305900e2bba"
      },
      "source": [
        "cv_emoji.get_feature_names()"
      ],
      "execution_count": 157,
      "outputs": [
        {
          "output_type": "execute_result",
          "data": {
            "text/plain": [
              "['grinning_squinting_face', 'thinking_face']"
            ]
          },
          "metadata": {
            "tags": []
          },
          "execution_count": 157
        }
      ]
    },
    {
      "cell_type": "code",
      "metadata": {
        "colab": {
          "base_uri": "https://localhost:8080/",
          "height": 700
        },
        "id": "C_DfuZRWUbyY",
        "outputId": "49d3a6d9-ecc5-4fa9-a50a-6bbd35c561bf"
      },
      "source": [
        "text"
      ],
      "execution_count": 158,
      "outputs": [
        {
          "output_type": "execute_result",
          "data": {
            "text/html": [
              "<div>\n",
              "<style scoped>\n",
              "    .dataframe tbody tr th:only-of-type {\n",
              "        vertical-align: middle;\n",
              "    }\n",
              "\n",
              "    .dataframe tbody tr th {\n",
              "        vertical-align: top;\n",
              "    }\n",
              "\n",
              "    .dataframe thead th {\n",
              "        text-align: right;\n",
              "    }\n",
              "</style>\n",
              "<table border=\"1\" class=\"dataframe\">\n",
              "  <thead>\n",
              "    <tr style=\"text-align: right;\">\n",
              "      <th></th>\n",
              "      <th>id</th>\n",
              "      <th>text</th>\n",
              "      <th>is_humor</th>\n",
              "      <th>votes_no</th>\n",
              "      <th>votes_1</th>\n",
              "      <th>votes_2</th>\n",
              "      <th>votes_3</th>\n",
              "      <th>votes_4</th>\n",
              "      <th>votes_5</th>\n",
              "      <th>humor_rating</th>\n",
              "      <th>humor_mechanism</th>\n",
              "      <th>humor_target</th>\n",
              "      <th>len_token</th>\n",
              "      <th>n_char</th>\n",
              "      <th>ratio</th>\n",
              "      <th>text_v2</th>\n",
              "      <th>text_emojis</th>\n",
              "    </tr>\n",
              "  </thead>\n",
              "  <tbody>\n",
              "    <tr>\n",
              "      <th>4650</th>\n",
              "      <td>tweet4651</td>\n",
              "      <td>“Te voy a dejar encerrado todo el día y sin In...</td>\n",
              "      <td>1</td>\n",
              "      <td>0</td>\n",
              "      <td>2</td>\n",
              "      <td>0</td>\n",
              "      <td>2</td>\n",
              "      <td>1</td>\n",
              "      <td>0</td>\n",
              "      <td>2.40</td>\n",
              "      <td>NaN</td>\n",
              "      <td>NaN</td>\n",
              "      <td>30</td>\n",
              "      <td>139</td>\n",
              "      <td>0.215827</td>\n",
              "      <td>“Te voy a dejar encerrado todo el día y sin In...</td>\n",
              "      <td></td>\n",
              "    </tr>\n",
              "    <tr>\n",
              "      <th>4651</th>\n",
              "      <td>tweet4652</td>\n",
              "      <td>Es verdad eso que dicen que después de los qui...</td>\n",
              "      <td>0</td>\n",
              "      <td>3</td>\n",
              "      <td>0</td>\n",
              "      <td>0</td>\n",
              "      <td>0</td>\n",
              "      <td>0</td>\n",
              "      <td>0</td>\n",
              "      <td>NaN</td>\n",
              "      <td>NaN</td>\n",
              "      <td>NaN</td>\n",
              "      <td>13</td>\n",
              "      <td>73</td>\n",
              "      <td>0.178082</td>\n",
              "      <td>Es verdad eso que dicen que después de los qui...</td>\n",
              "      <td>:grinning_squinting_face: :grinning_squinting_...</td>\n",
              "    </tr>\n",
              "    <tr>\n",
              "      <th>4652</th>\n",
              "      <td>tweet4653</td>\n",
              "      <td>En mi defensa diré que fui educado mientras El...</td>\n",
              "      <td>0</td>\n",
              "      <td>3</td>\n",
              "      <td>0</td>\n",
              "      <td>0</td>\n",
              "      <td>0</td>\n",
              "      <td>0</td>\n",
              "      <td>0</td>\n",
              "      <td>NaN</td>\n",
              "      <td>NaN</td>\n",
              "      <td>NaN</td>\n",
              "      <td>15</td>\n",
              "      <td>88</td>\n",
              "      <td>0.170455</td>\n",
              "      <td>En mi defensa diré que fui educado mientras El...</td>\n",
              "      <td></td>\n",
              "    </tr>\n",
              "    <tr>\n",
              "      <th>4653</th>\n",
              "      <td>tweet4654</td>\n",
              "      <td>Ahorita en la calle escuche a dos vatos decir:...</td>\n",
              "      <td>1</td>\n",
              "      <td>0</td>\n",
              "      <td>2</td>\n",
              "      <td>1</td>\n",
              "      <td>2</td>\n",
              "      <td>0</td>\n",
              "      <td>0</td>\n",
              "      <td>2.00</td>\n",
              "      <td>misunderstanding</td>\n",
              "      <td>NaN</td>\n",
              "      <td>29</td>\n",
              "      <td>136</td>\n",
              "      <td>0.213235</td>\n",
              "      <td>Ahorita en la calle escuche a dos vatos decir:...</td>\n",
              "      <td></td>\n",
              "    </tr>\n",
              "    <tr>\n",
              "      <th>4654</th>\n",
              "      <td>tweet4655</td>\n",
              "      <td>Eramos mutuals @LOUISCARAJO</td>\n",
              "      <td>0</td>\n",
              "      <td>3</td>\n",
              "      <td>0</td>\n",
              "      <td>0</td>\n",
              "      <td>0</td>\n",
              "      <td>0</td>\n",
              "      <td>0</td>\n",
              "      <td>NaN</td>\n",
              "      <td>NaN</td>\n",
              "      <td>NaN</td>\n",
              "      <td>3</td>\n",
              "      <td>27</td>\n",
              "      <td>0.111111</td>\n",
              "      <td>Eramos mutuals @LOUISCARAJO</td>\n",
              "      <td></td>\n",
              "    </tr>\n",
              "    <tr>\n",
              "      <th>4655</th>\n",
              "      <td>tweet4656</td>\n",
              "      <td>Quero desaparecer</td>\n",
              "      <td>0</td>\n",
              "      <td>3</td>\n",
              "      <td>0</td>\n",
              "      <td>0</td>\n",
              "      <td>0</td>\n",
              "      <td>0</td>\n",
              "      <td>0</td>\n",
              "      <td>NaN</td>\n",
              "      <td>NaN</td>\n",
              "      <td>NaN</td>\n",
              "      <td>2</td>\n",
              "      <td>17</td>\n",
              "      <td>0.117647</td>\n",
              "      <td>Quero desaparecer</td>\n",
              "      <td></td>\n",
              "    </tr>\n",
              "    <tr>\n",
              "      <th>4656</th>\n",
              "      <td>tweet4657</td>\n",
              "      <td>Le saque platica a una de ellas, y pues ehhh.\\...</td>\n",
              "      <td>0</td>\n",
              "      <td>3</td>\n",
              "      <td>0</td>\n",
              "      <td>0</td>\n",
              "      <td>0</td>\n",
              "      <td>0</td>\n",
              "      <td>0</td>\n",
              "      <td>NaN</td>\n",
              "      <td>NaN</td>\n",
              "      <td>NaN</td>\n",
              "      <td>22</td>\n",
              "      <td>112</td>\n",
              "      <td>0.196429</td>\n",
              "      <td>Le saque platica a una de ellas, y pues ehhh.\\...</td>\n",
              "      <td></td>\n",
              "    </tr>\n",
              "    <tr>\n",
              "      <th>4657</th>\n",
              "      <td>tweet4658</td>\n",
              "      <td>Lo que veo en matemáticas: 我不明白這我不明白這. :|</td>\n",
              "      <td>1</td>\n",
              "      <td>1</td>\n",
              "      <td>1</td>\n",
              "      <td>1</td>\n",
              "      <td>2</td>\n",
              "      <td>0</td>\n",
              "      <td>0</td>\n",
              "      <td>2.25</td>\n",
              "      <td>NaN</td>\n",
              "      <td>NaN</td>\n",
              "      <td>7</td>\n",
              "      <td>41</td>\n",
              "      <td>0.170732</td>\n",
              "      <td>Lo que veo en matemáticas: 我不明白這我不明白這. :|</td>\n",
              "      <td></td>\n",
              "    </tr>\n",
              "    <tr>\n",
              "      <th>4658</th>\n",
              "      <td>tweet4659</td>\n",
              "      <td>1-1 Quién desempata? 🤔</td>\n",
              "      <td>0</td>\n",
              "      <td>3</td>\n",
              "      <td>0</td>\n",
              "      <td>0</td>\n",
              "      <td>0</td>\n",
              "      <td>0</td>\n",
              "      <td>0</td>\n",
              "      <td>NaN</td>\n",
              "      <td>NaN</td>\n",
              "      <td>NaN</td>\n",
              "      <td>4</td>\n",
              "      <td>22</td>\n",
              "      <td>0.181818</td>\n",
              "      <td>1-1 Quién desempata?</td>\n",
              "      <td>:thinking_face:</td>\n",
              "    </tr>\n",
              "    <tr>\n",
              "      <th>4659</th>\n",
              "      <td>tweet4660</td>\n",
              "      <td>Siento q hace una semana se fue y recién van t...</td>\n",
              "      <td>0</td>\n",
              "      <td>3</td>\n",
              "      <td>0</td>\n",
              "      <td>0</td>\n",
              "      <td>0</td>\n",
              "      <td>0</td>\n",
              "      <td>0</td>\n",
              "      <td>NaN</td>\n",
              "      <td>NaN</td>\n",
              "      <td>NaN</td>\n",
              "      <td>20</td>\n",
              "      <td>73</td>\n",
              "      <td>0.273973</td>\n",
              "      <td>Siento q hace una semana se fue y recién van t...</td>\n",
              "      <td></td>\n",
              "    </tr>\n",
              "  </tbody>\n",
              "</table>\n",
              "</div>"
            ],
            "text/plain": [
              "             id  ...                                        text_emojis\n",
              "4650  tweet4651  ...                                                   \n",
              "4651  tweet4652  ...  :grinning_squinting_face: :grinning_squinting_...\n",
              "4652  tweet4653  ...                                                   \n",
              "4653  tweet4654  ...                                                   \n",
              "4654  tweet4655  ...                                                   \n",
              "4655  tweet4656  ...                                                   \n",
              "4656  tweet4657  ...                                                   \n",
              "4657  tweet4658  ...                                                   \n",
              "4658  tweet4659  ...                                    :thinking_face:\n",
              "4659  tweet4660  ...                                                   \n",
              "\n",
              "[10 rows x 17 columns]"
            ]
          },
          "metadata": {
            "tags": []
          },
          "execution_count": 158
        }
      ]
    },
    {
      "cell_type": "markdown",
      "metadata": {
        "id": "fvNuLb2w-5ZD"
      },
      "source": [
        "---\n",
        "---\n"
      ]
    },
    {
      "cell_type": "markdown",
      "metadata": {
        "id": "YSNvKkoiBPAN"
      },
      "source": [
        "# Detector de cansinos y corrección de repeticiones innecesarias\n",
        "\n",
        "En twitter hay mucho \"pesao\" con el pulgar \"cansao\" y lo dejan mucho tiempo en el móooooooooovil pulsando una letraaaaa. A todos estos, los consideramos unos pesaos y lo vamos a tener en cuenta. No quieren trabajar.\n",
        "\n",
        "¿Por qué corregiremos también a los pesaos? Porque spellchecker no puede, es fácil ver esto con un ejemplo en código. "
      ]
    },
    {
      "cell_type": "code",
      "metadata": {
        "id": "pDfM0P-AYdTm"
      },
      "source": [
        "def is_cansino(tweet, tolerancia:int=2):\n",
        "  # Consideramos pesados a todos aquellos\n",
        "  # que repitan 3 veces una letra\n",
        "  \"\"\"\n",
        "  Esta función identifica a los pesaos\n",
        "  Args:\n",
        "    tolerancia (int): tolerancia al pesao\n",
        "  \"\"\"\n",
        "  l1 = \"\"\n",
        "  rep = 0\n",
        "  letra = \"\"\n",
        "  tweet_aux = tweet + '<eos>'\n",
        "  for index, letra in enumerate(tweet_aux):\n",
        "      if letra == l1:\n",
        "          rep += 1\n",
        "      elif rep >= tolerancia:\n",
        "          return l1, rep, tolerancia, 1*True\n",
        "      else:\n",
        "        rep = 0\n",
        "        l1 = letra\n",
        "  return letra, 0, tolerancia, 1*False\n",
        "\n",
        "def get_cansinos(corpus):\n",
        "  L = list(map(is_cansino, corpus))\n",
        "  return [ret[3] for ret in L]\n",
        "\n",
        "###################################Ç\n",
        "##### Correccion repeticiones #####\n",
        "###################################\n",
        "\n",
        "# Esto es beta solo corrige la primera\n",
        "# tanda de repeticiones se puede mejorar\n",
        "\n",
        "def tweet_corrector(tweet):\n",
        "    letra, rep, tolerancia, bool_ = is_cansino(tweet)\n",
        "    if bool_ == 1:\n",
        "        tweet = tweet.replace(rep*letra, '')\n",
        "        tweet = tweet_corrector(tweet)\n",
        "    return tweet\n",
        "\n",
        "def corpus_corrector(corpus):\n",
        "    L = list(map(tweet_corrector, corpus))\n",
        "    return L"
      ],
      "execution_count": 159,
      "outputs": []
    },
    {
      "cell_type": "code",
      "metadata": {
        "colab": {
          "base_uri": "https://localhost:8080/",
          "height": 35
        },
        "id": "KafDiR18bkO5",
        "outputId": "72a61ec8-3c8c-47a0-9b57-a60991ebc4e3"
      },
      "source": [
        "\"\"\"\n",
        "text.loc[7,'text_v2'] = 'Meeee aaaaabuuuuurroooooo'\n",
        "text\n",
        "\"\"\""
      ],
      "execution_count": 160,
      "outputs": [
        {
          "output_type": "execute_result",
          "data": {
            "application/vnd.google.colaboratory.intrinsic+json": {
              "type": "string"
            },
            "text/plain": [
              "\"\\ntext.loc[7,'text_v2'] = 'Meeee aaaaabuuuuurroooooo'\\ntext\\n\""
            ]
          },
          "metadata": {
            "tags": []
          },
          "execution_count": 160
        }
      ]
    },
    {
      "cell_type": "code",
      "metadata": {
        "colab": {
          "base_uri": "https://localhost:8080/",
          "height": 700
        },
        "id": "7I8k8XfG-7M3",
        "outputId": "8f0b2408-454c-44e4-b908-ac18b0d29dc5"
      },
      "source": [
        "text['detected_text_cansinos'] = get_cansinos(text['text_v2'].to_list())\n",
        "text['detected_emojis_cansinos'] = get_cansinos(text['text_emojis'].to_list())\n",
        "text['detected_cansinos'] = (text['detected_text_cansinos'] + text['detected_emojis_cansinos']) % 2\n",
        "# text['detected_emojis_cansinos] | text['detected_text_cansinos'] \n",
        "\n",
        "text['text_v3'] = corpus_corrector(text['text_v2'].to_list())\n",
        "\n",
        "text"
      ],
      "execution_count": 161,
      "outputs": [
        {
          "output_type": "execute_result",
          "data": {
            "text/html": [
              "<div>\n",
              "<style scoped>\n",
              "    .dataframe tbody tr th:only-of-type {\n",
              "        vertical-align: middle;\n",
              "    }\n",
              "\n",
              "    .dataframe tbody tr th {\n",
              "        vertical-align: top;\n",
              "    }\n",
              "\n",
              "    .dataframe thead th {\n",
              "        text-align: right;\n",
              "    }\n",
              "</style>\n",
              "<table border=\"1\" class=\"dataframe\">\n",
              "  <thead>\n",
              "    <tr style=\"text-align: right;\">\n",
              "      <th></th>\n",
              "      <th>id</th>\n",
              "      <th>text</th>\n",
              "      <th>is_humor</th>\n",
              "      <th>votes_no</th>\n",
              "      <th>votes_1</th>\n",
              "      <th>votes_2</th>\n",
              "      <th>votes_3</th>\n",
              "      <th>votes_4</th>\n",
              "      <th>votes_5</th>\n",
              "      <th>humor_rating</th>\n",
              "      <th>humor_mechanism</th>\n",
              "      <th>humor_target</th>\n",
              "      <th>len_token</th>\n",
              "      <th>n_char</th>\n",
              "      <th>ratio</th>\n",
              "      <th>text_v2</th>\n",
              "      <th>text_emojis</th>\n",
              "      <th>detected_text_cansinos</th>\n",
              "      <th>detected_emojis_cansinos</th>\n",
              "      <th>detected_cansinos</th>\n",
              "      <th>text_v3</th>\n",
              "    </tr>\n",
              "  </thead>\n",
              "  <tbody>\n",
              "    <tr>\n",
              "      <th>4650</th>\n",
              "      <td>tweet4651</td>\n",
              "      <td>“Te voy a dejar encerrado todo el día y sin In...</td>\n",
              "      <td>1</td>\n",
              "      <td>0</td>\n",
              "      <td>2</td>\n",
              "      <td>0</td>\n",
              "      <td>2</td>\n",
              "      <td>1</td>\n",
              "      <td>0</td>\n",
              "      <td>2.40</td>\n",
              "      <td>NaN</td>\n",
              "      <td>NaN</td>\n",
              "      <td>30</td>\n",
              "      <td>139</td>\n",
              "      <td>0.215827</td>\n",
              "      <td>“Te voy a dejar encerrado todo el día y sin In...</td>\n",
              "      <td></td>\n",
              "      <td>0</td>\n",
              "      <td>0</td>\n",
              "      <td>0</td>\n",
              "      <td>“Te voy a dejar encerrado todo el día y sin In...</td>\n",
              "    </tr>\n",
              "    <tr>\n",
              "      <th>4651</th>\n",
              "      <td>tweet4652</td>\n",
              "      <td>Es verdad eso que dicen que después de los qui...</td>\n",
              "      <td>0</td>\n",
              "      <td>3</td>\n",
              "      <td>0</td>\n",
              "      <td>0</td>\n",
              "      <td>0</td>\n",
              "      <td>0</td>\n",
              "      <td>0</td>\n",
              "      <td>NaN</td>\n",
              "      <td>NaN</td>\n",
              "      <td>NaN</td>\n",
              "      <td>13</td>\n",
              "      <td>73</td>\n",
              "      <td>0.178082</td>\n",
              "      <td>Es verdad eso que dicen que después de los qui...</td>\n",
              "      <td>:grinning_squinting_face: :grinning_squinting_...</td>\n",
              "      <td>0</td>\n",
              "      <td>0</td>\n",
              "      <td>0</td>\n",
              "      <td>Es verdad eso que dicen que después de los qui...</td>\n",
              "    </tr>\n",
              "    <tr>\n",
              "      <th>4652</th>\n",
              "      <td>tweet4653</td>\n",
              "      <td>En mi defensa diré que fui educado mientras El...</td>\n",
              "      <td>0</td>\n",
              "      <td>3</td>\n",
              "      <td>0</td>\n",
              "      <td>0</td>\n",
              "      <td>0</td>\n",
              "      <td>0</td>\n",
              "      <td>0</td>\n",
              "      <td>NaN</td>\n",
              "      <td>NaN</td>\n",
              "      <td>NaN</td>\n",
              "      <td>15</td>\n",
              "      <td>88</td>\n",
              "      <td>0.170455</td>\n",
              "      <td>En mi defensa diré que fui educado mientras El...</td>\n",
              "      <td></td>\n",
              "      <td>0</td>\n",
              "      <td>0</td>\n",
              "      <td>0</td>\n",
              "      <td>En mi defensa diré que fui educado mientras El...</td>\n",
              "    </tr>\n",
              "    <tr>\n",
              "      <th>4653</th>\n",
              "      <td>tweet4654</td>\n",
              "      <td>Ahorita en la calle escuche a dos vatos decir:...</td>\n",
              "      <td>1</td>\n",
              "      <td>0</td>\n",
              "      <td>2</td>\n",
              "      <td>1</td>\n",
              "      <td>2</td>\n",
              "      <td>0</td>\n",
              "      <td>0</td>\n",
              "      <td>2.00</td>\n",
              "      <td>misunderstanding</td>\n",
              "      <td>NaN</td>\n",
              "      <td>29</td>\n",
              "      <td>136</td>\n",
              "      <td>0.213235</td>\n",
              "      <td>Ahorita en la calle escuche a dos vatos decir:...</td>\n",
              "      <td></td>\n",
              "      <td>0</td>\n",
              "      <td>0</td>\n",
              "      <td>0</td>\n",
              "      <td>Ahorita en la calle escuche a dos vatos decir:...</td>\n",
              "    </tr>\n",
              "    <tr>\n",
              "      <th>4654</th>\n",
              "      <td>tweet4655</td>\n",
              "      <td>Eramos mutuals @LOUISCARAJO</td>\n",
              "      <td>0</td>\n",
              "      <td>3</td>\n",
              "      <td>0</td>\n",
              "      <td>0</td>\n",
              "      <td>0</td>\n",
              "      <td>0</td>\n",
              "      <td>0</td>\n",
              "      <td>NaN</td>\n",
              "      <td>NaN</td>\n",
              "      <td>NaN</td>\n",
              "      <td>3</td>\n",
              "      <td>27</td>\n",
              "      <td>0.111111</td>\n",
              "      <td>Eramos mutuals @LOUISCARAJO</td>\n",
              "      <td></td>\n",
              "      <td>0</td>\n",
              "      <td>0</td>\n",
              "      <td>0</td>\n",
              "      <td>Eramos mutuals @LOUISCARAJO</td>\n",
              "    </tr>\n",
              "    <tr>\n",
              "      <th>4655</th>\n",
              "      <td>tweet4656</td>\n",
              "      <td>Quero desaparecer</td>\n",
              "      <td>0</td>\n",
              "      <td>3</td>\n",
              "      <td>0</td>\n",
              "      <td>0</td>\n",
              "      <td>0</td>\n",
              "      <td>0</td>\n",
              "      <td>0</td>\n",
              "      <td>NaN</td>\n",
              "      <td>NaN</td>\n",
              "      <td>NaN</td>\n",
              "      <td>2</td>\n",
              "      <td>17</td>\n",
              "      <td>0.117647</td>\n",
              "      <td>Quero desaparecer</td>\n",
              "      <td></td>\n",
              "      <td>0</td>\n",
              "      <td>0</td>\n",
              "      <td>0</td>\n",
              "      <td>Quero desaparecer</td>\n",
              "    </tr>\n",
              "    <tr>\n",
              "      <th>4656</th>\n",
              "      <td>tweet4657</td>\n",
              "      <td>Le saque platica a una de ellas, y pues ehhh.\\...</td>\n",
              "      <td>0</td>\n",
              "      <td>3</td>\n",
              "      <td>0</td>\n",
              "      <td>0</td>\n",
              "      <td>0</td>\n",
              "      <td>0</td>\n",
              "      <td>0</td>\n",
              "      <td>NaN</td>\n",
              "      <td>NaN</td>\n",
              "      <td>NaN</td>\n",
              "      <td>22</td>\n",
              "      <td>112</td>\n",
              "      <td>0.196429</td>\n",
              "      <td>Le saque platica a una de ellas, y pues ehhh.\\...</td>\n",
              "      <td></td>\n",
              "      <td>1</td>\n",
              "      <td>0</td>\n",
              "      <td>1</td>\n",
              "      <td>Le saque platica a una de ellas, y pues eh.\\ns...</td>\n",
              "    </tr>\n",
              "    <tr>\n",
              "      <th>4657</th>\n",
              "      <td>tweet4658</td>\n",
              "      <td>Lo que veo en matemáticas: 我不明白這我不明白這. :|</td>\n",
              "      <td>1</td>\n",
              "      <td>1</td>\n",
              "      <td>1</td>\n",
              "      <td>1</td>\n",
              "      <td>2</td>\n",
              "      <td>0</td>\n",
              "      <td>0</td>\n",
              "      <td>2.25</td>\n",
              "      <td>NaN</td>\n",
              "      <td>NaN</td>\n",
              "      <td>7</td>\n",
              "      <td>41</td>\n",
              "      <td>0.170732</td>\n",
              "      <td>Lo que veo en matemáticas: 我不明白這我不明白這. :|</td>\n",
              "      <td></td>\n",
              "      <td>0</td>\n",
              "      <td>0</td>\n",
              "      <td>0</td>\n",
              "      <td>Lo que veo en matemáticas: 我不明白這我不明白這. :|</td>\n",
              "    </tr>\n",
              "    <tr>\n",
              "      <th>4658</th>\n",
              "      <td>tweet4659</td>\n",
              "      <td>1-1 Quién desempata? 🤔</td>\n",
              "      <td>0</td>\n",
              "      <td>3</td>\n",
              "      <td>0</td>\n",
              "      <td>0</td>\n",
              "      <td>0</td>\n",
              "      <td>0</td>\n",
              "      <td>0</td>\n",
              "      <td>NaN</td>\n",
              "      <td>NaN</td>\n",
              "      <td>NaN</td>\n",
              "      <td>4</td>\n",
              "      <td>22</td>\n",
              "      <td>0.181818</td>\n",
              "      <td>1-1 Quién desempata?</td>\n",
              "      <td>:thinking_face:</td>\n",
              "      <td>0</td>\n",
              "      <td>0</td>\n",
              "      <td>0</td>\n",
              "      <td>1-1 Quién desempata?</td>\n",
              "    </tr>\n",
              "    <tr>\n",
              "      <th>4659</th>\n",
              "      <td>tweet4660</td>\n",
              "      <td>Siento q hace una semana se fue y recién van t...</td>\n",
              "      <td>0</td>\n",
              "      <td>3</td>\n",
              "      <td>0</td>\n",
              "      <td>0</td>\n",
              "      <td>0</td>\n",
              "      <td>0</td>\n",
              "      <td>0</td>\n",
              "      <td>NaN</td>\n",
              "      <td>NaN</td>\n",
              "      <td>NaN</td>\n",
              "      <td>20</td>\n",
              "      <td>73</td>\n",
              "      <td>0.273973</td>\n",
              "      <td>Siento q hace una semana se fue y recién van t...</td>\n",
              "      <td></td>\n",
              "      <td>1</td>\n",
              "      <td>0</td>\n",
              "      <td>1</td>\n",
              "      <td>Siento q hace una semana se fue y recién van t...</td>\n",
              "    </tr>\n",
              "  </tbody>\n",
              "</table>\n",
              "</div>"
            ],
            "text/plain": [
              "             id  ...                                            text_v3\n",
              "4650  tweet4651  ...  “Te voy a dejar encerrado todo el día y sin In...\n",
              "4651  tweet4652  ...  Es verdad eso que dicen que después de los qui...\n",
              "4652  tweet4653  ...  En mi defensa diré que fui educado mientras El...\n",
              "4653  tweet4654  ...  Ahorita en la calle escuche a dos vatos decir:...\n",
              "4654  tweet4655  ...                        Eramos mutuals @LOUISCARAJO\n",
              "4655  tweet4656  ...                                  Quero desaparecer\n",
              "4656  tweet4657  ...  Le saque platica a una de ellas, y pues eh.\\ns...\n",
              "4657  tweet4658  ...          Lo que veo en matemáticas: 我不明白這我不明白這. :|\n",
              "4658  tweet4659  ...                              1-1 Quién desempata? \n",
              "4659  tweet4660  ...  Siento q hace una semana se fue y recién van t...\n",
              "\n",
              "[10 rows x 21 columns]"
            ]
          },
          "metadata": {
            "tags": []
          },
          "execution_count": 161
        }
      ]
    },
    {
      "cell_type": "markdown",
      "metadata": {
        "id": "J5mKE0s-Iwyi"
      },
      "source": [
        "---\n",
        "---\n",
        "\n",
        "# SpellChecker (Corrector ortográfico)"
      ]
    },
    {
      "cell_type": "code",
      "metadata": {
        "id": "y4NFs9wbJUOh"
      },
      "source": [
        "# SpellChecker creo que no hace falta, pero por si acaso la dejo\n",
        "# !pip install SpellChecker"
      ],
      "execution_count": 162,
      "outputs": []
    },
    {
      "cell_type": "code",
      "metadata": {
        "id": "oqRUmrkeJS24",
        "colab": {
          "base_uri": "https://localhost:8080/"
        },
        "outputId": "d78dc711-9790-4341-9ab0-e98813140012"
      },
      "source": [
        "# pyspellchecker si hace falta instalarla\n",
        "# %%capture\n",
        "!pip install pyspellchecker\n",
        "from spellchecker import SpellChecker"
      ],
      "execution_count": 163,
      "outputs": [
        {
          "output_type": "stream",
          "text": [
            "Requirement already satisfied: pyspellchecker in /usr/local/lib/python3.7/dist-packages (0.6.2)\n"
          ],
          "name": "stdout"
        }
      ]
    },
    {
      "cell_type": "code",
      "metadata": {
        "id": "Itqtu20aePBd"
      },
      "source": [
        "# Con distance=1 el corrector es más conservador \n",
        "spell_check = SpellChecker(language='es', distance=1) # Gracias Yoan\n",
        "# spell_check.correction(\"-\")\n",
        "# (9spell_check  = SpellChecker(language='es', distance=100)\n",
        "# spell_check.correction(\"chicxs cómo hestais\")"
      ],
      "execution_count": 164,
      "outputs": []
    },
    {
      "cell_type": "code",
      "metadata": {
        "colab": {
          "base_uri": "https://localhost:8080/"
        },
        "id": "qYJMQOHNuLAk",
        "outputId": "accfa2b0-4085-4279-95b9-fb3ff8d13f92"
      },
      "source": [
        "string = 'hola'\n",
        "'a' in string"
      ],
      "execution_count": 165,
      "outputs": [
        {
          "output_type": "execute_result",
          "data": {
            "text/plain": [
              "True"
            ]
          },
          "metadata": {
            "tags": []
          },
          "execution_count": 165
        }
      ]
    },
    {
      "cell_type": "code",
      "metadata": {
        "id": "aDDGqY57dyZY"
      },
      "source": [
        "def corrector_ortografico(tweet):\n",
        "  tweet = tweet.replace('?', ' ? ')\n",
        "  tweet = tweet.replace('¿', ' ¿ ')\n",
        "  tweet = tweet.replace('...', ' . ')\n",
        "  tweet = tweet.replace('.', ' . ')\n",
        "  tweet = tweet.replace('—', ' . ')\n",
        "  tweet = tweet.replace('. .', ' . ')\n",
        "  tweet = tweet.replace('.  .', ' . ')\n",
        "  tweet = tweet.replace('.   .', ' . ')\n",
        "  \n",
        "  tweet = tweet.replace('\\n', '').split(' ')\n",
        "  \n",
        "\n",
        "  corrected_tweet = [spell_check.correction(token) if token not in ['', '-', '?', '¿', ] else token for token in tweet]\n",
        "\n",
        "  return ' '.join(corrected_tweet)\n",
        "\n",
        "def corrector_corpus(corpus):\n",
        "  return list(map(corrector_ortografico, corpus))"
      ],
      "execution_count": 166,
      "outputs": []
    },
    {
      "cell_type": "code",
      "metadata": {
        "id": "9rqxyK6lhhcy"
      },
      "source": [
        "text['text_v4'] = corrector_corpus(text['text_v3'])"
      ],
      "execution_count": 167,
      "outputs": []
    },
    {
      "cell_type": "code",
      "metadata": {
        "id": "CZcxEdQYJADg",
        "colab": {
          "base_uri": "https://localhost:8080/",
          "height": 345
        },
        "outputId": "a2e4c7d6-5dc8-4c24-eb95-16737546d3c3"
      },
      "source": [
        "text[['text_v3', 'text_v4']]"
      ],
      "execution_count": 168,
      "outputs": [
        {
          "output_type": "execute_result",
          "data": {
            "text/html": [
              "<div>\n",
              "<style scoped>\n",
              "    .dataframe tbody tr th:only-of-type {\n",
              "        vertical-align: middle;\n",
              "    }\n",
              "\n",
              "    .dataframe tbody tr th {\n",
              "        vertical-align: top;\n",
              "    }\n",
              "\n",
              "    .dataframe thead th {\n",
              "        text-align: right;\n",
              "    }\n",
              "</style>\n",
              "<table border=\"1\" class=\"dataframe\">\n",
              "  <thead>\n",
              "    <tr style=\"text-align: right;\">\n",
              "      <th></th>\n",
              "      <th>text_v3</th>\n",
              "      <th>text_v4</th>\n",
              "    </tr>\n",
              "  </thead>\n",
              "  <tbody>\n",
              "    <tr>\n",
              "      <th>4650</th>\n",
              "      <td>“Te voy a dejar encerrado todo el día y sin In...</td>\n",
              "      <td>te voy a dejar encerrado todo el día y sin Int...</td>\n",
              "    </tr>\n",
              "    <tr>\n",
              "      <th>4651</th>\n",
              "      <td>Es verdad eso que dicen que después de los qui...</td>\n",
              "      <td>Es verdad eso que dicen que después de los qui...</td>\n",
              "    </tr>\n",
              "    <tr>\n",
              "      <th>4652</th>\n",
              "      <td>En mi defensa diré que fui educado mientras El...</td>\n",
              "      <td>En mi defensa diré que fui educado mientras El...</td>\n",
              "    </tr>\n",
              "    <tr>\n",
              "      <th>4653</th>\n",
              "      <td>Ahorita en la calle escuche a dos vatos decir:...</td>\n",
              "      <td>Ahorita en la calle escuche a dos vatos decir ...</td>\n",
              "    </tr>\n",
              "    <tr>\n",
              "      <th>4654</th>\n",
              "      <td>Eramos mutuals @LOUISCARAJO</td>\n",
              "      <td>Eramos mutuas @LOUISCARAJO</td>\n",
              "    </tr>\n",
              "    <tr>\n",
              "      <th>4655</th>\n",
              "      <td>Quero desaparecer</td>\n",
              "      <td>Quero desaparecer</td>\n",
              "    </tr>\n",
              "    <tr>\n",
              "      <th>4656</th>\n",
              "      <td>Le saque platica a una de ellas, y pues eh.\\ns...</td>\n",
              "      <td>Le saque platica a una de ellas y pues eh . si...</td>\n",
              "    </tr>\n",
              "    <tr>\n",
              "      <th>4657</th>\n",
              "      <td>Lo que veo en matemáticas: 我不明白這我不明白這. :|</td>\n",
              "      <td>Lo que veo en matemáticas 我不明白這我不明白這 .  :|</td>\n",
              "    </tr>\n",
              "    <tr>\n",
              "      <th>4658</th>\n",
              "      <td>1-1 Quién desempata?</td>\n",
              "      <td>1-1 Quién desempata ?</td>\n",
              "    </tr>\n",
              "    <tr>\n",
              "      <th>4659</th>\n",
              "      <td>Siento q hace una semana se fue y recién van t...</td>\n",
              "      <td>Siento q hace una semana se fue y recién van t...</td>\n",
              "    </tr>\n",
              "  </tbody>\n",
              "</table>\n",
              "</div>"
            ],
            "text/plain": [
              "                                                text_v3                                            text_v4\n",
              "4650  “Te voy a dejar encerrado todo el día y sin In...  te voy a dejar encerrado todo el día y sin Int...\n",
              "4651  Es verdad eso que dicen que después de los qui...  Es verdad eso que dicen que después de los qui...\n",
              "4652  En mi defensa diré que fui educado mientras El...  En mi defensa diré que fui educado mientras El...\n",
              "4653  Ahorita en la calle escuche a dos vatos decir:...  Ahorita en la calle escuche a dos vatos decir ...\n",
              "4654                        Eramos mutuals @LOUISCARAJO                         Eramos mutuas @LOUISCARAJO\n",
              "4655                                  Quero desaparecer                                  Quero desaparecer\n",
              "4656  Le saque platica a una de ellas, y pues eh.\\ns...  Le saque platica a una de ellas y pues eh . si...\n",
              "4657          Lo que veo en matemáticas: 我不明白這我不明白這. :|         Lo que veo en matemáticas 我不明白這我不明白這 .  :|\n",
              "4658                              1-1 Quién desempata?                             1-1 Quién desempata ?  \n",
              "4659  Siento q hace una semana se fue y recién van t...  Siento q hace una semana se fue y recién van t..."
            ]
          },
          "metadata": {
            "tags": []
          },
          "execution_count": 168
        }
      ]
    },
    {
      "cell_type": "code",
      "metadata": {
        "colab": {
          "base_uri": "https://localhost:8080/",
          "height": 35
        },
        "id": "sy_64QcDsxse",
        "outputId": "e331d6fa-1d59-4430-bddf-e59c1f2c27ec"
      },
      "source": [
        "text['text_v4'].iloc[6]"
      ],
      "execution_count": 169,
      "outputs": [
        {
          "output_type": "execute_result",
          "data": {
            "application/vnd.google.colaboratory.intrinsic+json": {
              "type": "string"
            },
            "text/plain": [
              "'Le saque platica a una de ellas y pues eh . sigo siendo el rechazado del colegio . me deberia de pegar un tiro . '"
            ]
          },
          "metadata": {
            "tags": []
          },
          "execution_count": 169
        }
      ]
    },
    {
      "cell_type": "markdown",
      "metadata": {
        "id": "mAHq7-UxsXQk"
      },
      "source": [
        "---\n",
        "---\n",
        "\n",
        "# Obtención de Stop Words"
      ]
    },
    {
      "cell_type": "code",
      "metadata": {
        "id": "_wIzMFmFsSL0",
        "colab": {
          "base_uri": "https://localhost:8080/"
        },
        "outputId": "0a55ec18-ddf7-48a0-bd17-56259dd74f37"
      },
      "source": [
        "# %%capture\n",
        "!pip install stop_words"
      ],
      "execution_count": 170,
      "outputs": [
        {
          "output_type": "stream",
          "text": [
            "Requirement already satisfied: stop_words in /usr/local/lib/python3.7/dist-packages (2018.7.23)\n"
          ],
          "name": "stdout"
        }
      ]
    },
    {
      "cell_type": "code",
      "metadata": {
        "colab": {
          "base_uri": "https://localhost:8080/"
        },
        "id": "JkMEdYs0scJi",
        "outputId": "ec799090-0705-4e08-ca10-31585db39988"
      },
      "source": [
        "from stop_words import get_stop_words # Se añade librería para obtener las stop_word de cualquier idioma\n",
        "!wget \"https://raw.githubusercontent.com/jibt1/competition_group/main/Tareas/datasets/more_stop_words.txt\"\n",
        "\n",
        "# Se obtienen las stop_words en español\n",
        "import pickle\n",
        "with open(\"more_stop_words.txt\", \"rb\") as f:\n",
        "  list_test = pickle.load(f)\n",
        "\n",
        "stop_words = get_stop_words(\"spanish\")\n",
        "more_stop_words = stop_words + list_test\n",
        "more_stop_words.sort()"
      ],
      "execution_count": 171,
      "outputs": [
        {
          "output_type": "stream",
          "text": [
            "--2021-05-23 14:43:45--  https://raw.githubusercontent.com/jibt1/competition_group/main/Tareas/datasets/more_stop_words.txt\n",
            "Resolving raw.githubusercontent.com (raw.githubusercontent.com)... 185.199.108.133, 185.199.111.133, 185.199.110.133, ...\n",
            "Connecting to raw.githubusercontent.com (raw.githubusercontent.com)|185.199.108.133|:443... connected.\n",
            "HTTP request sent, awaiting response... 200 OK\n",
            "Length: 10258 (10K) [application/octet-stream]\n",
            "Saving to: ‘more_stop_words.txt.5’\n",
            "\n",
            "more_stop_words.txt 100%[===================>]  10.02K  --.-KB/s    in 0s      \n",
            "\n",
            "2021-05-23 14:43:46 (91.0 MB/s) - ‘more_stop_words.txt.5’ saved [10258/10258]\n",
            "\n"
          ],
          "name": "stdout"
        }
      ]
    },
    {
      "cell_type": "markdown",
      "metadata": {
        "id": "plCYOpqytS6q"
      },
      "source": [
        "# ELIMINACIÓN DE IDIOMAS ALEJADOS DEL ESPAÑOL"
      ]
    },
    {
      "cell_type": "code",
      "metadata": {
        "id": "VwRexGeKt7Zo",
        "colab": {
          "base_uri": "https://localhost:8080/"
        },
        "outputId": "40d88e06-0f74-403e-9c7d-0e2836f3810e"
      },
      "source": [
        "!pip install spacy_langdetect"
      ],
      "execution_count": 172,
      "outputs": [
        {
          "output_type": "stream",
          "text": [
            "Requirement already satisfied: spacy_langdetect in /usr/local/lib/python3.7/dist-packages (0.1.2)\n",
            "Requirement already satisfied: langdetect==1.0.7 in /usr/local/lib/python3.7/dist-packages (from spacy_langdetect) (1.0.7)\n",
            "Requirement already satisfied: pytest in /usr/local/lib/python3.7/dist-packages (from spacy_langdetect) (3.6.4)\n",
            "Requirement already satisfied: six in /usr/local/lib/python3.7/dist-packages (from langdetect==1.0.7->spacy_langdetect) (1.15.0)\n",
            "Requirement already satisfied: setuptools in /usr/local/lib/python3.7/dist-packages (from pytest->spacy_langdetect) (56.1.0)\n",
            "Requirement already satisfied: pluggy<0.8,>=0.5 in /usr/local/lib/python3.7/dist-packages (from pytest->spacy_langdetect) (0.7.1)\n",
            "Requirement already satisfied: py>=1.5.0 in /usr/local/lib/python3.7/dist-packages (from pytest->spacy_langdetect) (1.10.0)\n",
            "Requirement already satisfied: attrs>=17.4.0 in /usr/local/lib/python3.7/dist-packages (from pytest->spacy_langdetect) (21.2.0)\n",
            "Requirement already satisfied: more-itertools>=4.0.0 in /usr/local/lib/python3.7/dist-packages (from pytest->spacy_langdetect) (8.7.0)\n",
            "Requirement already satisfied: atomicwrites>=1.0 in /usr/local/lib/python3.7/dist-packages (from pytest->spacy_langdetect) (1.4.0)\n"
          ],
          "name": "stdout"
        }
      ]
    },
    {
      "cell_type": "code",
      "metadata": {
        "id": "5hlWpW9kyD8n"
      },
      "source": [
        "# frase de prueba\n",
        "# text = '¿Hola cómo سمبأسكمق estáis? 종현아생일축하해'"
      ],
      "execution_count": 173,
      "outputs": []
    },
    {
      "cell_type": "code",
      "metadata": {
        "colab": {
          "base_uri": "https://localhost:8080/",
          "height": 800
        },
        "id": "gsY5GPpMta-e",
        "outputId": "f5f5dce5-bc4e-4d12-c609-565e9a2e4f3b"
      },
      "source": [
        "import spacy\n",
        "from spacy_langdetect import LanguageDetector\n",
        "\n",
        "# sentence level language detection\n",
        "dict_ = {}\n",
        "\n",
        "nlp = spacy.load('en')\n",
        "nlp.add_pipe(LanguageDetector(), name='language_detector', last=True)\n",
        "\n",
        "# Eliminamos palabras koreanas, vietnamitas, japonesas o árabes\n",
        "L = ['ko', 'vi', 'ja', 'ar', 'zh']\n",
        "\n",
        "print(\"v3: \", text['text_v3'].iloc[6])\n",
        "print(\"\\n\\n v4: \", text['text_v4'].iloc[6])\n",
        "\n",
        "df_cleaned_sentences_list = df_cleaned_sentences['sentences_without_emojis'].to_list()\n",
        "\n",
        "df_cleaned_sentences_list = text['text_v4'].to_list()\n",
        "\n",
        "for index, sentence in enumerate(df_cleaned_sentences_list):\n",
        "  doc = nlp(sentence)\n",
        "  for subsent in doc.sents:\n",
        "    \n",
        "    if subsent._.language['language'] in L:\n",
        "      \n",
        "      df_cleaned_sentences_list[index] = sentence.replace(subsent.text,'')\n",
        "df_cleaned_sentences_list\n",
        "\n",
        "text['text_v5'] = df_cleaned_sentences_list\n",
        "\n",
        "\n",
        "text"
      ],
      "execution_count": 174,
      "outputs": [
        {
          "output_type": "stream",
          "text": [
            "v3:  Le saque platica a una de ellas, y pues eh.\n",
            "sigo siendo el rechazado del colegio.\n",
            "me deberia de pegar un tiro.\n",
            "\n",
            "\n",
            " v4:  Le saque platica a una de ellas y pues eh . sigo siendo el rechazado del colegio . me deberia de pegar un tiro . \n"
          ],
          "name": "stdout"
        },
        {
          "output_type": "execute_result",
          "data": {
            "text/html": [
              "<div>\n",
              "<style scoped>\n",
              "    .dataframe tbody tr th:only-of-type {\n",
              "        vertical-align: middle;\n",
              "    }\n",
              "\n",
              "    .dataframe tbody tr th {\n",
              "        vertical-align: top;\n",
              "    }\n",
              "\n",
              "    .dataframe thead th {\n",
              "        text-align: right;\n",
              "    }\n",
              "</style>\n",
              "<table border=\"1\" class=\"dataframe\">\n",
              "  <thead>\n",
              "    <tr style=\"text-align: right;\">\n",
              "      <th></th>\n",
              "      <th>id</th>\n",
              "      <th>text</th>\n",
              "      <th>is_humor</th>\n",
              "      <th>votes_no</th>\n",
              "      <th>votes_1</th>\n",
              "      <th>votes_2</th>\n",
              "      <th>votes_3</th>\n",
              "      <th>votes_4</th>\n",
              "      <th>votes_5</th>\n",
              "      <th>humor_rating</th>\n",
              "      <th>humor_mechanism</th>\n",
              "      <th>humor_target</th>\n",
              "      <th>len_token</th>\n",
              "      <th>n_char</th>\n",
              "      <th>ratio</th>\n",
              "      <th>text_v2</th>\n",
              "      <th>text_emojis</th>\n",
              "      <th>detected_text_cansinos</th>\n",
              "      <th>detected_emojis_cansinos</th>\n",
              "      <th>detected_cansinos</th>\n",
              "      <th>text_v3</th>\n",
              "      <th>text_v4</th>\n",
              "      <th>text_v5</th>\n",
              "    </tr>\n",
              "  </thead>\n",
              "  <tbody>\n",
              "    <tr>\n",
              "      <th>4650</th>\n",
              "      <td>tweet4651</td>\n",
              "      <td>“Te voy a dejar encerrado todo el día y sin In...</td>\n",
              "      <td>1</td>\n",
              "      <td>0</td>\n",
              "      <td>2</td>\n",
              "      <td>0</td>\n",
              "      <td>2</td>\n",
              "      <td>1</td>\n",
              "      <td>0</td>\n",
              "      <td>2.40</td>\n",
              "      <td>NaN</td>\n",
              "      <td>NaN</td>\n",
              "      <td>30</td>\n",
              "      <td>139</td>\n",
              "      <td>0.215827</td>\n",
              "      <td>“Te voy a dejar encerrado todo el día y sin In...</td>\n",
              "      <td></td>\n",
              "      <td>0</td>\n",
              "      <td>0</td>\n",
              "      <td>0</td>\n",
              "      <td>“Te voy a dejar encerrado todo el día y sin In...</td>\n",
              "      <td>te voy a dejar encerrado todo el día y sin Int...</td>\n",
              "      <td>te voy a dejar encerrado todo el día y sin Int...</td>\n",
              "    </tr>\n",
              "    <tr>\n",
              "      <th>4651</th>\n",
              "      <td>tweet4652</td>\n",
              "      <td>Es verdad eso que dicen que después de los qui...</td>\n",
              "      <td>0</td>\n",
              "      <td>3</td>\n",
              "      <td>0</td>\n",
              "      <td>0</td>\n",
              "      <td>0</td>\n",
              "      <td>0</td>\n",
              "      <td>0</td>\n",
              "      <td>NaN</td>\n",
              "      <td>NaN</td>\n",
              "      <td>NaN</td>\n",
              "      <td>13</td>\n",
              "      <td>73</td>\n",
              "      <td>0.178082</td>\n",
              "      <td>Es verdad eso que dicen que después de los qui...</td>\n",
              "      <td>:grinning_squinting_face: :grinning_squinting_...</td>\n",
              "      <td>0</td>\n",
              "      <td>0</td>\n",
              "      <td>0</td>\n",
              "      <td>Es verdad eso que dicen que después de los qui...</td>\n",
              "      <td>Es verdad eso que dicen que después de los qui...</td>\n",
              "      <td>Es verdad eso que dicen que después de los qui...</td>\n",
              "    </tr>\n",
              "    <tr>\n",
              "      <th>4652</th>\n",
              "      <td>tweet4653</td>\n",
              "      <td>En mi defensa diré que fui educado mientras El...</td>\n",
              "      <td>0</td>\n",
              "      <td>3</td>\n",
              "      <td>0</td>\n",
              "      <td>0</td>\n",
              "      <td>0</td>\n",
              "      <td>0</td>\n",
              "      <td>0</td>\n",
              "      <td>NaN</td>\n",
              "      <td>NaN</td>\n",
              "      <td>NaN</td>\n",
              "      <td>15</td>\n",
              "      <td>88</td>\n",
              "      <td>0.170455</td>\n",
              "      <td>En mi defensa diré que fui educado mientras El...</td>\n",
              "      <td></td>\n",
              "      <td>0</td>\n",
              "      <td>0</td>\n",
              "      <td>0</td>\n",
              "      <td>En mi defensa diré que fui educado mientras El...</td>\n",
              "      <td>En mi defensa diré que fui educado mientras El...</td>\n",
              "      <td>En mi defensa diré que fui educado mientras El...</td>\n",
              "    </tr>\n",
              "    <tr>\n",
              "      <th>4653</th>\n",
              "      <td>tweet4654</td>\n",
              "      <td>Ahorita en la calle escuche a dos vatos decir:...</td>\n",
              "      <td>1</td>\n",
              "      <td>0</td>\n",
              "      <td>2</td>\n",
              "      <td>1</td>\n",
              "      <td>2</td>\n",
              "      <td>0</td>\n",
              "      <td>0</td>\n",
              "      <td>2.00</td>\n",
              "      <td>misunderstanding</td>\n",
              "      <td>NaN</td>\n",
              "      <td>29</td>\n",
              "      <td>136</td>\n",
              "      <td>0.213235</td>\n",
              "      <td>Ahorita en la calle escuche a dos vatos decir:...</td>\n",
              "      <td></td>\n",
              "      <td>0</td>\n",
              "      <td>0</td>\n",
              "      <td>0</td>\n",
              "      <td>Ahorita en la calle escuche a dos vatos decir:...</td>\n",
              "      <td>Ahorita en la calle escuche a dos vatos decir ...</td>\n",
              "      <td>Ahorita en la calle escuche a dos vatos decir ...</td>\n",
              "    </tr>\n",
              "    <tr>\n",
              "      <th>4654</th>\n",
              "      <td>tweet4655</td>\n",
              "      <td>Eramos mutuals @LOUISCARAJO</td>\n",
              "      <td>0</td>\n",
              "      <td>3</td>\n",
              "      <td>0</td>\n",
              "      <td>0</td>\n",
              "      <td>0</td>\n",
              "      <td>0</td>\n",
              "      <td>0</td>\n",
              "      <td>NaN</td>\n",
              "      <td>NaN</td>\n",
              "      <td>NaN</td>\n",
              "      <td>3</td>\n",
              "      <td>27</td>\n",
              "      <td>0.111111</td>\n",
              "      <td>Eramos mutuals @LOUISCARAJO</td>\n",
              "      <td></td>\n",
              "      <td>0</td>\n",
              "      <td>0</td>\n",
              "      <td>0</td>\n",
              "      <td>Eramos mutuals @LOUISCARAJO</td>\n",
              "      <td>Eramos mutuas @LOUISCARAJO</td>\n",
              "      <td>Eramos mutuas @LOUISCARAJO</td>\n",
              "    </tr>\n",
              "    <tr>\n",
              "      <th>4655</th>\n",
              "      <td>tweet4656</td>\n",
              "      <td>Quero desaparecer</td>\n",
              "      <td>0</td>\n",
              "      <td>3</td>\n",
              "      <td>0</td>\n",
              "      <td>0</td>\n",
              "      <td>0</td>\n",
              "      <td>0</td>\n",
              "      <td>0</td>\n",
              "      <td>NaN</td>\n",
              "      <td>NaN</td>\n",
              "      <td>NaN</td>\n",
              "      <td>2</td>\n",
              "      <td>17</td>\n",
              "      <td>0.117647</td>\n",
              "      <td>Quero desaparecer</td>\n",
              "      <td></td>\n",
              "      <td>0</td>\n",
              "      <td>0</td>\n",
              "      <td>0</td>\n",
              "      <td>Quero desaparecer</td>\n",
              "      <td>Quero desaparecer</td>\n",
              "      <td>Quero desaparecer</td>\n",
              "    </tr>\n",
              "    <tr>\n",
              "      <th>4656</th>\n",
              "      <td>tweet4657</td>\n",
              "      <td>Le saque platica a una de ellas, y pues ehhh.\\...</td>\n",
              "      <td>0</td>\n",
              "      <td>3</td>\n",
              "      <td>0</td>\n",
              "      <td>0</td>\n",
              "      <td>0</td>\n",
              "      <td>0</td>\n",
              "      <td>0</td>\n",
              "      <td>NaN</td>\n",
              "      <td>NaN</td>\n",
              "      <td>NaN</td>\n",
              "      <td>22</td>\n",
              "      <td>112</td>\n",
              "      <td>0.196429</td>\n",
              "      <td>Le saque platica a una de ellas, y pues ehhh.\\...</td>\n",
              "      <td></td>\n",
              "      <td>1</td>\n",
              "      <td>0</td>\n",
              "      <td>1</td>\n",
              "      <td>Le saque platica a una de ellas, y pues eh.\\ns...</td>\n",
              "      <td>Le saque platica a una de ellas y pues eh . si...</td>\n",
              "      <td>Le saque platica a una de ellas y pues eh . si...</td>\n",
              "    </tr>\n",
              "    <tr>\n",
              "      <th>4657</th>\n",
              "      <td>tweet4658</td>\n",
              "      <td>Lo que veo en matemáticas: 我不明白這我不明白這. :|</td>\n",
              "      <td>1</td>\n",
              "      <td>1</td>\n",
              "      <td>1</td>\n",
              "      <td>1</td>\n",
              "      <td>2</td>\n",
              "      <td>0</td>\n",
              "      <td>0</td>\n",
              "      <td>2.25</td>\n",
              "      <td>NaN</td>\n",
              "      <td>NaN</td>\n",
              "      <td>7</td>\n",
              "      <td>41</td>\n",
              "      <td>0.170732</td>\n",
              "      <td>Lo que veo en matemáticas: 我不明白這我不明白這. :|</td>\n",
              "      <td></td>\n",
              "      <td>0</td>\n",
              "      <td>0</td>\n",
              "      <td>0</td>\n",
              "      <td>Lo que veo en matemáticas: 我不明白這我不明白這. :|</td>\n",
              "      <td>Lo que veo en matemáticas 我不明白這我不明白這 .  :|</td>\n",
              "      <td>Lo que veo en matemáticas 我不明白這我不明白這 .  :|</td>\n",
              "    </tr>\n",
              "    <tr>\n",
              "      <th>4658</th>\n",
              "      <td>tweet4659</td>\n",
              "      <td>1-1 Quién desempata? 🤔</td>\n",
              "      <td>0</td>\n",
              "      <td>3</td>\n",
              "      <td>0</td>\n",
              "      <td>0</td>\n",
              "      <td>0</td>\n",
              "      <td>0</td>\n",
              "      <td>0</td>\n",
              "      <td>NaN</td>\n",
              "      <td>NaN</td>\n",
              "      <td>NaN</td>\n",
              "      <td>4</td>\n",
              "      <td>22</td>\n",
              "      <td>0.181818</td>\n",
              "      <td>1-1 Quién desempata?</td>\n",
              "      <td>:thinking_face:</td>\n",
              "      <td>0</td>\n",
              "      <td>0</td>\n",
              "      <td>0</td>\n",
              "      <td>1-1 Quién desempata?</td>\n",
              "      <td>1-1 Quién desempata ?</td>\n",
              "      <td>1-1 Quién desempata ?</td>\n",
              "    </tr>\n",
              "    <tr>\n",
              "      <th>4659</th>\n",
              "      <td>tweet4660</td>\n",
              "      <td>Siento q hace una semana se fue y recién van t...</td>\n",
              "      <td>0</td>\n",
              "      <td>3</td>\n",
              "      <td>0</td>\n",
              "      <td>0</td>\n",
              "      <td>0</td>\n",
              "      <td>0</td>\n",
              "      <td>0</td>\n",
              "      <td>NaN</td>\n",
              "      <td>NaN</td>\n",
              "      <td>NaN</td>\n",
              "      <td>20</td>\n",
              "      <td>73</td>\n",
              "      <td>0.273973</td>\n",
              "      <td>Siento q hace una semana se fue y recién van t...</td>\n",
              "      <td></td>\n",
              "      <td>1</td>\n",
              "      <td>0</td>\n",
              "      <td>1</td>\n",
              "      <td>Siento q hace una semana se fue y recién van t...</td>\n",
              "      <td>Siento q hace una semana se fue y recién van t...</td>\n",
              "      <td>Siento q hace una semana se fue y recién van t...</td>\n",
              "    </tr>\n",
              "  </tbody>\n",
              "</table>\n",
              "</div>"
            ],
            "text/plain": [
              "             id  ...                                            text_v5\n",
              "4650  tweet4651  ...  te voy a dejar encerrado todo el día y sin Int...\n",
              "4651  tweet4652  ...  Es verdad eso que dicen que después de los qui...\n",
              "4652  tweet4653  ...  En mi defensa diré que fui educado mientras El...\n",
              "4653  tweet4654  ...  Ahorita en la calle escuche a dos vatos decir ...\n",
              "4654  tweet4655  ...                         Eramos mutuas @LOUISCARAJO\n",
              "4655  tweet4656  ...                                  Quero desaparecer\n",
              "4656  tweet4657  ...  Le saque platica a una de ellas y pues eh . si...\n",
              "4657  tweet4658  ...         Lo que veo en matemáticas 我不明白這我不明白這 .  :|\n",
              "4658  tweet4659  ...                            1-1 Quién desempata ?  \n",
              "4659  tweet4660  ...  Siento q hace una semana se fue y recién van t...\n",
              "\n",
              "[10 rows x 23 columns]"
            ]
          },
          "metadata": {
            "tags": []
          },
          "execution_count": 174
        }
      ]
    },
    {
      "cell_type": "markdown",
      "metadata": {
        "id": "Db8Z3XeEyfj1"
      },
      "source": [
        "---\n",
        "---\n",
        "\n",
        "# CREACION MATRIZ WORD CONTEXT DEL TEXTO DEPURADO (SIN EMOJIS y sin idiomas poco habituales)"
      ]
    },
    {
      "cell_type": "code",
      "metadata": {
        "colab": {
          "base_uri": "https://localhost:8080/"
        },
        "id": "x3HmJbsGtz7a",
        "outputId": "748db3db-f10f-4f9a-a3f8-57ef66b9437c"
      },
      "source": [
        "from nltk.stem.snowball import SpanishStemmer\n",
        "def spanish_stemmer(sentence):\n",
        "    stemmer = SpanishStemmer()\n",
        "    analyzer = CountVectorizer(binary=False, analyzer='word', stop_words=more_stop_words,\n",
        "                               ngram_range=(1, 1)).build_analyzer()\n",
        "    return (stemmer.stem(word) for word in analyzer(sentence))\n",
        "    \n",
        "from sklearn.feature_extraction.text import CountVectorizer\n",
        "c_vec = CountVectorizer(analyzer=spanish_stemmer, stop_words=more_stop_words, lowercase=True)\n",
        "# tf_idf = TfidfTransformer(smooth_idf=True, use_idf=True)\n",
        "c_vec_mat = c_vec.fit_transform(text['text_v5'])\n",
        "# tf_idf_mat = tf_idf.fit_transform(c_vec_mat)\n",
        "c_vec_mat.shape"
      ],
      "execution_count": 175,
      "outputs": [
        {
          "output_type": "execute_result",
          "data": {
            "text/plain": [
              "(10, 64)"
            ]
          },
          "metadata": {
            "tags": []
          },
          "execution_count": 175
        }
      ]
    },
    {
      "cell_type": "code",
      "metadata": {
        "colab": {
          "base_uri": "https://localhost:8080/"
        },
        "id": "MGnFBGAhzHRi",
        "outputId": "10ae1c98-2616-4420-e97a-72c3ce2100d3"
      },
      "source": [
        "df_c_vec = pd.DataFrame(c_vec_mat.toarray(), columns=c_vec.get_feature_names())\n",
        "print(df_c_vec)"
      ],
      "execution_count": 176,
      "outputs": [
        {
          "output_type": "stream",
          "text": [
            "   ahorit  amig  andre  bordill  call  ...  ver  verd  viol  voy  我不明白這我不明白這\n",
            "0       0     0      0        0     0  ...    1     0     0    1           0\n",
            "1       0     1      0        0     0  ...    0     1     0    0           0\n",
            "2       0     0      0        1     0  ...    0     0     0    0           0\n",
            "3       1     0      2        0     1  ...    0     0     1    1           0\n",
            "4       0     0      0        0     0  ...    0     0     0    0           0\n",
            "5       0     0      0        0     0  ...    0     0     0    0           0\n",
            "6       0     0      0        0     0  ...    0     0     0    0           0\n",
            "7       0     0      0        0     0  ...    0     0     0    0           1\n",
            "8       0     0      0        0     0  ...    0     0     0    0           0\n",
            "9       0     0      0        0     0  ...    0     0     0    0           0\n",
            "\n",
            "[10 rows x 64 columns]\n"
          ],
          "name": "stdout"
        }
      ]
    },
    {
      "cell_type": "markdown",
      "metadata": {
        "id": "x5CutgimzyLS"
      },
      "source": [
        "---\n",
        "---\n",
        "\n",
        "# Traducción Corpus\n",
        "\n",
        "# Descripción:\n",
        "\n",
        "Frente a la adversidad que supone que la gran mayoría de modelos desarrollados en HuggingFace se encuentran en Inglés, se ha optado por traducir el corpus al inglés con el pipeline correspondiente. Así, podemos aprovecharlos para hacer Transfer Learning.\n",
        "\n",
        "Puesto que la fama de los transformers les antecede, consideramos que el error de los mismos de cara a las traducciones resulta asumible."
      ]
    },
    {
      "cell_type": "code",
      "metadata": {
        "id": "p54MeEel0qxg",
        "colab": {
          "base_uri": "https://localhost:8080/"
        },
        "outputId": "4106febd-298a-42b8-86a6-1c49abdf2b2a"
      },
      "source": [
        "!pip install transformers\n",
        "!pip install sentencepiece"
      ],
      "execution_count": 177,
      "outputs": [
        {
          "output_type": "stream",
          "text": [
            "Requirement already satisfied: transformers in /usr/local/lib/python3.7/dist-packages (4.6.1)\n",
            "Requirement already satisfied: huggingface-hub==0.0.8 in /usr/local/lib/python3.7/dist-packages (from transformers) (0.0.8)\n",
            "Requirement already satisfied: tqdm>=4.27 in /usr/local/lib/python3.7/dist-packages (from transformers) (4.41.1)\n",
            "Requirement already satisfied: importlib-metadata; python_version < \"3.8\" in /usr/local/lib/python3.7/dist-packages (from transformers) (4.0.1)\n",
            "Requirement already satisfied: packaging in /usr/local/lib/python3.7/dist-packages (from transformers) (20.9)\n",
            "Requirement already satisfied: regex!=2019.12.17 in /usr/local/lib/python3.7/dist-packages (from transformers) (2019.12.20)\n",
            "Requirement already satisfied: sacremoses in /usr/local/lib/python3.7/dist-packages (from transformers) (0.0.45)\n",
            "Requirement already satisfied: numpy>=1.17 in /usr/local/lib/python3.7/dist-packages (from transformers) (1.19.5)\n",
            "Requirement already satisfied: filelock in /usr/local/lib/python3.7/dist-packages (from transformers) (3.0.12)\n",
            "Requirement already satisfied: tokenizers<0.11,>=0.10.1 in /usr/local/lib/python3.7/dist-packages (from transformers) (0.10.2)\n",
            "Requirement already satisfied: requests in /usr/local/lib/python3.7/dist-packages (from transformers) (2.23.0)\n",
            "Requirement already satisfied: typing-extensions>=3.6.4; python_version < \"3.8\" in /usr/local/lib/python3.7/dist-packages (from importlib-metadata; python_version < \"3.8\"->transformers) (3.7.4.3)\n",
            "Requirement already satisfied: zipp>=0.5 in /usr/local/lib/python3.7/dist-packages (from importlib-metadata; python_version < \"3.8\"->transformers) (3.4.1)\n",
            "Requirement already satisfied: pyparsing>=2.0.2 in /usr/local/lib/python3.7/dist-packages (from packaging->transformers) (2.4.7)\n",
            "Requirement already satisfied: six in /usr/local/lib/python3.7/dist-packages (from sacremoses->transformers) (1.15.0)\n",
            "Requirement already satisfied: joblib in /usr/local/lib/python3.7/dist-packages (from sacremoses->transformers) (1.0.1)\n",
            "Requirement already satisfied: click in /usr/local/lib/python3.7/dist-packages (from sacremoses->transformers) (8.0.0)\n",
            "Requirement already satisfied: idna<3,>=2.5 in /usr/local/lib/python3.7/dist-packages (from requests->transformers) (2.10)\n",
            "Requirement already satisfied: certifi>=2017.4.17 in /usr/local/lib/python3.7/dist-packages (from requests->transformers) (2020.12.5)\n",
            "Requirement already satisfied: chardet<4,>=3.0.2 in /usr/local/lib/python3.7/dist-packages (from requests->transformers) (3.0.4)\n",
            "Requirement already satisfied: urllib3!=1.25.0,!=1.25.1,<1.26,>=1.21.1 in /usr/local/lib/python3.7/dist-packages (from requests->transformers) (1.24.3)\n",
            "Requirement already satisfied: sentencepiece in /usr/local/lib/python3.7/dist-packages (0.1.95)\n"
          ],
          "name": "stdout"
        }
      ]
    },
    {
      "cell_type": "code",
      "metadata": {
        "id": "PyzSC6zF1hoB"
      },
      "source": [
        "from transformers import AutoTokenizer, AutoModelForSeq2SeqLM\n",
        "from transformers import AutoModelForSequenceClassification, pipeline"
      ],
      "execution_count": 178,
      "outputs": []
    },
    {
      "cell_type": "code",
      "metadata": {
        "id": "hRTYsdk81lK-"
      },
      "source": [
        "# Autotokenizador\n",
        "tokenizer = AutoTokenizer.from_pretrained(\"Helsinki-NLP/opus-mt-es-en\")\n",
        "\n",
        "# Elección/Descarga del modelo Preentrenado\n",
        "model = AutoModelForSeq2SeqLM.from_pretrained(\"Helsinki-NLP/opus-mt-es-en\")"
      ],
      "execution_count": 179,
      "outputs": []
    },
    {
      "cell_type": "code",
      "metadata": {
        "id": "Zlw1G7Q9CzVv"
      },
      "source": [
        "def get_corpus_translation(corpus):\n",
        "  from transformers import pipeline\n",
        "  pline = pipeline(\"translation_es_to_en\", model=model, tokenizer=tokenizer)\n",
        "\n",
        "  def get_tweet_translation(tweet):\n",
        "\n",
        "    tweet = tweet.lower()\n",
        "\n",
        "    tweet = tweet.replace('.', ' <.> ')\n",
        "    tweet = tweet.replace('...', ' . ')\n",
        "    tweet = tweet.replace(' q ', ' que ')\n",
        "    tweet = tweet.replace(' k ', ' que ')\n",
        "    tweet = tweet.replace(' d ', ' de ')\n",
        "\n",
        "    return pline(tweet)[0]['translation_text'] # punto <point>\n",
        "\n",
        "  return list(map(get_tweet_translation, corpus['text_v5'].to_list()))\n",
        "\n",
        "text['en_text'] = get_corpus_translation(text)\n",
        "\n",
        "def recover_point(tweet):\n",
        "  return tweet.replace('<.>', ' . ')\n",
        "\n",
        "def recover_point_corpus(corpus):\n",
        "  return list(map(recover_point, corpus))\n",
        "\n",
        "text['en_text'] = recover_point_corpus(text['en_text'])\n",
        "\n"
      ],
      "execution_count": 180,
      "outputs": []
    },
    {
      "cell_type": "code",
      "metadata": {
        "id": "_NLitx-r2YLs"
      },
      "source": [
        "text = text[['id', 'text', 'text_v2', 'text_v3', 'text_v4', 'text_v5',\n",
        "             'en_text', 'len_token', 'n_char', 'ratio', 'detected_cansinos',\n",
        "             'detected_emojis_cansinos', 'detected_text_cansinos', 'text_emojis', 'is_humor',\n",
        "             'votes_no', 'votes_1', 'votes_2', 'votes_3','votes_4', 'votes_5', 'humor_rating', 'humor_mechanism',\n",
        "             'humor_target']]\n",
        "\n",
        "text.replace({'text_emojis': {'': 'no_emojis'}}, inplace= True)\n",
        "\n",
        "corpus = text.copy()"
      ],
      "execution_count": 182,
      "outputs": []
    },
    {
      "cell_type": "code",
      "metadata": {
        "id": "PaADQKtT7oAM"
      },
      "source": [
        "#corpus['text_emojis'][3]"
      ],
      "execution_count": 183,
      "outputs": []
    },
    {
      "cell_type": "code",
      "metadata": {
        "id": "Zq1StCABmG-P"
      },
      "source": [
        "corpus.to_csv('cleaned_corpus.csv', index=False, sep = ',')"
      ],
      "execution_count": 184,
      "outputs": []
    },
    {
      "cell_type": "code",
      "metadata": {
        "colab": {
          "base_uri": "https://localhost:8080/",
          "height": 35
        },
        "id": "oi6pKCZ0-N_Q",
        "outputId": "96bd2b0e-8f62-48c6-d956-a161d3149827"
      },
      "source": [
        "corpus['text_emojis'].loc[4658]"
      ],
      "execution_count": 185,
      "outputs": [
        {
          "output_type": "execute_result",
          "data": {
            "application/vnd.google.colaboratory.intrinsic+json": {
              "type": "string"
            },
            "text/plain": [
              "':thinking_face:'"
            ]
          },
          "metadata": {
            "tags": []
          },
          "execution_count": 185
        }
      ]
    },
    {
      "cell_type": "code",
      "metadata": {
        "colab": {
          "base_uri": "https://localhost:8080/",
          "height": 657
        },
        "id": "IRlcnsLRnBGW",
        "outputId": "948d261f-8c54-4d2c-9eed-389937fba314"
      },
      "source": [
        "test_corpus = pd.read_csv('cleaned_corpus.csv', header=0, sep=',')\n",
        "\n",
        "test_corpus.tail(8)"
      ],
      "execution_count": 186,
      "outputs": [
        {
          "output_type": "execute_result",
          "data": {
            "text/html": [
              "<div>\n",
              "<style scoped>\n",
              "    .dataframe tbody tr th:only-of-type {\n",
              "        vertical-align: middle;\n",
              "    }\n",
              "\n",
              "    .dataframe tbody tr th {\n",
              "        vertical-align: top;\n",
              "    }\n",
              "\n",
              "    .dataframe thead th {\n",
              "        text-align: right;\n",
              "    }\n",
              "</style>\n",
              "<table border=\"1\" class=\"dataframe\">\n",
              "  <thead>\n",
              "    <tr style=\"text-align: right;\">\n",
              "      <th></th>\n",
              "      <th>id</th>\n",
              "      <th>text</th>\n",
              "      <th>text_v2</th>\n",
              "      <th>text_v3</th>\n",
              "      <th>text_v4</th>\n",
              "      <th>text_v5</th>\n",
              "      <th>en_text</th>\n",
              "      <th>len_token</th>\n",
              "      <th>n_char</th>\n",
              "      <th>ratio</th>\n",
              "      <th>detected_cansinos</th>\n",
              "      <th>detected_emojis_cansinos</th>\n",
              "      <th>detected_text_cansinos</th>\n",
              "      <th>text_emojis</th>\n",
              "      <th>is_humor</th>\n",
              "      <th>votes_no</th>\n",
              "      <th>votes_1</th>\n",
              "      <th>votes_2</th>\n",
              "      <th>votes_3</th>\n",
              "      <th>votes_4</th>\n",
              "      <th>votes_5</th>\n",
              "      <th>humor_rating</th>\n",
              "      <th>humor_mechanism</th>\n",
              "      <th>humor_target</th>\n",
              "    </tr>\n",
              "  </thead>\n",
              "  <tbody>\n",
              "    <tr>\n",
              "      <th>2</th>\n",
              "      <td>tweet4653</td>\n",
              "      <td>En mi defensa diré que fui educado mientras El...</td>\n",
              "      <td>En mi defensa diré que fui educado mientras El...</td>\n",
              "      <td>En mi defensa diré que fui educado mientras El...</td>\n",
              "      <td>En mi defensa diré que fui educado mientras El...</td>\n",
              "      <td>En mi defensa diré que fui educado mientras El...</td>\n",
              "      <td>in my defense I will say that I was educated w...</td>\n",
              "      <td>15</td>\n",
              "      <td>88</td>\n",
              "      <td>0.170455</td>\n",
              "      <td>0</td>\n",
              "      <td>0</td>\n",
              "      <td>0</td>\n",
              "      <td>no_emojis</td>\n",
              "      <td>0</td>\n",
              "      <td>3</td>\n",
              "      <td>0</td>\n",
              "      <td>0</td>\n",
              "      <td>0</td>\n",
              "      <td>0</td>\n",
              "      <td>0</td>\n",
              "      <td>NaN</td>\n",
              "      <td>NaN</td>\n",
              "      <td>NaN</td>\n",
              "    </tr>\n",
              "    <tr>\n",
              "      <th>3</th>\n",
              "      <td>tweet4654</td>\n",
              "      <td>Ahorita en la calle escuche a dos vatos decir:...</td>\n",
              "      <td>Ahorita en la calle escuche a dos vatos decir:...</td>\n",
              "      <td>Ahorita en la calle escuche a dos vatos decir:...</td>\n",
              "      <td>Ahorita en la calle escuche a dos vatos decir ...</td>\n",
              "      <td>Ahorita en la calle escuche a dos vatos decir ...</td>\n",
              "      <td>right now on the street listen to two vatos sa...</td>\n",
              "      <td>29</td>\n",
              "      <td>136</td>\n",
              "      <td>0.213235</td>\n",
              "      <td>0</td>\n",
              "      <td>0</td>\n",
              "      <td>0</td>\n",
              "      <td>no_emojis</td>\n",
              "      <td>1</td>\n",
              "      <td>0</td>\n",
              "      <td>2</td>\n",
              "      <td>1</td>\n",
              "      <td>2</td>\n",
              "      <td>0</td>\n",
              "      <td>0</td>\n",
              "      <td>2.00</td>\n",
              "      <td>misunderstanding</td>\n",
              "      <td>NaN</td>\n",
              "    </tr>\n",
              "    <tr>\n",
              "      <th>4</th>\n",
              "      <td>tweet4655</td>\n",
              "      <td>Eramos mutuals @LOUISCARAJO</td>\n",
              "      <td>Eramos mutuals @LOUISCARAJO</td>\n",
              "      <td>Eramos mutuals @LOUISCARAJO</td>\n",
              "      <td>Eramos mutuas @LOUISCARAJO</td>\n",
              "      <td>Eramos mutuas @LOUISCARAJO</td>\n",
              "      <td>we were mutual @louiscarajo</td>\n",
              "      <td>3</td>\n",
              "      <td>27</td>\n",
              "      <td>0.111111</td>\n",
              "      <td>0</td>\n",
              "      <td>0</td>\n",
              "      <td>0</td>\n",
              "      <td>no_emojis</td>\n",
              "      <td>0</td>\n",
              "      <td>3</td>\n",
              "      <td>0</td>\n",
              "      <td>0</td>\n",
              "      <td>0</td>\n",
              "      <td>0</td>\n",
              "      <td>0</td>\n",
              "      <td>NaN</td>\n",
              "      <td>NaN</td>\n",
              "      <td>NaN</td>\n",
              "    </tr>\n",
              "    <tr>\n",
              "      <th>5</th>\n",
              "      <td>tweet4656</td>\n",
              "      <td>Quero desaparecer</td>\n",
              "      <td>Quero desaparecer</td>\n",
              "      <td>Quero desaparecer</td>\n",
              "      <td>Quero desaparecer</td>\n",
              "      <td>Quero desaparecer</td>\n",
              "      <td>I want to disappear.</td>\n",
              "      <td>2</td>\n",
              "      <td>17</td>\n",
              "      <td>0.117647</td>\n",
              "      <td>0</td>\n",
              "      <td>0</td>\n",
              "      <td>0</td>\n",
              "      <td>no_emojis</td>\n",
              "      <td>0</td>\n",
              "      <td>3</td>\n",
              "      <td>0</td>\n",
              "      <td>0</td>\n",
              "      <td>0</td>\n",
              "      <td>0</td>\n",
              "      <td>0</td>\n",
              "      <td>NaN</td>\n",
              "      <td>NaN</td>\n",
              "      <td>NaN</td>\n",
              "    </tr>\n",
              "    <tr>\n",
              "      <th>6</th>\n",
              "      <td>tweet4657</td>\n",
              "      <td>Le saque platica a una de ellas, y pues ehhh.\\...</td>\n",
              "      <td>Le saque platica a una de ellas, y pues ehhh.\\...</td>\n",
              "      <td>Le saque platica a una de ellas, y pues eh.\\ns...</td>\n",
              "      <td>Le saque platica a una de ellas y pues eh . si...</td>\n",
              "      <td>Le saque platica a una de ellas y pues eh . si...</td>\n",
              "      <td>I take one of them out of talk, and then I'm s...</td>\n",
              "      <td>22</td>\n",
              "      <td>112</td>\n",
              "      <td>0.196429</td>\n",
              "      <td>1</td>\n",
              "      <td>0</td>\n",
              "      <td>1</td>\n",
              "      <td>no_emojis</td>\n",
              "      <td>0</td>\n",
              "      <td>3</td>\n",
              "      <td>0</td>\n",
              "      <td>0</td>\n",
              "      <td>0</td>\n",
              "      <td>0</td>\n",
              "      <td>0</td>\n",
              "      <td>NaN</td>\n",
              "      <td>NaN</td>\n",
              "      <td>NaN</td>\n",
              "    </tr>\n",
              "    <tr>\n",
              "      <th>7</th>\n",
              "      <td>tweet4658</td>\n",
              "      <td>Lo que veo en matemáticas: 我不明白這我不明白這. :|</td>\n",
              "      <td>Lo que veo en matemáticas: 我不明白這我不明白這. :|</td>\n",
              "      <td>Lo que veo en matemáticas: 我不明白這我不明白這. :|</td>\n",
              "      <td>Lo que veo en matemáticas 我不明白這我不明白這 .  :|</td>\n",
              "      <td>Lo que veo en matemáticas 我不明白這我不明白這 .  :|</td>\n",
              "      <td>what I see in mathematics  &lt;..&gt; :</td>\n",
              "      <td>7</td>\n",
              "      <td>41</td>\n",
              "      <td>0.170732</td>\n",
              "      <td>0</td>\n",
              "      <td>0</td>\n",
              "      <td>0</td>\n",
              "      <td>no_emojis</td>\n",
              "      <td>1</td>\n",
              "      <td>1</td>\n",
              "      <td>1</td>\n",
              "      <td>1</td>\n",
              "      <td>2</td>\n",
              "      <td>0</td>\n",
              "      <td>0</td>\n",
              "      <td>2.25</td>\n",
              "      <td>NaN</td>\n",
              "      <td>NaN</td>\n",
              "    </tr>\n",
              "    <tr>\n",
              "      <th>8</th>\n",
              "      <td>tweet4659</td>\n",
              "      <td>1-1 Quién desempata? 🤔</td>\n",
              "      <td>1-1 Quién desempata?</td>\n",
              "      <td>1-1 Quién desempata?</td>\n",
              "      <td>1-1 Quién desempata ?</td>\n",
              "      <td>1-1 Quién desempata ?</td>\n",
              "      <td>1-1 who unpacks?</td>\n",
              "      <td>4</td>\n",
              "      <td>22</td>\n",
              "      <td>0.181818</td>\n",
              "      <td>0</td>\n",
              "      <td>0</td>\n",
              "      <td>0</td>\n",
              "      <td>:thinking_face:</td>\n",
              "      <td>0</td>\n",
              "      <td>3</td>\n",
              "      <td>0</td>\n",
              "      <td>0</td>\n",
              "      <td>0</td>\n",
              "      <td>0</td>\n",
              "      <td>0</td>\n",
              "      <td>NaN</td>\n",
              "      <td>NaN</td>\n",
              "      <td>NaN</td>\n",
              "    </tr>\n",
              "    <tr>\n",
              "      <th>9</th>\n",
              "      <td>tweet4660</td>\n",
              "      <td>Siento q hace una semana se fue y recién van t...</td>\n",
              "      <td>Siento q hace una semana se fue y recién van t...</td>\n",
              "      <td>Siento q hace una semana se fue y recién van t...</td>\n",
              "      <td>Siento q hace una semana se fue y recién van t...</td>\n",
              "      <td>Siento q hace una semana se fue y recién van t...</td>\n",
              "      <td>I feel like a week ago he left and it's only t...</td>\n",
              "      <td>20</td>\n",
              "      <td>73</td>\n",
              "      <td>0.273973</td>\n",
              "      <td>1</td>\n",
              "      <td>0</td>\n",
              "      <td>1</td>\n",
              "      <td>no_emojis</td>\n",
              "      <td>0</td>\n",
              "      <td>3</td>\n",
              "      <td>0</td>\n",
              "      <td>0</td>\n",
              "      <td>0</td>\n",
              "      <td>0</td>\n",
              "      <td>0</td>\n",
              "      <td>NaN</td>\n",
              "      <td>NaN</td>\n",
              "      <td>NaN</td>\n",
              "    </tr>\n",
              "  </tbody>\n",
              "</table>\n",
              "</div>"
            ],
            "text/plain": [
              "          id  ... humor_target\n",
              "2  tweet4653  ...          NaN\n",
              "3  tweet4654  ...          NaN\n",
              "4  tweet4655  ...          NaN\n",
              "5  tweet4656  ...          NaN\n",
              "6  tweet4657  ...          NaN\n",
              "7  tweet4658  ...          NaN\n",
              "8  tweet4659  ...          NaN\n",
              "9  tweet4660  ...          NaN\n",
              "\n",
              "[8 rows x 24 columns]"
            ]
          },
          "metadata": {
            "tags": []
          },
          "execution_count": 186
        }
      ]
    },
    {
      "cell_type": "code",
      "metadata": {
        "colab": {
          "base_uri": "https://localhost:8080/"
        },
        "id": "ryBvn4le3Gw8",
        "outputId": "7ad9748e-9184-4111-c3c2-1e1ad95d39d1"
      },
      "source": [
        "test_corpus['text_emojis'][~test_corpus['text_emojis'].isna()]"
      ],
      "execution_count": 187,
      "outputs": [
        {
          "output_type": "execute_result",
          "data": {
            "text/plain": [
              "0                                            no_emojis\n",
              "1    :grinning_squinting_face: :grinning_squinting_...\n",
              "2                                            no_emojis\n",
              "3                                            no_emojis\n",
              "4                                            no_emojis\n",
              "5                                            no_emojis\n",
              "6                                            no_emojis\n",
              "7                                            no_emojis\n",
              "8                                      :thinking_face:\n",
              "9                                            no_emojis\n",
              "Name: text_emojis, dtype: object"
            ]
          },
          "metadata": {
            "tags": []
          },
          "execution_count": 187
        }
      ]
    },
    {
      "cell_type": "code",
      "metadata": {
        "colab": {
          "base_uri": "https://localhost:8080/",
          "height": 35
        },
        "id": "CnOWzgENd_ko",
        "outputId": "ac2ecdd6-77e2-4f6e-8c4e-8056a6291701"
      },
      "source": [
        "test_corpus.iloc[6]['text']"
      ],
      "execution_count": 188,
      "outputs": [
        {
          "output_type": "execute_result",
          "data": {
            "application/vnd.google.colaboratory.intrinsic+json": {
              "type": "string"
            },
            "text/plain": [
              "'Le saque platica a una de ellas, y pues ehhh.\\nsigo siendo el rechazado del colegio.\\nme deberia de pegar un tiro.'"
            ]
          },
          "metadata": {
            "tags": []
          },
          "execution_count": 188
        }
      ]
    },
    {
      "cell_type": "code",
      "metadata": {
        "colab": {
          "base_uri": "https://localhost:8080/",
          "height": 35
        },
        "id": "YM1fUW4zh5zW",
        "outputId": "a6e6f35b-4129-445a-edf7-11ddaa25c6b7"
      },
      "source": [
        "test_corpus.iloc[6]['text_v3']"
      ],
      "execution_count": 189,
      "outputs": [
        {
          "output_type": "execute_result",
          "data": {
            "application/vnd.google.colaboratory.intrinsic+json": {
              "type": "string"
            },
            "text/plain": [
              "'Le saque platica a una de ellas, y pues eh.\\nsigo siendo el rechazado del colegio.\\nme deberia de pegar un tiro.'"
            ]
          },
          "metadata": {
            "tags": []
          },
          "execution_count": 189
        }
      ]
    },
    {
      "cell_type": "code",
      "metadata": {
        "colab": {
          "base_uri": "https://localhost:8080/",
          "height": 35
        },
        "id": "N81Cmutih-lp",
        "outputId": "7fd285f7-1fc2-4cdb-cbb6-8cd52d049a2d"
      },
      "source": [
        "test_corpus.iloc[6]['text_v4']"
      ],
      "execution_count": 190,
      "outputs": [
        {
          "output_type": "execute_result",
          "data": {
            "application/vnd.google.colaboratory.intrinsic+json": {
              "type": "string"
            },
            "text/plain": [
              "'Le saque platica a una de ellas y pues eh . sigo siendo el rechazado del colegio . me deberia de pegar un tiro . '"
            ]
          },
          "metadata": {
            "tags": []
          },
          "execution_count": 190
        }
      ]
    },
    {
      "cell_type": "code",
      "metadata": {
        "colab": {
          "base_uri": "https://localhost:8080/",
          "height": 35
        },
        "id": "aA3-usHidtbh",
        "outputId": "ff3339f7-ad08-4a17-ee4d-12cd59cdf095"
      },
      "source": [
        "test_corpus.iloc[6]['text_v5']"
      ],
      "execution_count": 191,
      "outputs": [
        {
          "output_type": "execute_result",
          "data": {
            "application/vnd.google.colaboratory.intrinsic+json": {
              "type": "string"
            },
            "text/plain": [
              "'Le saque platica a una de ellas y pues eh . sigo siendo el rechazado del colegio . me deberia de pegar un tiro . '"
            ]
          },
          "metadata": {
            "tags": []
          },
          "execution_count": 191
        }
      ]
    },
    {
      "cell_type": "code",
      "metadata": {
        "colab": {
          "base_uri": "https://localhost:8080/",
          "height": 35
        },
        "id": "NGc67vE0eJC6",
        "outputId": "66025812-2331-4253-8bed-f6bd4e040214"
      },
      "source": [
        "test_corpus.iloc[6]['en_text']"
      ],
      "execution_count": 192,
      "outputs": [
        {
          "output_type": "execute_result",
          "data": {
            "application/vnd.google.colaboratory.intrinsic+json": {
              "type": "string"
            },
            "text/plain": [
              "\"I take one of them out of talk, and then I'm still the rejected one from school. I should have shot myself.\""
            ]
          },
          "metadata": {
            "tags": []
          },
          "execution_count": 192
        }
      ]
    },
    {
      "cell_type": "markdown",
      "metadata": {
        "id": "WbrUBiTrX93k"
      },
      "source": [
        "**I'm bored** antes se traducía como **meeee bored**, así que hemos ganado en calidad.\n",
        "\n",
        "Generar a partir de text_v2, text_v3 donde se pase text_v2 y se haga el spell_checker"
      ]
    },
    {
      "cell_type": "code",
      "metadata": {
        "colab": {
          "base_uri": "https://localhost:8080/",
          "height": 817
        },
        "id": "_G6N_TChj3lc",
        "outputId": "a96e3dd7-f4a7-4b96-dc93-dde9294570fb"
      },
      "source": [
        "# eliminar nulos\n",
        "\n",
        "df_train = test_corpus[~test_corpus.text_v5.isna()]\n",
        "df_train"
      ],
      "execution_count": 193,
      "outputs": [
        {
          "output_type": "execute_result",
          "data": {
            "text/html": [
              "<div>\n",
              "<style scoped>\n",
              "    .dataframe tbody tr th:only-of-type {\n",
              "        vertical-align: middle;\n",
              "    }\n",
              "\n",
              "    .dataframe tbody tr th {\n",
              "        vertical-align: top;\n",
              "    }\n",
              "\n",
              "    .dataframe thead th {\n",
              "        text-align: right;\n",
              "    }\n",
              "</style>\n",
              "<table border=\"1\" class=\"dataframe\">\n",
              "  <thead>\n",
              "    <tr style=\"text-align: right;\">\n",
              "      <th></th>\n",
              "      <th>id</th>\n",
              "      <th>text</th>\n",
              "      <th>text_v2</th>\n",
              "      <th>text_v3</th>\n",
              "      <th>text_v4</th>\n",
              "      <th>text_v5</th>\n",
              "      <th>en_text</th>\n",
              "      <th>len_token</th>\n",
              "      <th>n_char</th>\n",
              "      <th>ratio</th>\n",
              "      <th>detected_cansinos</th>\n",
              "      <th>detected_emojis_cansinos</th>\n",
              "      <th>detected_text_cansinos</th>\n",
              "      <th>text_emojis</th>\n",
              "      <th>is_humor</th>\n",
              "      <th>votes_no</th>\n",
              "      <th>votes_1</th>\n",
              "      <th>votes_2</th>\n",
              "      <th>votes_3</th>\n",
              "      <th>votes_4</th>\n",
              "      <th>votes_5</th>\n",
              "      <th>humor_rating</th>\n",
              "      <th>humor_mechanism</th>\n",
              "      <th>humor_target</th>\n",
              "    </tr>\n",
              "  </thead>\n",
              "  <tbody>\n",
              "    <tr>\n",
              "      <th>0</th>\n",
              "      <td>tweet4651</td>\n",
              "      <td>“Te voy a dejar encerrado todo el día y sin In...</td>\n",
              "      <td>“Te voy a dejar encerrado todo el día y sin In...</td>\n",
              "      <td>“Te voy a dejar encerrado todo el día y sin In...</td>\n",
              "      <td>te voy a dejar encerrado todo el día y sin Int...</td>\n",
              "      <td>te voy a dejar encerrado todo el día y sin Int...</td>\n",
              "      <td>I'm going to leave you locked up all day and w...</td>\n",
              "      <td>30</td>\n",
              "      <td>139</td>\n",
              "      <td>0.215827</td>\n",
              "      <td>0</td>\n",
              "      <td>0</td>\n",
              "      <td>0</td>\n",
              "      <td>no_emojis</td>\n",
              "      <td>1</td>\n",
              "      <td>0</td>\n",
              "      <td>2</td>\n",
              "      <td>0</td>\n",
              "      <td>2</td>\n",
              "      <td>1</td>\n",
              "      <td>0</td>\n",
              "      <td>2.40</td>\n",
              "      <td>NaN</td>\n",
              "      <td>NaN</td>\n",
              "    </tr>\n",
              "    <tr>\n",
              "      <th>1</th>\n",
              "      <td>tweet4652</td>\n",
              "      <td>Es verdad eso que dicen que después de los qui...</td>\n",
              "      <td>Es verdad eso que dicen que después de los qui...</td>\n",
              "      <td>Es verdad eso que dicen que después de los qui...</td>\n",
              "      <td>Es verdad eso que dicen que después de los qui...</td>\n",
              "      <td>Es verdad eso que dicen que después de los qui...</td>\n",
              "      <td>It is true that they say that after the fiftee...</td>\n",
              "      <td>13</td>\n",
              "      <td>73</td>\n",
              "      <td>0.178082</td>\n",
              "      <td>0</td>\n",
              "      <td>0</td>\n",
              "      <td>0</td>\n",
              "      <td>:grinning_squinting_face: :grinning_squinting_...</td>\n",
              "      <td>0</td>\n",
              "      <td>3</td>\n",
              "      <td>0</td>\n",
              "      <td>0</td>\n",
              "      <td>0</td>\n",
              "      <td>0</td>\n",
              "      <td>0</td>\n",
              "      <td>NaN</td>\n",
              "      <td>NaN</td>\n",
              "      <td>NaN</td>\n",
              "    </tr>\n",
              "    <tr>\n",
              "      <th>2</th>\n",
              "      <td>tweet4653</td>\n",
              "      <td>En mi defensa diré que fui educado mientras El...</td>\n",
              "      <td>En mi defensa diré que fui educado mientras El...</td>\n",
              "      <td>En mi defensa diré que fui educado mientras El...</td>\n",
              "      <td>En mi defensa diré que fui educado mientras El...</td>\n",
              "      <td>En mi defensa diré que fui educado mientras El...</td>\n",
              "      <td>in my defense I will say that I was educated w...</td>\n",
              "      <td>15</td>\n",
              "      <td>88</td>\n",
              "      <td>0.170455</td>\n",
              "      <td>0</td>\n",
              "      <td>0</td>\n",
              "      <td>0</td>\n",
              "      <td>no_emojis</td>\n",
              "      <td>0</td>\n",
              "      <td>3</td>\n",
              "      <td>0</td>\n",
              "      <td>0</td>\n",
              "      <td>0</td>\n",
              "      <td>0</td>\n",
              "      <td>0</td>\n",
              "      <td>NaN</td>\n",
              "      <td>NaN</td>\n",
              "      <td>NaN</td>\n",
              "    </tr>\n",
              "    <tr>\n",
              "      <th>3</th>\n",
              "      <td>tweet4654</td>\n",
              "      <td>Ahorita en la calle escuche a dos vatos decir:...</td>\n",
              "      <td>Ahorita en la calle escuche a dos vatos decir:...</td>\n",
              "      <td>Ahorita en la calle escuche a dos vatos decir:...</td>\n",
              "      <td>Ahorita en la calle escuche a dos vatos decir ...</td>\n",
              "      <td>Ahorita en la calle escuche a dos vatos decir ...</td>\n",
              "      <td>right now on the street listen to two vatos sa...</td>\n",
              "      <td>29</td>\n",
              "      <td>136</td>\n",
              "      <td>0.213235</td>\n",
              "      <td>0</td>\n",
              "      <td>0</td>\n",
              "      <td>0</td>\n",
              "      <td>no_emojis</td>\n",
              "      <td>1</td>\n",
              "      <td>0</td>\n",
              "      <td>2</td>\n",
              "      <td>1</td>\n",
              "      <td>2</td>\n",
              "      <td>0</td>\n",
              "      <td>0</td>\n",
              "      <td>2.00</td>\n",
              "      <td>misunderstanding</td>\n",
              "      <td>NaN</td>\n",
              "    </tr>\n",
              "    <tr>\n",
              "      <th>4</th>\n",
              "      <td>tweet4655</td>\n",
              "      <td>Eramos mutuals @LOUISCARAJO</td>\n",
              "      <td>Eramos mutuals @LOUISCARAJO</td>\n",
              "      <td>Eramos mutuals @LOUISCARAJO</td>\n",
              "      <td>Eramos mutuas @LOUISCARAJO</td>\n",
              "      <td>Eramos mutuas @LOUISCARAJO</td>\n",
              "      <td>we were mutual @louiscarajo</td>\n",
              "      <td>3</td>\n",
              "      <td>27</td>\n",
              "      <td>0.111111</td>\n",
              "      <td>0</td>\n",
              "      <td>0</td>\n",
              "      <td>0</td>\n",
              "      <td>no_emojis</td>\n",
              "      <td>0</td>\n",
              "      <td>3</td>\n",
              "      <td>0</td>\n",
              "      <td>0</td>\n",
              "      <td>0</td>\n",
              "      <td>0</td>\n",
              "      <td>0</td>\n",
              "      <td>NaN</td>\n",
              "      <td>NaN</td>\n",
              "      <td>NaN</td>\n",
              "    </tr>\n",
              "    <tr>\n",
              "      <th>5</th>\n",
              "      <td>tweet4656</td>\n",
              "      <td>Quero desaparecer</td>\n",
              "      <td>Quero desaparecer</td>\n",
              "      <td>Quero desaparecer</td>\n",
              "      <td>Quero desaparecer</td>\n",
              "      <td>Quero desaparecer</td>\n",
              "      <td>I want to disappear.</td>\n",
              "      <td>2</td>\n",
              "      <td>17</td>\n",
              "      <td>0.117647</td>\n",
              "      <td>0</td>\n",
              "      <td>0</td>\n",
              "      <td>0</td>\n",
              "      <td>no_emojis</td>\n",
              "      <td>0</td>\n",
              "      <td>3</td>\n",
              "      <td>0</td>\n",
              "      <td>0</td>\n",
              "      <td>0</td>\n",
              "      <td>0</td>\n",
              "      <td>0</td>\n",
              "      <td>NaN</td>\n",
              "      <td>NaN</td>\n",
              "      <td>NaN</td>\n",
              "    </tr>\n",
              "    <tr>\n",
              "      <th>6</th>\n",
              "      <td>tweet4657</td>\n",
              "      <td>Le saque platica a una de ellas, y pues ehhh.\\...</td>\n",
              "      <td>Le saque platica a una de ellas, y pues ehhh.\\...</td>\n",
              "      <td>Le saque platica a una de ellas, y pues eh.\\ns...</td>\n",
              "      <td>Le saque platica a una de ellas y pues eh . si...</td>\n",
              "      <td>Le saque platica a una de ellas y pues eh . si...</td>\n",
              "      <td>I take one of them out of talk, and then I'm s...</td>\n",
              "      <td>22</td>\n",
              "      <td>112</td>\n",
              "      <td>0.196429</td>\n",
              "      <td>1</td>\n",
              "      <td>0</td>\n",
              "      <td>1</td>\n",
              "      <td>no_emojis</td>\n",
              "      <td>0</td>\n",
              "      <td>3</td>\n",
              "      <td>0</td>\n",
              "      <td>0</td>\n",
              "      <td>0</td>\n",
              "      <td>0</td>\n",
              "      <td>0</td>\n",
              "      <td>NaN</td>\n",
              "      <td>NaN</td>\n",
              "      <td>NaN</td>\n",
              "    </tr>\n",
              "    <tr>\n",
              "      <th>7</th>\n",
              "      <td>tweet4658</td>\n",
              "      <td>Lo que veo en matemáticas: 我不明白這我不明白這. :|</td>\n",
              "      <td>Lo que veo en matemáticas: 我不明白這我不明白這. :|</td>\n",
              "      <td>Lo que veo en matemáticas: 我不明白這我不明白這. :|</td>\n",
              "      <td>Lo que veo en matemáticas 我不明白這我不明白這 .  :|</td>\n",
              "      <td>Lo que veo en matemáticas 我不明白這我不明白這 .  :|</td>\n",
              "      <td>what I see in mathematics  &lt;..&gt; :</td>\n",
              "      <td>7</td>\n",
              "      <td>41</td>\n",
              "      <td>0.170732</td>\n",
              "      <td>0</td>\n",
              "      <td>0</td>\n",
              "      <td>0</td>\n",
              "      <td>no_emojis</td>\n",
              "      <td>1</td>\n",
              "      <td>1</td>\n",
              "      <td>1</td>\n",
              "      <td>1</td>\n",
              "      <td>2</td>\n",
              "      <td>0</td>\n",
              "      <td>0</td>\n",
              "      <td>2.25</td>\n",
              "      <td>NaN</td>\n",
              "      <td>NaN</td>\n",
              "    </tr>\n",
              "    <tr>\n",
              "      <th>8</th>\n",
              "      <td>tweet4659</td>\n",
              "      <td>1-1 Quién desempata? 🤔</td>\n",
              "      <td>1-1 Quién desempata?</td>\n",
              "      <td>1-1 Quién desempata?</td>\n",
              "      <td>1-1 Quién desempata ?</td>\n",
              "      <td>1-1 Quién desempata ?</td>\n",
              "      <td>1-1 who unpacks?</td>\n",
              "      <td>4</td>\n",
              "      <td>22</td>\n",
              "      <td>0.181818</td>\n",
              "      <td>0</td>\n",
              "      <td>0</td>\n",
              "      <td>0</td>\n",
              "      <td>:thinking_face:</td>\n",
              "      <td>0</td>\n",
              "      <td>3</td>\n",
              "      <td>0</td>\n",
              "      <td>0</td>\n",
              "      <td>0</td>\n",
              "      <td>0</td>\n",
              "      <td>0</td>\n",
              "      <td>NaN</td>\n",
              "      <td>NaN</td>\n",
              "      <td>NaN</td>\n",
              "    </tr>\n",
              "    <tr>\n",
              "      <th>9</th>\n",
              "      <td>tweet4660</td>\n",
              "      <td>Siento q hace una semana se fue y recién van t...</td>\n",
              "      <td>Siento q hace una semana se fue y recién van t...</td>\n",
              "      <td>Siento q hace una semana se fue y recién van t...</td>\n",
              "      <td>Siento q hace una semana se fue y recién van t...</td>\n",
              "      <td>Siento q hace una semana se fue y recién van t...</td>\n",
              "      <td>I feel like a week ago he left and it's only t...</td>\n",
              "      <td>20</td>\n",
              "      <td>73</td>\n",
              "      <td>0.273973</td>\n",
              "      <td>1</td>\n",
              "      <td>0</td>\n",
              "      <td>1</td>\n",
              "      <td>no_emojis</td>\n",
              "      <td>0</td>\n",
              "      <td>3</td>\n",
              "      <td>0</td>\n",
              "      <td>0</td>\n",
              "      <td>0</td>\n",
              "      <td>0</td>\n",
              "      <td>0</td>\n",
              "      <td>NaN</td>\n",
              "      <td>NaN</td>\n",
              "      <td>NaN</td>\n",
              "    </tr>\n",
              "  </tbody>\n",
              "</table>\n",
              "</div>"
            ],
            "text/plain": [
              "          id  ... humor_target\n",
              "0  tweet4651  ...          NaN\n",
              "1  tweet4652  ...          NaN\n",
              "2  tweet4653  ...          NaN\n",
              "3  tweet4654  ...          NaN\n",
              "4  tweet4655  ...          NaN\n",
              "5  tweet4656  ...          NaN\n",
              "6  tweet4657  ...          NaN\n",
              "7  tweet4658  ...          NaN\n",
              "8  tweet4659  ...          NaN\n",
              "9  tweet4660  ...          NaN\n",
              "\n",
              "[10 rows x 24 columns]"
            ]
          },
          "metadata": {
            "tags": []
          },
          "execution_count": 193
        }
      ]
    }
  ]
}