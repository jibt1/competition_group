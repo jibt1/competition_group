{
  "nbformat": 4,
  "nbformat_minor": 0,
  "metadata": {
    "colab": {
      "name": "PreprocesadoTextos_SuperFinalV.ipynb",
      "provenance": [],
      "collapsed_sections": [],
      "toc_visible": true
    },
    "kernelspec": {
      "name": "python3",
      "display_name": "Python 3"
    },
    "language_info": {
      "name": "python"
    }
  },
  "cells": [
    {
      "cell_type": "markdown",
      "metadata": {
        "id": "2Mj-ks6fqT25"
      },
      "source": [
        " # Todas las cuestiones relativas al preprocesado figuran en este Collab"
      ]
    },
    {
      "cell_type": "markdown",
      "metadata": {
        "id": "Mrsy19b21q6J"
      },
      "source": [
        "#### **Recordatorio**: aunque todo este preprocesado se haya hecho en grupo, se recuerda que la redacción ha de ser personalizada."
      ]
    },
    {
      "cell_type": "markdown",
      "metadata": {
        "id": "73QBKRpzqasp"
      },
      "source": [
        "---\n",
        "---\n",
        "\n",
        "# Length Features\n",
        "\n",
        "Aquí se recogen algunas variables relacionadas con la longitud de la frase tanto a nivel de token como a nivel de caracter."
      ]
    },
    {
      "cell_type": "code",
      "metadata": {
        "id": "rPxleGp6p6BH"
      },
      "source": [
        "import pandas as pd\n",
        "train_dataframe = pd.read_csv(\"https://raw.githubusercontent.com/jibt1/competition_group/main/Tareas/datasets/haha_2021_train.csv\", sep=',')"
      ],
      "execution_count": 1,
      "outputs": []
    },
    {
      "cell_type": "code",
      "metadata": {
        "id": "O0P3h2Zvqxqz"
      },
      "source": [
        "text = train_dataframe[['id', 'text', 'is_humor']]\n",
        "text = text.iloc[0:100,:]"
      ],
      "execution_count": 2,
      "outputs": []
    },
    {
      "cell_type": "code",
      "metadata": {
        "colab": {
          "base_uri": "https://localhost:8080/",
          "height": 404
        },
        "id": "_YWgPaW5qswt",
        "outputId": "c5f0f6be-f024-48dd-bdaa-ff8600f68ed2"
      },
      "source": [
        "def len_token(tweet):\n",
        "  tweet_tokens = tweet.replace('\\n', ' ').split(' ')\n",
        "  return len(tweet_tokens)\n",
        "def n_characters_tweet(tweet):\n",
        "  tweet = tweet.replace('\\n', ' ')\n",
        "  return len(tweet)\n",
        "\n",
        "def get_len_token(text):\n",
        "  return list(map(len_token, text['text'].to_list()))\n",
        "\n",
        "def get_n_characters_tweet(text):\n",
        "  return list(map(n_characters_tweet, text['text'].to_list()))\n",
        "\n",
        "def get_n_characters_tweet(text):\n",
        "  return list(map(n_characters_tweet, text['text'].to_list()))\n",
        "\n",
        "text['len_token'] = get_len_token(text)\n",
        "\n",
        "text['n_char'] = get_n_characters_tweet(text)\n",
        "\n",
        "text['ratio'] = text['len_token']/text['n_char']\n",
        "\n",
        "text"
      ],
      "execution_count": 3,
      "outputs": [
        {
          "output_type": "execute_result",
          "data": {
            "text/html": [
              "<div>\n",
              "<style scoped>\n",
              "    .dataframe tbody tr th:only-of-type {\n",
              "        vertical-align: middle;\n",
              "    }\n",
              "\n",
              "    .dataframe tbody tr th {\n",
              "        vertical-align: top;\n",
              "    }\n",
              "\n",
              "    .dataframe thead th {\n",
              "        text-align: right;\n",
              "    }\n",
              "</style>\n",
              "<table border=\"1\" class=\"dataframe\">\n",
              "  <thead>\n",
              "    <tr style=\"text-align: right;\">\n",
              "      <th></th>\n",
              "      <th>id</th>\n",
              "      <th>text</th>\n",
              "      <th>is_humor</th>\n",
              "      <th>len_token</th>\n",
              "      <th>n_char</th>\n",
              "      <th>ratio</th>\n",
              "    </tr>\n",
              "  </thead>\n",
              "  <tbody>\n",
              "    <tr>\n",
              "      <th>0</th>\n",
              "      <td>tweet1</td>\n",
              "      <td>Niveles de retraso mental: \\n\\n— Bajo.\\n— Medi...</td>\n",
              "      <td>1</td>\n",
              "      <td>19</td>\n",
              "      <td>86</td>\n",
              "      <td>0.220930</td>\n",
              "    </tr>\n",
              "    <tr>\n",
              "      <th>1</th>\n",
              "      <td>tweet2</td>\n",
              "      <td>—Vamos Luke desenfunda tu sable, demuestra tu ...</td>\n",
              "      <td>1</td>\n",
              "      <td>22</td>\n",
              "      <td>140</td>\n",
              "      <td>0.157143</td>\n",
              "    </tr>\n",
              "    <tr>\n",
              "      <th>2</th>\n",
              "      <td>tweet3</td>\n",
              "      <td>- ¿Te ofrezco algo?, ¿Agua, café, mi corazón, ...</td>\n",
              "      <td>1</td>\n",
              "      <td>21</td>\n",
              "      <td>112</td>\n",
              "      <td>0.187500</td>\n",
              "    </tr>\n",
              "    <tr>\n",
              "      <th>3</th>\n",
              "      <td>tweet4</td>\n",
              "      <td>No se porqué me hago la cabeza deooos</td>\n",
              "      <td>0</td>\n",
              "      <td>8</td>\n",
              "      <td>37</td>\n",
              "      <td>0.216216</td>\n",
              "    </tr>\n",
              "    <tr>\n",
              "      <th>4</th>\n",
              "      <td>tweet5</td>\n",
              "      <td>Quisiera saber que hago durante la siesta de l...</td>\n",
              "      <td>0</td>\n",
              "      <td>20</td>\n",
              "      <td>106</td>\n",
              "      <td>0.188679</td>\n",
              "    </tr>\n",
              "    <tr>\n",
              "      <th>...</th>\n",
              "      <td>...</td>\n",
              "      <td>...</td>\n",
              "      <td>...</td>\n",
              "      <td>...</td>\n",
              "      <td>...</td>\n",
              "      <td>...</td>\n",
              "    </tr>\n",
              "    <tr>\n",
              "      <th>95</th>\n",
              "      <td>tweet96</td>\n",
              "      <td>el pecado que cometió lamujer en el paraíso de...</td>\n",
              "      <td>1</td>\n",
              "      <td>25</td>\n",
              "      <td>140</td>\n",
              "      <td>0.178571</td>\n",
              "    </tr>\n",
              "    <tr>\n",
              "      <th>96</th>\n",
              "      <td>tweet97</td>\n",
              "      <td>- El otro día ví a tu suegra y .....\\n- ¡Alto ...</td>\n",
              "      <td>1</td>\n",
              "      <td>26</td>\n",
              "      <td>116</td>\n",
              "      <td>0.224138</td>\n",
              "    </tr>\n",
              "    <tr>\n",
              "      <th>97</th>\n",
              "      <td>tweet98</td>\n",
              "      <td>#Chiste Te amo\\n- ¿En serio? Que casualidad!\\n...</td>\n",
              "      <td>1</td>\n",
              "      <td>20</td>\n",
              "      <td>97</td>\n",
              "      <td>0.206186</td>\n",
              "    </tr>\n",
              "    <tr>\n",
              "      <th>98</th>\n",
              "      <td>tweet99</td>\n",
              "      <td>Escuchar reggaetón \\n\\nES DE POBRES</td>\n",
              "      <td>0</td>\n",
              "      <td>7</td>\n",
              "      <td>33</td>\n",
              "      <td>0.212121</td>\n",
              "    </tr>\n",
              "    <tr>\n",
              "      <th>99</th>\n",
              "      <td>tweet100</td>\n",
              "      <td>Que pena que cuando me vengas a buscar ya no e...</td>\n",
              "      <td>0</td>\n",
              "      <td>12</td>\n",
              "      <td>55</td>\n",
              "      <td>0.218182</td>\n",
              "    </tr>\n",
              "  </tbody>\n",
              "</table>\n",
              "<p>100 rows × 6 columns</p>\n",
              "</div>"
            ],
            "text/plain": [
              "          id  ...     ratio\n",
              "0     tweet1  ...  0.220930\n",
              "1     tweet2  ...  0.157143\n",
              "2     tweet3  ...  0.187500\n",
              "3     tweet4  ...  0.216216\n",
              "4     tweet5  ...  0.188679\n",
              "..       ...  ...       ...\n",
              "95   tweet96  ...  0.178571\n",
              "96   tweet97  ...  0.224138\n",
              "97   tweet98  ...  0.206186\n",
              "98   tweet99  ...  0.212121\n",
              "99  tweet100  ...  0.218182\n",
              "\n",
              "[100 rows x 6 columns]"
            ]
          },
          "metadata": {
            "tags": []
          },
          "execution_count": 3
        }
      ]
    },
    {
      "cell_type": "markdown",
      "metadata": {
        "id": "Vg40bU_6q_0a"
      },
      "source": [
        "---\n",
        "---\n",
        "\n",
        "# Word Emoji Context Matrix. 🤣 😆 😂 \n",
        "\n",
        "Descripción: Extracción/guardado de Emojis y depuración del Corpus\n",
        "\n",
        "Inconvenientes detectados con los emojis:\n",
        "\n",
        "* 1 Resulta que los emojis hemos podido verificar que countvectorizer los ignora. Es decir si las frases fueran solo emojis el shape de la matriz word context sería (1,1), con valor empty.\n",
        "\n",
        "* 2 Aun suponiendo que exista alguna alternativa a countvectorizer muchas personas escriben palabras juntas con emojis, e.g.: 'man👨', lo que podría generar un token más del vocabulario que innecesario. Además pueden escribir varios emojis juntos 👨, 👨👨, 👨👨👨, ... generando también un problema en su identificación.\n",
        "\n",
        "La propuesta ha sido realizar un preproceso como el siguiente. Además, para solucionar el problema de los emoticonos, en lugar de pasárselos a countvectorizer en bruto utilizamos la decodificación a texto de la librería emoji: **emoji.demojize()**"
      ]
    },
    {
      "cell_type": "code",
      "metadata": {
        "id": "pIiT0DQFr7-D",
        "colab": {
          "base_uri": "https://localhost:8080/"
        },
        "outputId": "f52606c9-2065-485a-a8ff-c2e08c065993"
      },
      "source": [
        "# %%capture\n",
        "!pip install emoji"
      ],
      "execution_count": 4,
      "outputs": [
        {
          "output_type": "stream",
          "text": [
            "Requirement already satisfied: emoji in /usr/local/lib/python3.7/dist-packages (1.2.0)\n"
          ],
          "name": "stdout"
        }
      ]
    },
    {
      "cell_type": "code",
      "metadata": {
        "id": "8fZg102qqy3x"
      },
      "source": [
        "import emoji"
      ],
      "execution_count": 5,
      "outputs": []
    },
    {
      "cell_type": "code",
      "metadata": {
        "id": "zrtV7mIUrxI6"
      },
      "source": [
        "def extract_emojis(tweet):\n",
        "  return ''.join(c for c in tweet if c in emoji.UNICODE_EMOJI_ENGLISH)\n",
        "\n",
        "def get_emojilist(tweet):\n",
        "  emojistring = extract_emojis(tweet)\n",
        "  emojilist = [emoji for emoji in emojistring]\n",
        "  for emoji in emojilist:\n",
        "    tweet = tweet.replace(emoji, \"\")\n",
        "  return tweet, emojilist\n",
        "\n",
        "def get_emoji_sentence(tweet):\n",
        "  tweet, emojilist = get_emojilist(tweet)\n",
        "  emoji_sentence = emoji.demojize(' '.join(emojilist))\n",
        "  return tweet, emoji_sentence\n",
        "\n",
        "def filter(text_df):\n",
        "  filtered_df = pd.DataFrame(map(get_emoji_sentence, text_df['text'].to_list()))\n",
        "  filtered_df.rename(columns={0: 'sentences_without_emojis', 1: 'emoji_sentences'}, inplace=True)\n",
        "  return filtered_df\n",
        "\n",
        "df_filter_output = filter(text)\n",
        "\n",
        "df_cleaned_sentences = df_filter_output[['sentences_without_emojis']]\n",
        "# df_cleaned_sentences = df_filter_output['emoji_sentences']\n",
        "\n",
        "text['text_v2'] = df_filter_output['sentences_without_emojis'].to_list()\n",
        "\n",
        "emoji_sentences = df_filter_output['emoji_sentences']\n",
        "\n",
        "text['text_emojis'] = emoji_sentences.to_list()\n",
        "\n",
        "\n",
        "def get_emoji_vocab(emoji_sentence):\n",
        "  analyzer = CountVectorizer(binary=False, analyzer='word', # stop_words=more_stop_words,\n",
        "                              ngram_range=(1, 1)).build_analyzer()\n",
        "  return (emoji for emoji in analyzer(emoji_sentence))"
      ],
      "execution_count": 6,
      "outputs": []
    },
    {
      "cell_type": "code",
      "metadata": {
        "id": "RHBFHP-dsILP"
      },
      "source": [
        "from sklearn.feature_extraction.text import  CountVectorizer\n",
        "cv_emoji = CountVectorizer(analyzer=get_emoji_vocab)"
      ],
      "execution_count": 7,
      "outputs": []
    },
    {
      "cell_type": "code",
      "metadata": {
        "id": "QXpdsPjBsOR0"
      },
      "source": [
        "try:\n",
        "  word_context_emoji = cv_emoji.fit_transform(emoji_sentences.to_list())\n",
        "# Just if there is no emoji\n",
        "except ValueError:\n",
        "  emoji_sentences.loc[0,0] = emoji.demojize(\"🆘\")\n",
        "  word_context_emoji = cv_emoji.fit_transform(emoji_sentences.to_list())\n",
        "  \"\"\"emoji_sentences_test = emoji_sentences\"\"\"\n",
        "  \"\"\"emoji_sentences_test.loc[0,0] = \"🆘🆘🆘🆘🆘🆘🆘🆘\"\"\"\n",
        "  \"\"\"text['text_emojis'] = emoji_sentences_test.to_list()\"\"\"\n",
        "# cv_emoji.get_feature_names()"
      ],
      "execution_count": 8,
      "outputs": []
    },
    {
      "cell_type": "code",
      "metadata": {
        "colab": {
          "base_uri": "https://localhost:8080/"
        },
        "id": "kGX1lnvAZLzh",
        "outputId": "ee53b831-195d-4796-ed44-93af831891f9"
      },
      "source": [
        "cv_emoji.get_feature_names()"
      ],
      "execution_count": 9,
      "outputs": [
        {
          "output_type": "execute_result",
          "data": {
            "text/plain": [
              "['face_with_tears_of_joy',\n",
              " 'light_skin_tone',\n",
              " 'loudly_crying_face',\n",
              " 'loudspeaker',\n",
              " 'male_sign',\n",
              " 'medium',\n",
              " 'person_shrugging']"
            ]
          },
          "metadata": {
            "tags": []
          },
          "execution_count": 9
        }
      ]
    },
    {
      "cell_type": "code",
      "metadata": {
        "colab": {
          "base_uri": "https://localhost:8080/",
          "height": 404
        },
        "id": "C_DfuZRWUbyY",
        "outputId": "6ee76152-a65e-4ce7-bfb6-e2e14c3e1add"
      },
      "source": [
        "text"
      ],
      "execution_count": 10,
      "outputs": [
        {
          "output_type": "execute_result",
          "data": {
            "text/html": [
              "<div>\n",
              "<style scoped>\n",
              "    .dataframe tbody tr th:only-of-type {\n",
              "        vertical-align: middle;\n",
              "    }\n",
              "\n",
              "    .dataframe tbody tr th {\n",
              "        vertical-align: top;\n",
              "    }\n",
              "\n",
              "    .dataframe thead th {\n",
              "        text-align: right;\n",
              "    }\n",
              "</style>\n",
              "<table border=\"1\" class=\"dataframe\">\n",
              "  <thead>\n",
              "    <tr style=\"text-align: right;\">\n",
              "      <th></th>\n",
              "      <th>id</th>\n",
              "      <th>text</th>\n",
              "      <th>is_humor</th>\n",
              "      <th>len_token</th>\n",
              "      <th>n_char</th>\n",
              "      <th>ratio</th>\n",
              "      <th>text_v2</th>\n",
              "      <th>text_emojis</th>\n",
              "    </tr>\n",
              "  </thead>\n",
              "  <tbody>\n",
              "    <tr>\n",
              "      <th>0</th>\n",
              "      <td>tweet1</td>\n",
              "      <td>Niveles de retraso mental: \\n\\n— Bajo.\\n— Medi...</td>\n",
              "      <td>1</td>\n",
              "      <td>19</td>\n",
              "      <td>86</td>\n",
              "      <td>0.220930</td>\n",
              "      <td>Niveles de retraso mental: \\n\\n— Bajo.\\n— Medi...</td>\n",
              "      <td></td>\n",
              "    </tr>\n",
              "    <tr>\n",
              "      <th>1</th>\n",
              "      <td>tweet2</td>\n",
              "      <td>—Vamos Luke desenfunda tu sable, demuestra tu ...</td>\n",
              "      <td>1</td>\n",
              "      <td>22</td>\n",
              "      <td>140</td>\n",
              "      <td>0.157143</td>\n",
              "      <td>—Vamos Luke desenfunda tu sable, demuestra tu ...</td>\n",
              "      <td></td>\n",
              "    </tr>\n",
              "    <tr>\n",
              "      <th>2</th>\n",
              "      <td>tweet3</td>\n",
              "      <td>- ¿Te ofrezco algo?, ¿Agua, café, mi corazón, ...</td>\n",
              "      <td>1</td>\n",
              "      <td>21</td>\n",
              "      <td>112</td>\n",
              "      <td>0.187500</td>\n",
              "      <td>- ¿Te ofrezco algo?, ¿Agua, café, mi corazón, ...</td>\n",
              "      <td></td>\n",
              "    </tr>\n",
              "    <tr>\n",
              "      <th>3</th>\n",
              "      <td>tweet4</td>\n",
              "      <td>No se porqué me hago la cabeza deooos</td>\n",
              "      <td>0</td>\n",
              "      <td>8</td>\n",
              "      <td>37</td>\n",
              "      <td>0.216216</td>\n",
              "      <td>No se porqué me hago la cabeza deooos</td>\n",
              "      <td></td>\n",
              "    </tr>\n",
              "    <tr>\n",
              "      <th>4</th>\n",
              "      <td>tweet5</td>\n",
              "      <td>Quisiera saber que hago durante la siesta de l...</td>\n",
              "      <td>0</td>\n",
              "      <td>20</td>\n",
              "      <td>106</td>\n",
              "      <td>0.188679</td>\n",
              "      <td>Quisiera saber que hago durante la siesta de l...</td>\n",
              "      <td></td>\n",
              "    </tr>\n",
              "    <tr>\n",
              "      <th>...</th>\n",
              "      <td>...</td>\n",
              "      <td>...</td>\n",
              "      <td>...</td>\n",
              "      <td>...</td>\n",
              "      <td>...</td>\n",
              "      <td>...</td>\n",
              "      <td>...</td>\n",
              "      <td>...</td>\n",
              "    </tr>\n",
              "    <tr>\n",
              "      <th>95</th>\n",
              "      <td>tweet96</td>\n",
              "      <td>el pecado que cometió lamujer en el paraíso de...</td>\n",
              "      <td>1</td>\n",
              "      <td>25</td>\n",
              "      <td>140</td>\n",
              "      <td>0.178571</td>\n",
              "      <td>el pecado que cometió lamujer en el paraíso de...</td>\n",
              "      <td></td>\n",
              "    </tr>\n",
              "    <tr>\n",
              "      <th>96</th>\n",
              "      <td>tweet97</td>\n",
              "      <td>- El otro día ví a tu suegra y .....\\n- ¡Alto ...</td>\n",
              "      <td>1</td>\n",
              "      <td>26</td>\n",
              "      <td>116</td>\n",
              "      <td>0.224138</td>\n",
              "      <td>- El otro día ví a tu suegra y .....\\n- ¡Alto ...</td>\n",
              "      <td></td>\n",
              "    </tr>\n",
              "    <tr>\n",
              "      <th>97</th>\n",
              "      <td>tweet98</td>\n",
              "      <td>#Chiste Te amo\\n- ¿En serio? Que casualidad!\\n...</td>\n",
              "      <td>1</td>\n",
              "      <td>20</td>\n",
              "      <td>97</td>\n",
              "      <td>0.206186</td>\n",
              "      <td>#Chiste Te amo\\n- ¿En serio? Que casualidad!\\n...</td>\n",
              "      <td></td>\n",
              "    </tr>\n",
              "    <tr>\n",
              "      <th>98</th>\n",
              "      <td>tweet99</td>\n",
              "      <td>Escuchar reggaetón \\n\\nES DE POBRES</td>\n",
              "      <td>0</td>\n",
              "      <td>7</td>\n",
              "      <td>33</td>\n",
              "      <td>0.212121</td>\n",
              "      <td>Escuchar reggaetón \\n\\nES DE POBRES</td>\n",
              "      <td></td>\n",
              "    </tr>\n",
              "    <tr>\n",
              "      <th>99</th>\n",
              "      <td>tweet100</td>\n",
              "      <td>Que pena que cuando me vengas a buscar ya no e...</td>\n",
              "      <td>0</td>\n",
              "      <td>12</td>\n",
              "      <td>55</td>\n",
              "      <td>0.218182</td>\n",
              "      <td>Que pena que cuando me vengas a buscar ya no e...</td>\n",
              "      <td>:person_shrugging: :medium-light_skin_tone: :m...</td>\n",
              "    </tr>\n",
              "  </tbody>\n",
              "</table>\n",
              "<p>100 rows × 8 columns</p>\n",
              "</div>"
            ],
            "text/plain": [
              "          id  ...                                        text_emojis\n",
              "0     tweet1  ...                                                   \n",
              "1     tweet2  ...                                                   \n",
              "2     tweet3  ...                                                   \n",
              "3     tweet4  ...                                                   \n",
              "4     tweet5  ...                                                   \n",
              "..       ...  ...                                                ...\n",
              "95   tweet96  ...                                                   \n",
              "96   tweet97  ...                                                   \n",
              "97   tweet98  ...                                                   \n",
              "98   tweet99  ...                                                   \n",
              "99  tweet100  ...  :person_shrugging: :medium-light_skin_tone: :m...\n",
              "\n",
              "[100 rows x 8 columns]"
            ]
          },
          "metadata": {
            "tags": []
          },
          "execution_count": 10
        }
      ]
    },
    {
      "cell_type": "markdown",
      "metadata": {
        "id": "fvNuLb2w-5ZD"
      },
      "source": [
        "---\n",
        "---\n"
      ]
    },
    {
      "cell_type": "markdown",
      "metadata": {
        "id": "YSNvKkoiBPAN"
      },
      "source": [
        "# Detector de cansinos y corrección de repeticiones innecesarias\n",
        "\n",
        "En twitter hay mucho \"pesao\" con el pulgar \"cansao\" y lo dejan mucho tiempo en el móooooooooovil pulsando una letraaaaa. A todos estos, los consideramos unos pesaos y lo vamos a tener en cuenta. No quieren trabajar.\n",
        "\n",
        "¿Por qué corregiremos también a los pesaos? Porque spellchecker no puede, es fácil ver esto con un ejemplo en código. "
      ]
    },
    {
      "cell_type": "code",
      "metadata": {
        "id": "pDfM0P-AYdTm"
      },
      "source": [
        "def is_cansino(tweet, tolerancia:int=2):\n",
        "  # Consideramos pesados a todos aquellos\n",
        "  # que repitan 3 veces una letra\n",
        "  \"\"\"\n",
        "  Esta función identifica a los pesaos\n",
        "  Args:\n",
        "    tolerancia (int): tolerancia al pesao\n",
        "  \"\"\"\n",
        "  l1 = \"\"\n",
        "  rep = 0\n",
        "  letra = \"\"\n",
        "  tweet_aux = tweet + '<eos>'\n",
        "  for index, letra in enumerate(tweet_aux):\n",
        "      if letra == l1:\n",
        "          rep += 1\n",
        "      elif rep >= tolerancia:\n",
        "          return l1, rep, tolerancia, 1*True\n",
        "      else:\n",
        "        rep = 0\n",
        "        l1 = letra\n",
        "  return letra, 0, tolerancia, 1*False\n",
        "\n",
        "def get_cansinos(corpus):\n",
        "  L = list(map(is_cansino, corpus))\n",
        "  return [ret[3] for ret in L]\n",
        "\n",
        "###################################Ç\n",
        "##### Correccion repeticiones #####\n",
        "###################################\n",
        "\n",
        "# Esto es beta solo corrige la primera\n",
        "# tanda de repeticiones se puede mejorar\n",
        "\n",
        "def tweet_corrector(tweet):\n",
        "    letra, rep, tolerancia, bool_ = is_cansino(tweet)\n",
        "    if bool_ == 1:\n",
        "        tweet = tweet.replace(rep*letra, '')\n",
        "        tweet = tweet_corrector(tweet)\n",
        "    return tweet\n",
        "\n",
        "def corpus_corrector(corpus):\n",
        "    L = list(map(tweet_corrector, corpus))\n",
        "    return L"
      ],
      "execution_count": 11,
      "outputs": []
    },
    {
      "cell_type": "code",
      "metadata": {
        "colab": {
          "base_uri": "https://localhost:8080/",
          "height": 35
        },
        "id": "KafDiR18bkO5",
        "outputId": "35e9464b-0547-4f37-9ec5-72b158bb54f3"
      },
      "source": [
        "\"\"\"\n",
        "text.loc[7,'text_v2'] = 'Meeee aaaaabuuuuurroooooo'\n",
        "text\n",
        "\"\"\""
      ],
      "execution_count": 12,
      "outputs": [
        {
          "output_type": "execute_result",
          "data": {
            "application/vnd.google.colaboratory.intrinsic+json": {
              "type": "string"
            },
            "text/plain": [
              "\"\\ntext.loc[7,'text_v2'] = 'Meeee aaaaabuuuuurroooooo'\\ntext\\n\""
            ]
          },
          "metadata": {
            "tags": []
          },
          "execution_count": 12
        }
      ]
    },
    {
      "cell_type": "code",
      "metadata": {
        "colab": {
          "base_uri": "https://localhost:8080/",
          "height": 906
        },
        "id": "7I8k8XfG-7M3",
        "outputId": "48209c7c-91de-4233-ab76-594842c67557"
      },
      "source": [
        "text['detected_text_cansinos'] = get_cansinos(text['text_v2'].to_list())\n",
        "text['detected_emojis_cansinos'] = get_cansinos(text['text_emojis'].to_list())\n",
        "text['detected_cansinos'] = (text['detected_text_cansinos'] + text['detected_emojis_cansinos']) % 2\n",
        "# text['detected_emojis_cansinos] | text['detected_text_cansinos'] \n",
        "\n",
        "text['text_v3'] = corpus_corrector(text['text_v2'].to_list())\n",
        "\n",
        "text"
      ],
      "execution_count": 13,
      "outputs": [
        {
          "output_type": "execute_result",
          "data": {
            "text/html": [
              "<div>\n",
              "<style scoped>\n",
              "    .dataframe tbody tr th:only-of-type {\n",
              "        vertical-align: middle;\n",
              "    }\n",
              "\n",
              "    .dataframe tbody tr th {\n",
              "        vertical-align: top;\n",
              "    }\n",
              "\n",
              "    .dataframe thead th {\n",
              "        text-align: right;\n",
              "    }\n",
              "</style>\n",
              "<table border=\"1\" class=\"dataframe\">\n",
              "  <thead>\n",
              "    <tr style=\"text-align: right;\">\n",
              "      <th></th>\n",
              "      <th>id</th>\n",
              "      <th>text</th>\n",
              "      <th>is_humor</th>\n",
              "      <th>len_token</th>\n",
              "      <th>n_char</th>\n",
              "      <th>ratio</th>\n",
              "      <th>text_v2</th>\n",
              "      <th>text_emojis</th>\n",
              "      <th>detected_text_cansinos</th>\n",
              "      <th>detected_emojis_cansinos</th>\n",
              "      <th>detected_cansinos</th>\n",
              "      <th>text_v3</th>\n",
              "    </tr>\n",
              "  </thead>\n",
              "  <tbody>\n",
              "    <tr>\n",
              "      <th>0</th>\n",
              "      <td>tweet1</td>\n",
              "      <td>Niveles de retraso mental: \\n\\n— Bajo.\\n— Medi...</td>\n",
              "      <td>1</td>\n",
              "      <td>19</td>\n",
              "      <td>86</td>\n",
              "      <td>0.220930</td>\n",
              "      <td>Niveles de retraso mental: \\n\\n— Bajo.\\n— Medi...</td>\n",
              "      <td></td>\n",
              "      <td>0</td>\n",
              "      <td>0</td>\n",
              "      <td>0</td>\n",
              "      <td>Niveles de retraso mental: \\n\\n— Bajo.\\n— Medi...</td>\n",
              "    </tr>\n",
              "    <tr>\n",
              "      <th>1</th>\n",
              "      <td>tweet2</td>\n",
              "      <td>—Vamos Luke desenfunda tu sable, demuestra tu ...</td>\n",
              "      <td>1</td>\n",
              "      <td>22</td>\n",
              "      <td>140</td>\n",
              "      <td>0.157143</td>\n",
              "      <td>—Vamos Luke desenfunda tu sable, demuestra tu ...</td>\n",
              "      <td></td>\n",
              "      <td>0</td>\n",
              "      <td>0</td>\n",
              "      <td>0</td>\n",
              "      <td>—Vamos Luke desenfunda tu sable, demuestra tu ...</td>\n",
              "    </tr>\n",
              "    <tr>\n",
              "      <th>2</th>\n",
              "      <td>tweet3</td>\n",
              "      <td>- ¿Te ofrezco algo?, ¿Agua, café, mi corazón, ...</td>\n",
              "      <td>1</td>\n",
              "      <td>21</td>\n",
              "      <td>112</td>\n",
              "      <td>0.187500</td>\n",
              "      <td>- ¿Te ofrezco algo?, ¿Agua, café, mi corazón, ...</td>\n",
              "      <td></td>\n",
              "      <td>1</td>\n",
              "      <td>0</td>\n",
              "      <td>1</td>\n",
              "      <td>- ¿Te ofrezco algo?, ¿Agua, café, mi corazón, ...</td>\n",
              "    </tr>\n",
              "    <tr>\n",
              "      <th>3</th>\n",
              "      <td>tweet4</td>\n",
              "      <td>No se porqué me hago la cabeza deooos</td>\n",
              "      <td>0</td>\n",
              "      <td>8</td>\n",
              "      <td>37</td>\n",
              "      <td>0.216216</td>\n",
              "      <td>No se porqué me hago la cabeza deooos</td>\n",
              "      <td></td>\n",
              "      <td>1</td>\n",
              "      <td>0</td>\n",
              "      <td>1</td>\n",
              "      <td>No se porqué me hago la cabeza deos</td>\n",
              "    </tr>\n",
              "    <tr>\n",
              "      <th>4</th>\n",
              "      <td>tweet5</td>\n",
              "      <td>Quisiera saber que hago durante la siesta de l...</td>\n",
              "      <td>0</td>\n",
              "      <td>20</td>\n",
              "      <td>106</td>\n",
              "      <td>0.188679</td>\n",
              "      <td>Quisiera saber que hago durante la siesta de l...</td>\n",
              "      <td></td>\n",
              "      <td>0</td>\n",
              "      <td>0</td>\n",
              "      <td>0</td>\n",
              "      <td>Quisiera saber que hago durante la siesta de l...</td>\n",
              "    </tr>\n",
              "    <tr>\n",
              "      <th>...</th>\n",
              "      <td>...</td>\n",
              "      <td>...</td>\n",
              "      <td>...</td>\n",
              "      <td>...</td>\n",
              "      <td>...</td>\n",
              "      <td>...</td>\n",
              "      <td>...</td>\n",
              "      <td>...</td>\n",
              "      <td>...</td>\n",
              "      <td>...</td>\n",
              "      <td>...</td>\n",
              "      <td>...</td>\n",
              "    </tr>\n",
              "    <tr>\n",
              "      <th>95</th>\n",
              "      <td>tweet96</td>\n",
              "      <td>el pecado que cometió lamujer en el paraíso de...</td>\n",
              "      <td>1</td>\n",
              "      <td>25</td>\n",
              "      <td>140</td>\n",
              "      <td>0.178571</td>\n",
              "      <td>el pecado que cometió lamujer en el paraíso de...</td>\n",
              "      <td></td>\n",
              "      <td>0</td>\n",
              "      <td>0</td>\n",
              "      <td>0</td>\n",
              "      <td>el pecado que cometió lamujer en el paraíso de...</td>\n",
              "    </tr>\n",
              "    <tr>\n",
              "      <th>96</th>\n",
              "      <td>tweet97</td>\n",
              "      <td>- El otro día ví a tu suegra y .....\\n- ¡Alto ...</td>\n",
              "      <td>1</td>\n",
              "      <td>26</td>\n",
              "      <td>116</td>\n",
              "      <td>0.224138</td>\n",
              "      <td>- El otro día ví a tu suegra y .....\\n- ¡Alto ...</td>\n",
              "      <td></td>\n",
              "      <td>1</td>\n",
              "      <td>0</td>\n",
              "      <td>1</td>\n",
              "      <td>- El otro día ví a tu suegra y .\\n- ¡Alto ahí!...</td>\n",
              "    </tr>\n",
              "    <tr>\n",
              "      <th>97</th>\n",
              "      <td>tweet98</td>\n",
              "      <td>#Chiste Te amo\\n- ¿En serio? Que casualidad!\\n...</td>\n",
              "      <td>1</td>\n",
              "      <td>20</td>\n",
              "      <td>97</td>\n",
              "      <td>0.206186</td>\n",
              "      <td>#Chiste Te amo\\n- ¿En serio? Que casualidad!\\n...</td>\n",
              "      <td></td>\n",
              "      <td>0</td>\n",
              "      <td>0</td>\n",
              "      <td>0</td>\n",
              "      <td>#Chiste Te amo\\n- ¿En serio? Que casualidad!\\n...</td>\n",
              "    </tr>\n",
              "    <tr>\n",
              "      <th>98</th>\n",
              "      <td>tweet99</td>\n",
              "      <td>Escuchar reggaetón \\n\\nES DE POBRES</td>\n",
              "      <td>0</td>\n",
              "      <td>7</td>\n",
              "      <td>33</td>\n",
              "      <td>0.212121</td>\n",
              "      <td>Escuchar reggaetón \\n\\nES DE POBRES</td>\n",
              "      <td></td>\n",
              "      <td>0</td>\n",
              "      <td>0</td>\n",
              "      <td>0</td>\n",
              "      <td>Escuchar reggaetón \\n\\nES DE POBRES</td>\n",
              "    </tr>\n",
              "    <tr>\n",
              "      <th>99</th>\n",
              "      <td>tweet100</td>\n",
              "      <td>Que pena que cuando me vengas a buscar ya no e...</td>\n",
              "      <td>0</td>\n",
              "      <td>12</td>\n",
              "      <td>55</td>\n",
              "      <td>0.218182</td>\n",
              "      <td>Que pena que cuando me vengas a buscar ya no e...</td>\n",
              "      <td>:person_shrugging: :medium-light_skin_tone: :m...</td>\n",
              "      <td>0</td>\n",
              "      <td>0</td>\n",
              "      <td>0</td>\n",
              "      <td>Que pena que cuando me vengas a buscar ya no e...</td>\n",
              "    </tr>\n",
              "  </tbody>\n",
              "</table>\n",
              "<p>100 rows × 12 columns</p>\n",
              "</div>"
            ],
            "text/plain": [
              "          id  ...                                            text_v3\n",
              "0     tweet1  ...  Niveles de retraso mental: \\n\\n— Bajo.\\n— Medi...\n",
              "1     tweet2  ...  —Vamos Luke desenfunda tu sable, demuestra tu ...\n",
              "2     tweet3  ...  - ¿Te ofrezco algo?, ¿Agua, café, mi corazón, ...\n",
              "3     tweet4  ...                No se porqué me hago la cabeza deos\n",
              "4     tweet5  ...  Quisiera saber que hago durante la siesta de l...\n",
              "..       ...  ...                                                ...\n",
              "95   tweet96  ...  el pecado que cometió lamujer en el paraíso de...\n",
              "96   tweet97  ...  - El otro día ví a tu suegra y .\\n- ¡Alto ahí!...\n",
              "97   tweet98  ...  #Chiste Te amo\\n- ¿En serio? Que casualidad!\\n...\n",
              "98   tweet99  ...                Escuchar reggaetón \\n\\nES DE POBRES\n",
              "99  tweet100  ...  Que pena que cuando me vengas a buscar ya no e...\n",
              "\n",
              "[100 rows x 12 columns]"
            ]
          },
          "metadata": {
            "tags": []
          },
          "execution_count": 13
        }
      ]
    },
    {
      "cell_type": "markdown",
      "metadata": {
        "id": "J5mKE0s-Iwyi"
      },
      "source": [
        "---\n",
        "---\n",
        "\n",
        "# SpellChecker (Corrector ortográfico)"
      ]
    },
    {
      "cell_type": "code",
      "metadata": {
        "id": "y4NFs9wbJUOh"
      },
      "source": [
        "# SpellChecker creo que no hace falta, pero por si acaso la dejo\n",
        "# !pip install SpellChecker"
      ],
      "execution_count": 14,
      "outputs": []
    },
    {
      "cell_type": "code",
      "metadata": {
        "id": "oqRUmrkeJS24",
        "colab": {
          "base_uri": "https://localhost:8080/"
        },
        "outputId": "8ea481b4-4fa2-4146-c4a3-e47541652981"
      },
      "source": [
        "# pyspellchecker si hace falta instalarla\n",
        "# %%capture\n",
        "!pip install pyspellchecker\n",
        "from spellchecker import SpellChecker"
      ],
      "execution_count": 15,
      "outputs": [
        {
          "output_type": "stream",
          "text": [
            "Requirement already satisfied: pyspellchecker in /usr/local/lib/python3.7/dist-packages (0.6.2)\n"
          ],
          "name": "stdout"
        }
      ]
    },
    {
      "cell_type": "code",
      "metadata": {
        "id": "Itqtu20aePBd"
      },
      "source": [
        "# Con distance=1 el corrector es más conservador \n",
        "spell_check = SpellChecker(language='es', distance=1) # Gracias Yoan\n",
        "# spell_check.correction(\"-\")\n",
        "# (9spell_check  = SpellChecker(language='es', distance=100)\n",
        "# spell_check.correction(\"chicxs cómo hestais\")"
      ],
      "execution_count": 16,
      "outputs": []
    },
    {
      "cell_type": "code",
      "metadata": {
        "colab": {
          "base_uri": "https://localhost:8080/"
        },
        "id": "qYJMQOHNuLAk",
        "outputId": "ce65f48c-0780-4447-e15b-f3ccfceb8f56"
      },
      "source": [
        "string = 'hola'\n",
        "'a' in string"
      ],
      "execution_count": 17,
      "outputs": [
        {
          "output_type": "execute_result",
          "data": {
            "text/plain": [
              "True"
            ]
          },
          "metadata": {
            "tags": []
          },
          "execution_count": 17
        }
      ]
    },
    {
      "cell_type": "code",
      "metadata": {
        "id": "aDDGqY57dyZY"
      },
      "source": [
        "def corrector_ortografico(tweet):\n",
        "  tweet = tweet.replace('?', ' ? ')\n",
        "  tweet = tweet.replace('¿', ' ¿ ')\n",
        "  tweet = tweet.replace('...', ' . ')\n",
        "  tweet = tweet.replace('.', ' . ')\n",
        "  tweet = tweet.replace('—', ' . ')\n",
        "  tweet = tweet.replace('. .', ' . ')\n",
        "  tweet = tweet.replace('.  .', ' . ')\n",
        "  tweet = tweet.replace('.   .', ' . ')\n",
        "  \n",
        "  tweet = tweet.replace('\\n', '').split(' ')\n",
        "  \n",
        "\n",
        "  corrected_tweet = [spell_check.correction(token) if token not in ['', '-', '?', '¿', ] else token for token in tweet]\n",
        "\n",
        "  return ' '.join(corrected_tweet)\n",
        "\n",
        "def corrector_corpus(corpus):\n",
        "  return list(map(corrector_ortografico, corpus))"
      ],
      "execution_count": 18,
      "outputs": []
    },
    {
      "cell_type": "code",
      "metadata": {
        "id": "9rqxyK6lhhcy"
      },
      "source": [
        "text['text_v4'] = corrector_corpus(text['text_v3'])"
      ],
      "execution_count": 19,
      "outputs": []
    },
    {
      "cell_type": "code",
      "metadata": {
        "id": "CZcxEdQYJADg",
        "colab": {
          "base_uri": "https://localhost:8080/",
          "height": 404
        },
        "outputId": "6871ee84-9a9d-455f-e08e-a954a8ae32c0"
      },
      "source": [
        "text[['text_v3', 'text_v4']]"
      ],
      "execution_count": 20,
      "outputs": [
        {
          "output_type": "execute_result",
          "data": {
            "text/html": [
              "<div>\n",
              "<style scoped>\n",
              "    .dataframe tbody tr th:only-of-type {\n",
              "        vertical-align: middle;\n",
              "    }\n",
              "\n",
              "    .dataframe tbody tr th {\n",
              "        vertical-align: top;\n",
              "    }\n",
              "\n",
              "    .dataframe thead th {\n",
              "        text-align: right;\n",
              "    }\n",
              "</style>\n",
              "<table border=\"1\" class=\"dataframe\">\n",
              "  <thead>\n",
              "    <tr style=\"text-align: right;\">\n",
              "      <th></th>\n",
              "      <th>text_v3</th>\n",
              "      <th>text_v4</th>\n",
              "    </tr>\n",
              "  </thead>\n",
              "  <tbody>\n",
              "    <tr>\n",
              "      <th>0</th>\n",
              "      <td>Niveles de retraso mental: \\n\\n— Bajo.\\n— Medi...</td>\n",
              "      <td>Niveles de retraso mental  .  Bajo .  .  Medio...</td>\n",
              "    </tr>\n",
              "    <tr>\n",
              "      <th>1</th>\n",
              "      <td>—Vamos Luke desenfunda tu sable, demuestra tu ...</td>\n",
              "      <td>. Vamos Luke desenfunda tu sable demuestra tu...</td>\n",
              "    </tr>\n",
              "    <tr>\n",
              "      <th>2</th>\n",
              "      <td>- ¿Te ofrezco algo?, ¿Agua, café, mi corazón, ...</td>\n",
              "      <td>-  ¿ Te ofrezco algo ? ,  ¿ agua café mi coraz...</td>\n",
              "    </tr>\n",
              "    <tr>\n",
              "      <th>3</th>\n",
              "      <td>No se porqué me hago la cabeza deos</td>\n",
              "      <td>No se porqué me hago la cabeza deos</td>\n",
              "    </tr>\n",
              "    <tr>\n",
              "      <th>4</th>\n",
              "      <td>Quisiera saber que hago durante la siesta de l...</td>\n",
              "      <td>Quisiera saber que hago durante la siesta de l...</td>\n",
              "    </tr>\n",
              "    <tr>\n",
              "      <th>...</th>\n",
              "      <td>...</td>\n",
              "      <td>...</td>\n",
              "    </tr>\n",
              "    <tr>\n",
              "      <th>95</th>\n",
              "      <td>el pecado que cometió lamujer en el paraíso de...</td>\n",
              "      <td>el pecado que cometió lamujer en el paraíso de...</td>\n",
              "    </tr>\n",
              "    <tr>\n",
              "      <th>96</th>\n",
              "      <td>- El otro día ví a tu suegra y .\\n- ¡Alto ahí!...</td>\n",
              "      <td>- El otro día ví a tu suegra y  . - alto ahí s...</td>\n",
              "    </tr>\n",
              "    <tr>\n",
              "      <th>97</th>\n",
              "      <td>#Chiste Te amo\\n- ¿En serio? Que casualidad!\\n...</td>\n",
              "      <td>chiste Te amor  ¿ En serio ?  Que casualidad!-...</td>\n",
              "    </tr>\n",
              "    <tr>\n",
              "      <th>98</th>\n",
              "      <td>Escuchar reggaetón \\n\\nES DE POBRES</td>\n",
              "      <td>Escuchar reggaeton ES DE POBRES</td>\n",
              "    </tr>\n",
              "    <tr>\n",
              "      <th>99</th>\n",
              "      <td>Que pena que cuando me vengas a buscar ya no e...</td>\n",
              "      <td>Que pena que cuando me vengas a buscar ya no e...</td>\n",
              "    </tr>\n",
              "  </tbody>\n",
              "</table>\n",
              "<p>100 rows × 2 columns</p>\n",
              "</div>"
            ],
            "text/plain": [
              "                                              text_v3                                            text_v4\n",
              "0   Niveles de retraso mental: \\n\\n— Bajo.\\n— Medi...  Niveles de retraso mental  .  Bajo .  .  Medio...\n",
              "1   —Vamos Luke desenfunda tu sable, demuestra tu ...   . Vamos Luke desenfunda tu sable demuestra tu...\n",
              "2   - ¿Te ofrezco algo?, ¿Agua, café, mi corazón, ...  -  ¿ Te ofrezco algo ? ,  ¿ agua café mi coraz...\n",
              "3                 No se porqué me hago la cabeza deos                No se porqué me hago la cabeza deos\n",
              "4   Quisiera saber que hago durante la siesta de l...  Quisiera saber que hago durante la siesta de l...\n",
              "..                                                ...                                                ...\n",
              "95  el pecado que cometió lamujer en el paraíso de...  el pecado que cometió lamujer en el paraíso de...\n",
              "96  - El otro día ví a tu suegra y .\\n- ¡Alto ahí!...  - El otro día ví a tu suegra y  . - alto ahí s...\n",
              "97  #Chiste Te amo\\n- ¿En serio? Que casualidad!\\n...  chiste Te amor  ¿ En serio ?  Que casualidad!-...\n",
              "98                Escuchar reggaetón \\n\\nES DE POBRES                    Escuchar reggaeton ES DE POBRES\n",
              "99  Que pena que cuando me vengas a buscar ya no e...  Que pena que cuando me vengas a buscar ya no e...\n",
              "\n",
              "[100 rows x 2 columns]"
            ]
          },
          "metadata": {
            "tags": []
          },
          "execution_count": 20
        }
      ]
    },
    {
      "cell_type": "code",
      "metadata": {
        "colab": {
          "base_uri": "https://localhost:8080/",
          "height": 35
        },
        "id": "sy_64QcDsxse",
        "outputId": "3b1f6a61-3869-4ac9-e0fa-4da39444e395"
      },
      "source": [
        "text['text_v4'].iloc[6]"
      ],
      "execution_count": 21,
      "outputs": [
        {
          "output_type": "execute_result",
          "data": {
            "application/vnd.google.colaboratory.intrinsic+json": {
              "type": "string"
            },
            "text/plain": [
              "' . Buenas don pepe  ¿ me vende un litro de leche ?  .  ¿ Entera ?  . no si quiere tómese un vasito pinche viejo abusivo . '"
            ]
          },
          "metadata": {
            "tags": []
          },
          "execution_count": 21
        }
      ]
    },
    {
      "cell_type": "markdown",
      "metadata": {
        "id": "mAHq7-UxsXQk"
      },
      "source": [
        "---\n",
        "---\n",
        "\n",
        "# Obtención de Stop Words"
      ]
    },
    {
      "cell_type": "code",
      "metadata": {
        "id": "_wIzMFmFsSL0",
        "colab": {
          "base_uri": "https://localhost:8080/"
        },
        "outputId": "db46a19d-7f43-4ca9-bd9c-ae99f90d6c04"
      },
      "source": [
        "# %%capture\n",
        "!pip install stop_words"
      ],
      "execution_count": 22,
      "outputs": [
        {
          "output_type": "stream",
          "text": [
            "Requirement already satisfied: stop_words in /usr/local/lib/python3.7/dist-packages (2018.7.23)\n"
          ],
          "name": "stdout"
        }
      ]
    },
    {
      "cell_type": "code",
      "metadata": {
        "colab": {
          "base_uri": "https://localhost:8080/"
        },
        "id": "JkMEdYs0scJi",
        "outputId": "284fdb53-ca4f-4523-ca44-70f56007af0a"
      },
      "source": [
        "from stop_words import get_stop_words # Se añade librería para obtener las stop_word de cualquier idioma\n",
        "!wget \"https://raw.githubusercontent.com/jibt1/competition_group/main/Tareas/datasets/more_stop_words.txt\"\n",
        "\n",
        "# Se obtienen las stop_words en español\n",
        "import pickle\n",
        "with open(\"more_stop_words.txt\", \"rb\") as f:\n",
        "  list_test = pickle.load(f)\n",
        "\n",
        "stop_words = get_stop_words(\"spanish\")\n",
        "more_stop_words = stop_words + list_test\n",
        "more_stop_words.sort()"
      ],
      "execution_count": 23,
      "outputs": [
        {
          "output_type": "stream",
          "text": [
            "--2021-05-23 11:31:10--  https://raw.githubusercontent.com/jibt1/competition_group/main/Tareas/datasets/more_stop_words.txt\n",
            "Resolving raw.githubusercontent.com (raw.githubusercontent.com)... 185.199.108.133, 185.199.109.133, 185.199.110.133, ...\n",
            "Connecting to raw.githubusercontent.com (raw.githubusercontent.com)|185.199.108.133|:443... connected.\n",
            "HTTP request sent, awaiting response... 200 OK\n",
            "Length: 10258 (10K) [application/octet-stream]\n",
            "Saving to: ‘more_stop_words.txt.9’\n",
            "\n",
            "\rmore_stop_words.txt   0%[                    ]       0  --.-KB/s               \rmore_stop_words.txt 100%[===================>]  10.02K  --.-KB/s    in 0s      \n",
            "\n",
            "2021-05-23 11:31:11 (102 MB/s) - ‘more_stop_words.txt.9’ saved [10258/10258]\n",
            "\n"
          ],
          "name": "stdout"
        }
      ]
    },
    {
      "cell_type": "markdown",
      "metadata": {
        "id": "plCYOpqytS6q"
      },
      "source": [
        "# ELIMINACIÓN DE IDIOMAS ALEJADOS DEL ESPAÑOL"
      ]
    },
    {
      "cell_type": "code",
      "metadata": {
        "id": "VwRexGeKt7Zo",
        "colab": {
          "base_uri": "https://localhost:8080/"
        },
        "outputId": "9a3c497e-f2ad-437b-fbad-03438364f00f"
      },
      "source": [
        "!pip install spacy_langdetect"
      ],
      "execution_count": 24,
      "outputs": [
        {
          "output_type": "stream",
          "text": [
            "Requirement already satisfied: spacy_langdetect in /usr/local/lib/python3.7/dist-packages (0.1.2)\n",
            "Requirement already satisfied: langdetect==1.0.7 in /usr/local/lib/python3.7/dist-packages (from spacy_langdetect) (1.0.7)\n",
            "Requirement already satisfied: pytest in /usr/local/lib/python3.7/dist-packages (from spacy_langdetect) (3.6.4)\n",
            "Requirement already satisfied: six in /usr/local/lib/python3.7/dist-packages (from langdetect==1.0.7->spacy_langdetect) (1.15.0)\n",
            "Requirement already satisfied: attrs>=17.4.0 in /usr/local/lib/python3.7/dist-packages (from pytest->spacy_langdetect) (21.2.0)\n",
            "Requirement already satisfied: atomicwrites>=1.0 in /usr/local/lib/python3.7/dist-packages (from pytest->spacy_langdetect) (1.4.0)\n",
            "Requirement already satisfied: py>=1.5.0 in /usr/local/lib/python3.7/dist-packages (from pytest->spacy_langdetect) (1.10.0)\n",
            "Requirement already satisfied: setuptools in /usr/local/lib/python3.7/dist-packages (from pytest->spacy_langdetect) (56.1.0)\n",
            "Requirement already satisfied: pluggy<0.8,>=0.5 in /usr/local/lib/python3.7/dist-packages (from pytest->spacy_langdetect) (0.7.1)\n",
            "Requirement already satisfied: more-itertools>=4.0.0 in /usr/local/lib/python3.7/dist-packages (from pytest->spacy_langdetect) (8.7.0)\n"
          ],
          "name": "stdout"
        }
      ]
    },
    {
      "cell_type": "code",
      "metadata": {
        "id": "5hlWpW9kyD8n"
      },
      "source": [
        "# frase de prueba\n",
        "# text = '¿Hola cómo سمبأسكمق estáis? 종현아생일축하해'"
      ],
      "execution_count": 25,
      "outputs": []
    },
    {
      "cell_type": "code",
      "metadata": {
        "colab": {
          "base_uri": "https://localhost:8080/",
          "height": 1000
        },
        "id": "gsY5GPpMta-e",
        "outputId": "7a8568d1-40de-4f13-b965-21d50826922b"
      },
      "source": [
        "import spacy\n",
        "from spacy_langdetect import LanguageDetector\n",
        "\n",
        "# sentence level language detection\n",
        "dict_ = {}\n",
        "\n",
        "nlp = spacy.load('en')\n",
        "nlp.add_pipe(LanguageDetector(), name='language_detector', last=True)\n",
        "\n",
        "# Eliminamos palabras koreanas, vietnamitas, japonesas o árabes\n",
        "L = ['ko', 'vi', 'ja', 'ar']\n",
        "\n",
        "print(\"v3: \", text['text_v3'].iloc[6])\n",
        "print(\"\\n\\n v4: \", text['text_v4'].iloc[6])\n",
        "\n",
        "df_cleaned_sentences_list = df_cleaned_sentences['sentences_without_emojis'].to_list()\n",
        "\n",
        "df_cleaned_sentences_list = text['text_v4'].to_list()\n",
        "\n",
        "for index, sentence in enumerate(df_cleaned_sentences_list):\n",
        "  doc = nlp(sentence)\n",
        "  for subsent in doc.sents:\n",
        "    if subsent._.language['language'] in L:\n",
        "      df_cleaned_sentences_list[index] = sentence.replace(subsent.text,'')\n",
        "df_cleaned_sentences_list\n",
        "\n",
        "text['text_v5'] = df_cleaned_sentences_list\n",
        "\n",
        "text"
      ],
      "execution_count": 26,
      "outputs": [
        {
          "output_type": "stream",
          "text": [
            "v3:  —Buenas don Pepe, ¿me vende un litro de leche?\n",
            "—¿Entera?\n",
            "—No, si quiere tómese un vasito pinche viejo abusivo.\n",
            "\n",
            "\n",
            " v4:   . Buenas don pepe  ¿ me vende un litro de leche ?  .  ¿ Entera ?  . no si quiere tómese un vasito pinche viejo abusivo . \n"
          ],
          "name": "stdout"
        },
        {
          "output_type": "execute_result",
          "data": {
            "text/html": [
              "<div>\n",
              "<style scoped>\n",
              "    .dataframe tbody tr th:only-of-type {\n",
              "        vertical-align: middle;\n",
              "    }\n",
              "\n",
              "    .dataframe tbody tr th {\n",
              "        vertical-align: top;\n",
              "    }\n",
              "\n",
              "    .dataframe thead th {\n",
              "        text-align: right;\n",
              "    }\n",
              "</style>\n",
              "<table border=\"1\" class=\"dataframe\">\n",
              "  <thead>\n",
              "    <tr style=\"text-align: right;\">\n",
              "      <th></th>\n",
              "      <th>id</th>\n",
              "      <th>text</th>\n",
              "      <th>is_humor</th>\n",
              "      <th>len_token</th>\n",
              "      <th>n_char</th>\n",
              "      <th>ratio</th>\n",
              "      <th>text_v2</th>\n",
              "      <th>text_emojis</th>\n",
              "      <th>detected_text_cansinos</th>\n",
              "      <th>detected_emojis_cansinos</th>\n",
              "      <th>detected_cansinos</th>\n",
              "      <th>text_v3</th>\n",
              "      <th>text_v4</th>\n",
              "      <th>text_v5</th>\n",
              "    </tr>\n",
              "  </thead>\n",
              "  <tbody>\n",
              "    <tr>\n",
              "      <th>0</th>\n",
              "      <td>tweet1</td>\n",
              "      <td>Niveles de retraso mental: \\n\\n— Bajo.\\n— Medi...</td>\n",
              "      <td>1</td>\n",
              "      <td>19</td>\n",
              "      <td>86</td>\n",
              "      <td>0.220930</td>\n",
              "      <td>Niveles de retraso mental: \\n\\n— Bajo.\\n— Medi...</td>\n",
              "      <td></td>\n",
              "      <td>0</td>\n",
              "      <td>0</td>\n",
              "      <td>0</td>\n",
              "      <td>Niveles de retraso mental: \\n\\n— Bajo.\\n— Medi...</td>\n",
              "      <td>Niveles de retraso mental  .  Bajo .  .  Medio...</td>\n",
              "      <td>Niveles de retraso mental  .  Bajo .  .  Medio...</td>\n",
              "    </tr>\n",
              "    <tr>\n",
              "      <th>1</th>\n",
              "      <td>tweet2</td>\n",
              "      <td>—Vamos Luke desenfunda tu sable, demuestra tu ...</td>\n",
              "      <td>1</td>\n",
              "      <td>22</td>\n",
              "      <td>140</td>\n",
              "      <td>0.157143</td>\n",
              "      <td>—Vamos Luke desenfunda tu sable, demuestra tu ...</td>\n",
              "      <td></td>\n",
              "      <td>0</td>\n",
              "      <td>0</td>\n",
              "      <td>0</td>\n",
              "      <td>—Vamos Luke desenfunda tu sable, demuestra tu ...</td>\n",
              "      <td>. Vamos Luke desenfunda tu sable demuestra tu...</td>\n",
              "      <td>. Vamos Luke desenfunda tu sable demuestra tu...</td>\n",
              "    </tr>\n",
              "    <tr>\n",
              "      <th>2</th>\n",
              "      <td>tweet3</td>\n",
              "      <td>- ¿Te ofrezco algo?, ¿Agua, café, mi corazón, ...</td>\n",
              "      <td>1</td>\n",
              "      <td>21</td>\n",
              "      <td>112</td>\n",
              "      <td>0.187500</td>\n",
              "      <td>- ¿Te ofrezco algo?, ¿Agua, café, mi corazón, ...</td>\n",
              "      <td></td>\n",
              "      <td>1</td>\n",
              "      <td>0</td>\n",
              "      <td>1</td>\n",
              "      <td>- ¿Te ofrezco algo?, ¿Agua, café, mi corazón, ...</td>\n",
              "      <td>-  ¿ Te ofrezco algo ? ,  ¿ agua café mi coraz...</td>\n",
              "      <td>-  ¿ Te ofrezco algo ? ,  ¿ agua café mi coraz...</td>\n",
              "    </tr>\n",
              "    <tr>\n",
              "      <th>3</th>\n",
              "      <td>tweet4</td>\n",
              "      <td>No se porqué me hago la cabeza deooos</td>\n",
              "      <td>0</td>\n",
              "      <td>8</td>\n",
              "      <td>37</td>\n",
              "      <td>0.216216</td>\n",
              "      <td>No se porqué me hago la cabeza deooos</td>\n",
              "      <td></td>\n",
              "      <td>1</td>\n",
              "      <td>0</td>\n",
              "      <td>1</td>\n",
              "      <td>No se porqué me hago la cabeza deos</td>\n",
              "      <td>No se porqué me hago la cabeza deos</td>\n",
              "      <td>No se porqué me hago la cabeza deos</td>\n",
              "    </tr>\n",
              "    <tr>\n",
              "      <th>4</th>\n",
              "      <td>tweet5</td>\n",
              "      <td>Quisiera saber que hago durante la siesta de l...</td>\n",
              "      <td>0</td>\n",
              "      <td>20</td>\n",
              "      <td>106</td>\n",
              "      <td>0.188679</td>\n",
              "      <td>Quisiera saber que hago durante la siesta de l...</td>\n",
              "      <td></td>\n",
              "      <td>0</td>\n",
              "      <td>0</td>\n",
              "      <td>0</td>\n",
              "      <td>Quisiera saber que hago durante la siesta de l...</td>\n",
              "      <td>Quisiera saber que hago durante la siesta de l...</td>\n",
              "      <td>Quisiera saber que hago durante la siesta de l...</td>\n",
              "    </tr>\n",
              "    <tr>\n",
              "      <th>...</th>\n",
              "      <td>...</td>\n",
              "      <td>...</td>\n",
              "      <td>...</td>\n",
              "      <td>...</td>\n",
              "      <td>...</td>\n",
              "      <td>...</td>\n",
              "      <td>...</td>\n",
              "      <td>...</td>\n",
              "      <td>...</td>\n",
              "      <td>...</td>\n",
              "      <td>...</td>\n",
              "      <td>...</td>\n",
              "      <td>...</td>\n",
              "      <td>...</td>\n",
              "    </tr>\n",
              "    <tr>\n",
              "      <th>95</th>\n",
              "      <td>tweet96</td>\n",
              "      <td>el pecado que cometió lamujer en el paraíso de...</td>\n",
              "      <td>1</td>\n",
              "      <td>25</td>\n",
              "      <td>140</td>\n",
              "      <td>0.178571</td>\n",
              "      <td>el pecado que cometió lamujer en el paraíso de...</td>\n",
              "      <td></td>\n",
              "      <td>0</td>\n",
              "      <td>0</td>\n",
              "      <td>0</td>\n",
              "      <td>el pecado que cometió lamujer en el paraíso de...</td>\n",
              "      <td>el pecado que cometió lamujer en el paraíso de...</td>\n",
              "      <td>el pecado que cometió lamujer en el paraíso de...</td>\n",
              "    </tr>\n",
              "    <tr>\n",
              "      <th>96</th>\n",
              "      <td>tweet97</td>\n",
              "      <td>- El otro día ví a tu suegra y .....\\n- ¡Alto ...</td>\n",
              "      <td>1</td>\n",
              "      <td>26</td>\n",
              "      <td>116</td>\n",
              "      <td>0.224138</td>\n",
              "      <td>- El otro día ví a tu suegra y .....\\n- ¡Alto ...</td>\n",
              "      <td></td>\n",
              "      <td>1</td>\n",
              "      <td>0</td>\n",
              "      <td>1</td>\n",
              "      <td>- El otro día ví a tu suegra y .\\n- ¡Alto ahí!...</td>\n",
              "      <td>- El otro día ví a tu suegra y  . - alto ahí s...</td>\n",
              "      <td>- El otro día ví a tu suegra y  . - alto ahí s...</td>\n",
              "    </tr>\n",
              "    <tr>\n",
              "      <th>97</th>\n",
              "      <td>tweet98</td>\n",
              "      <td>#Chiste Te amo\\n- ¿En serio? Que casualidad!\\n...</td>\n",
              "      <td>1</td>\n",
              "      <td>20</td>\n",
              "      <td>97</td>\n",
              "      <td>0.206186</td>\n",
              "      <td>#Chiste Te amo\\n- ¿En serio? Que casualidad!\\n...</td>\n",
              "      <td></td>\n",
              "      <td>0</td>\n",
              "      <td>0</td>\n",
              "      <td>0</td>\n",
              "      <td>#Chiste Te amo\\n- ¿En serio? Que casualidad!\\n...</td>\n",
              "      <td>chiste Te amor  ¿ En serio ?  Que casualidad!-...</td>\n",
              "      <td>chiste Te amor  ¿ En serio ?  Que casualidad!-...</td>\n",
              "    </tr>\n",
              "    <tr>\n",
              "      <th>98</th>\n",
              "      <td>tweet99</td>\n",
              "      <td>Escuchar reggaetón \\n\\nES DE POBRES</td>\n",
              "      <td>0</td>\n",
              "      <td>7</td>\n",
              "      <td>33</td>\n",
              "      <td>0.212121</td>\n",
              "      <td>Escuchar reggaetón \\n\\nES DE POBRES</td>\n",
              "      <td></td>\n",
              "      <td>0</td>\n",
              "      <td>0</td>\n",
              "      <td>0</td>\n",
              "      <td>Escuchar reggaetón \\n\\nES DE POBRES</td>\n",
              "      <td>Escuchar reggaeton ES DE POBRES</td>\n",
              "      <td>Escuchar reggaeton ES DE POBRES</td>\n",
              "    </tr>\n",
              "    <tr>\n",
              "      <th>99</th>\n",
              "      <td>tweet100</td>\n",
              "      <td>Que pena que cuando me vengas a buscar ya no e...</td>\n",
              "      <td>0</td>\n",
              "      <td>12</td>\n",
              "      <td>55</td>\n",
              "      <td>0.218182</td>\n",
              "      <td>Que pena que cuando me vengas a buscar ya no e...</td>\n",
              "      <td>:person_shrugging: :medium-light_skin_tone: :m...</td>\n",
              "      <td>0</td>\n",
              "      <td>0</td>\n",
              "      <td>0</td>\n",
              "      <td>Que pena que cuando me vengas a buscar ya no e...</td>\n",
              "      <td>Que pena que cuando me vengas a buscar ya no e...</td>\n",
              "      <td>Que pena que cuando me vengas a buscar ya no e...</td>\n",
              "    </tr>\n",
              "  </tbody>\n",
              "</table>\n",
              "<p>100 rows × 14 columns</p>\n",
              "</div>"
            ],
            "text/plain": [
              "          id  ...                                            text_v5\n",
              "0     tweet1  ...  Niveles de retraso mental  .  Bajo .  .  Medio...\n",
              "1     tweet2  ...   . Vamos Luke desenfunda tu sable demuestra tu...\n",
              "2     tweet3  ...  -  ¿ Te ofrezco algo ? ,  ¿ agua café mi coraz...\n",
              "3     tweet4  ...                No se porqué me hago la cabeza deos\n",
              "4     tweet5  ...  Quisiera saber que hago durante la siesta de l...\n",
              "..       ...  ...                                                ...\n",
              "95   tweet96  ...  el pecado que cometió lamujer en el paraíso de...\n",
              "96   tweet97  ...  - El otro día ví a tu suegra y  . - alto ahí s...\n",
              "97   tweet98  ...  chiste Te amor  ¿ En serio ?  Que casualidad!-...\n",
              "98   tweet99  ...                    Escuchar reggaeton ES DE POBRES\n",
              "99  tweet100  ...  Que pena que cuando me vengas a buscar ya no e...\n",
              "\n",
              "[100 rows x 14 columns]"
            ]
          },
          "metadata": {
            "tags": []
          },
          "execution_count": 26
        }
      ]
    },
    {
      "cell_type": "markdown",
      "metadata": {
        "id": "Db8Z3XeEyfj1"
      },
      "source": [
        "---\n",
        "---\n",
        "\n",
        "# CREACION MATRIZ WORD CONTEXT DEL TEXTO DEPURADO (SIN EMOJIS y sin idiomas poco habituales)"
      ]
    },
    {
      "cell_type": "code",
      "metadata": {
        "colab": {
          "base_uri": "https://localhost:8080/"
        },
        "id": "x3HmJbsGtz7a",
        "outputId": "ea79a644-2e94-48ca-9e62-5f228e2e0c1c"
      },
      "source": [
        "from nltk.stem.snowball import SpanishStemmer\n",
        "def spanish_stemmer(sentence):\n",
        "    stemmer = SpanishStemmer()\n",
        "    analyzer = CountVectorizer(binary=False, analyzer='word', stop_words=more_stop_words,\n",
        "                               ngram_range=(1, 1)).build_analyzer()\n",
        "    return (stemmer.stem(word) for word in analyzer(sentence))\n",
        "    \n",
        "from sklearn.feature_extraction.text import CountVectorizer\n",
        "c_vec = CountVectorizer(analyzer=spanish_stemmer, stop_words=more_stop_words, lowercase=True)\n",
        "# tf_idf = TfidfTransformer(smooth_idf=True, use_idf=True)\n",
        "c_vec_mat = c_vec.fit_transform(text['text_v3'])\n",
        "# tf_idf_mat = tf_idf.fit_transform(c_vec_mat)\n",
        "c_vec_mat.shape"
      ],
      "execution_count": 27,
      "outputs": [
        {
          "output_type": "execute_result",
          "data": {
            "text/plain": [
              "(100, 529)"
            ]
          },
          "metadata": {
            "tags": []
          },
          "execution_count": 27
        }
      ]
    },
    {
      "cell_type": "code",
      "metadata": {
        "colab": {
          "base_uri": "https://localhost:8080/"
        },
        "id": "MGnFBGAhzHRi",
        "outputId": "62c17162-319f-4e82-ca79-f298131946cb"
      },
      "source": [
        "df_c_vec = pd.DataFrame(c_vec_mat.toarray(), columns=c_vec.get_feature_names())\n",
        "print(df_c_vec)"
      ],
      "execution_count": 28,
      "outputs": [
        {
          "output_type": "stream",
          "text": [
            "    20cosasquehacerantesdemor  abaj  abraz  absorb  ...  xdxd  xqu  yot  zon\n",
            "0                           0     0      0       0  ...     0    0    0    0\n",
            "1                           0     0      0       0  ...     0    0    0    0\n",
            "2                           0     0      0       0  ...     0    0    0    0\n",
            "3                           0     0      0       0  ...     0    0    0    0\n",
            "4                           0     0      0       0  ...     0    0    0    0\n",
            "..                        ...   ...    ...     ...  ...   ...  ...  ...  ...\n",
            "95                          0     0      0       0  ...     0    0    0    0\n",
            "96                          0     0      0       0  ...     0    0    0    0\n",
            "97                          0     0      0       0  ...     0    0    0    0\n",
            "98                          0     0      0       0  ...     0    0    0    0\n",
            "99                          0     0      0       0  ...     0    0    0    0\n",
            "\n",
            "[100 rows x 529 columns]\n"
          ],
          "name": "stdout"
        }
      ]
    },
    {
      "cell_type": "markdown",
      "metadata": {
        "id": "x5CutgimzyLS"
      },
      "source": [
        "---\n",
        "---\n",
        "\n",
        "# Traducción Corpus\n",
        "\n",
        "# Descripción:\n",
        "\n",
        "Frente a la adversidad que supone que la gran mayoría de modelos desarrollados en HuggingFace se encuentran en Inglés, se ha optado por traducir el corpus al inglés con el pipeline correspondiente. Así, podemos aprovecharlos para hacer Transfer Learning.\n",
        "\n",
        "Puesto que la fama de los transformers les antecede, consideramos que el error de los mismos de cara a las traducciones resulta asumible."
      ]
    },
    {
      "cell_type": "code",
      "metadata": {
        "id": "p54MeEel0qxg",
        "colab": {
          "base_uri": "https://localhost:8080/"
        },
        "outputId": "69218649-4c89-4782-dbfb-2b19b77c11a1"
      },
      "source": [
        "!pip install transformers\n",
        "!pip install sentencepiece"
      ],
      "execution_count": 29,
      "outputs": [
        {
          "output_type": "stream",
          "text": [
            "Requirement already satisfied: transformers in /usr/local/lib/python3.7/dist-packages (4.6.1)\n",
            "Requirement already satisfied: regex!=2019.12.17 in /usr/local/lib/python3.7/dist-packages (from transformers) (2019.12.20)\n",
            "Requirement already satisfied: sacremoses in /usr/local/lib/python3.7/dist-packages (from transformers) (0.0.45)\n",
            "Requirement already satisfied: huggingface-hub==0.0.8 in /usr/local/lib/python3.7/dist-packages (from transformers) (0.0.8)\n",
            "Requirement already satisfied: packaging in /usr/local/lib/python3.7/dist-packages (from transformers) (20.9)\n",
            "Requirement already satisfied: filelock in /usr/local/lib/python3.7/dist-packages (from transformers) (3.0.12)\n",
            "Requirement already satisfied: requests in /usr/local/lib/python3.7/dist-packages (from transformers) (2.23.0)\n",
            "Requirement already satisfied: numpy>=1.17 in /usr/local/lib/python3.7/dist-packages (from transformers) (1.19.5)\n",
            "Requirement already satisfied: tqdm>=4.27 in /usr/local/lib/python3.7/dist-packages (from transformers) (4.41.1)\n",
            "Requirement already satisfied: tokenizers<0.11,>=0.10.1 in /usr/local/lib/python3.7/dist-packages (from transformers) (0.10.2)\n",
            "Requirement already satisfied: importlib-metadata; python_version < \"3.8\" in /usr/local/lib/python3.7/dist-packages (from transformers) (4.0.1)\n",
            "Requirement already satisfied: click in /usr/local/lib/python3.7/dist-packages (from sacremoses->transformers) (8.0.0)\n",
            "Requirement already satisfied: six in /usr/local/lib/python3.7/dist-packages (from sacremoses->transformers) (1.15.0)\n",
            "Requirement already satisfied: joblib in /usr/local/lib/python3.7/dist-packages (from sacremoses->transformers) (1.0.1)\n",
            "Requirement already satisfied: pyparsing>=2.0.2 in /usr/local/lib/python3.7/dist-packages (from packaging->transformers) (2.4.7)\n",
            "Requirement already satisfied: urllib3!=1.25.0,!=1.25.1,<1.26,>=1.21.1 in /usr/local/lib/python3.7/dist-packages (from requests->transformers) (1.24.3)\n",
            "Requirement already satisfied: certifi>=2017.4.17 in /usr/local/lib/python3.7/dist-packages (from requests->transformers) (2020.12.5)\n",
            "Requirement already satisfied: idna<3,>=2.5 in /usr/local/lib/python3.7/dist-packages (from requests->transformers) (2.10)\n",
            "Requirement already satisfied: chardet<4,>=3.0.2 in /usr/local/lib/python3.7/dist-packages (from requests->transformers) (3.0.4)\n",
            "Requirement already satisfied: zipp>=0.5 in /usr/local/lib/python3.7/dist-packages (from importlib-metadata; python_version < \"3.8\"->transformers) (3.4.1)\n",
            "Requirement already satisfied: typing-extensions>=3.6.4; python_version < \"3.8\" in /usr/local/lib/python3.7/dist-packages (from importlib-metadata; python_version < \"3.8\"->transformers) (3.7.4.3)\n",
            "Requirement already satisfied: sentencepiece in /usr/local/lib/python3.7/dist-packages (0.1.95)\n"
          ],
          "name": "stdout"
        }
      ]
    },
    {
      "cell_type": "code",
      "metadata": {
        "id": "PyzSC6zF1hoB"
      },
      "source": [
        "from transformers import AutoTokenizer, AutoModelForSeq2SeqLM\n",
        "from transformers import AutoModelForSequenceClassification, pipeline"
      ],
      "execution_count": 30,
      "outputs": []
    },
    {
      "cell_type": "code",
      "metadata": {
        "id": "hRTYsdk81lK-"
      },
      "source": [
        "# Autotokenizador\n",
        "tokenizer = AutoTokenizer.from_pretrained(\"Helsinki-NLP/opus-mt-es-en\")\n",
        "\n",
        "# Elección/Descarga del modelo Preentrenado\n",
        "model = AutoModelForSeq2SeqLM.from_pretrained(\"Helsinki-NLP/opus-mt-es-en\")"
      ],
      "execution_count": 31,
      "outputs": []
    },
    {
      "cell_type": "code",
      "metadata": {
        "id": "Zlw1G7Q9CzVv"
      },
      "source": [
        "def get_corpus_translation(corpus):\n",
        "  from transformers import pipeline\n",
        "  pline = pipeline(\"translation_es_to_en\", model=model, tokenizer=tokenizer)\n",
        "\n",
        "  def get_tweet_translation(tweet):\n",
        "\n",
        "    tweet = tweet.lower()\n",
        "\n",
        "    tweet = tweet.replace('.', ' <.> ')\n",
        "    tweet = tweet.replace('...', ' . ')\n",
        "    tweet = tweet.replace(' q ', ' que ')\n",
        "    tweet = tweet.replace(' k ', ' que ')\n",
        "    tweet = tweet.replace(' d ', ' de ')\n",
        "\n",
        "    return pline(tweet)[0]['translation_text'] # punto <point>\n",
        "\n",
        "  return list(map(get_tweet_translation, corpus['text_v5'].to_list()))\n",
        "\n",
        "text['en_text'] = get_corpus_translation(text)\n",
        "\n",
        "def recover_point(tweet):\n",
        "  return tweet.replace('<.>', ' . ')\n",
        "\n",
        "def recover_point_corpus(corpus):\n",
        "  return list(map(recover_point, corpus))\n",
        "\n",
        "text['en_text'] = recover_point_corpus(text['en_text'])\n",
        "\n"
      ],
      "execution_count": 32,
      "outputs": []
    },
    {
      "cell_type": "code",
      "metadata": {
        "id": "_NLitx-r2YLs"
      },
      "source": [
        "text = text[['id', 'text', 'text_v2', 'text_v3', 'text_v4', 'text_v5', 'en_text', 'len_token', 'n_char', 'ratio', 'detected_cansinos', 'detected_emojis_cansinos', 'detected_text_cansinos', 'text_emojis', 'is_humor']]\n",
        "\n",
        "text.replace({'text_emojis': {'': 'no_emojis'}}, inplace= True)\n",
        "\n",
        "corpus = text.copy()"
      ],
      "execution_count": 33,
      "outputs": []
    },
    {
      "cell_type": "code",
      "metadata": {
        "colab": {
          "base_uri": "https://localhost:8080/",
          "height": 35
        },
        "id": "PaADQKtT7oAM",
        "outputId": "34d7ec29-ec7f-47c8-e00c-67f74d6d6d70"
      },
      "source": [
        "corpus['text_emojis'][3]"
      ],
      "execution_count": 34,
      "outputs": [
        {
          "output_type": "execute_result",
          "data": {
            "application/vnd.google.colaboratory.intrinsic+json": {
              "type": "string"
            },
            "text/plain": [
              "'no_emojis'"
            ]
          },
          "metadata": {
            "tags": []
          },
          "execution_count": 34
        }
      ]
    },
    {
      "cell_type": "code",
      "metadata": {
        "id": "Zq1StCABmG-P"
      },
      "source": [
        "corpus.to_csv('cleaned_corpus.csv', index=False, sep = ',')"
      ],
      "execution_count": 35,
      "outputs": []
    },
    {
      "cell_type": "code",
      "metadata": {
        "colab": {
          "base_uri": "https://localhost:8080/",
          "height": 35
        },
        "id": "oi6pKCZ0-N_Q",
        "outputId": "5c967216-2a58-4edc-fa0a-de0da39c8993"
      },
      "source": [
        "corpus['text_emojis'].loc[99]"
      ],
      "execution_count": 36,
      "outputs": [
        {
          "output_type": "execute_result",
          "data": {
            "application/vnd.google.colaboratory.intrinsic+json": {
              "type": "string"
            },
            "text/plain": [
              "':person_shrugging: :medium-light_skin_tone: :male_sign:'"
            ]
          },
          "metadata": {
            "tags": []
          },
          "execution_count": 36
        }
      ]
    },
    {
      "cell_type": "code",
      "metadata": {
        "colab": {
          "base_uri": "https://localhost:8080/",
          "height": 958
        },
        "id": "IRlcnsLRnBGW",
        "outputId": "9fbd0f71-af72-4642-92f3-cf244e5169a8"
      },
      "source": [
        "test_corpus = pd.read_csv('cleaned_corpus.csv', header=0, sep=',')\n",
        "\n",
        "test_corpus.tail(8)"
      ],
      "execution_count": 37,
      "outputs": [
        {
          "output_type": "execute_result",
          "data": {
            "text/html": [
              "<div>\n",
              "<style scoped>\n",
              "    .dataframe tbody tr th:only-of-type {\n",
              "        vertical-align: middle;\n",
              "    }\n",
              "\n",
              "    .dataframe tbody tr th {\n",
              "        vertical-align: top;\n",
              "    }\n",
              "\n",
              "    .dataframe thead th {\n",
              "        text-align: right;\n",
              "    }\n",
              "</style>\n",
              "<table border=\"1\" class=\"dataframe\">\n",
              "  <thead>\n",
              "    <tr style=\"text-align: right;\">\n",
              "      <th></th>\n",
              "      <th>id</th>\n",
              "      <th>text</th>\n",
              "      <th>text_v2</th>\n",
              "      <th>text_v3</th>\n",
              "      <th>text_v4</th>\n",
              "      <th>text_v5</th>\n",
              "      <th>en_text</th>\n",
              "      <th>len_token</th>\n",
              "      <th>n_char</th>\n",
              "      <th>ratio</th>\n",
              "      <th>detected_cansinos</th>\n",
              "      <th>detected_emojis_cansinos</th>\n",
              "      <th>detected_text_cansinos</th>\n",
              "      <th>text_emojis</th>\n",
              "      <th>is_humor</th>\n",
              "    </tr>\n",
              "  </thead>\n",
              "  <tbody>\n",
              "    <tr>\n",
              "      <th>92</th>\n",
              "      <td>tweet93</td>\n",
              "      <td>Cuando estoy gritando en mi mente mando mensaj...</td>\n",
              "      <td>Cuando estoy gritando en mi mente mando mensaj...</td>\n",
              "      <td>Cuando estoy gritando en mi mente mando mensaj...</td>\n",
              "      <td>Cuando estoy gritando en mi mente mando mensaj...</td>\n",
              "      <td>Cuando estoy gritando en mi mente mando mensaj...</td>\n",
              "      <td>when I am shouting in my mind I send messages ...</td>\n",
              "      <td>12</td>\n",
              "      <td>72</td>\n",
              "      <td>0.166667</td>\n",
              "      <td>0</td>\n",
              "      <td>0</td>\n",
              "      <td>0</td>\n",
              "      <td>no_emojis</td>\n",
              "      <td>0</td>\n",
              "    </tr>\n",
              "    <tr>\n",
              "      <th>93</th>\n",
              "      <td>tweet94</td>\n",
              "      <td>La mujer de tu vida no la vas a encontrar un s...</td>\n",
              "      <td>La mujer de tu vida no la vas a encontrar un s...</td>\n",
              "      <td>La mujer de tu vida no la vas a encontrar un s...</td>\n",
              "      <td>La mujer de tu vida no la vas a encontrar un s...</td>\n",
              "      <td>La mujer de tu vida no la vas a encontrar un s...</td>\n",
              "      <td>the woman of your life you won't find her on a...</td>\n",
              "      <td>20</td>\n",
              "      <td>92</td>\n",
              "      <td>0.217391</td>\n",
              "      <td>0</td>\n",
              "      <td>0</td>\n",
              "      <td>0</td>\n",
              "      <td>no_emojis</td>\n",
              "      <td>0</td>\n",
              "    </tr>\n",
              "    <tr>\n",
              "      <th>94</th>\n",
              "      <td>tweet95</td>\n",
              "      <td>Cada vez que estoy pasando por momentos difíci...</td>\n",
              "      <td>Cada vez que estoy pasando por momentos difíci...</td>\n",
              "      <td>Cada vez que estoy pasando por momentos difíci...</td>\n",
              "      <td>Cada vez que estoy pasando por momentos difíci...</td>\n",
              "      <td>Cada vez que estoy pasando por momentos difíci...</td>\n",
              "      <td>Every time I'm going through difficult times I...</td>\n",
              "      <td>24</td>\n",
              "      <td>140</td>\n",
              "      <td>0.171429</td>\n",
              "      <td>0</td>\n",
              "      <td>0</td>\n",
              "      <td>0</td>\n",
              "      <td>no_emojis</td>\n",
              "      <td>1</td>\n",
              "    </tr>\n",
              "    <tr>\n",
              "      <th>95</th>\n",
              "      <td>tweet96</td>\n",
              "      <td>el pecado que cometió lamujer en el paraíso de...</td>\n",
              "      <td>el pecado que cometió lamujer en el paraíso de...</td>\n",
              "      <td>el pecado que cometió lamujer en el paraíso de...</td>\n",
              "      <td>el pecado que cometió lamujer en el paraíso de...</td>\n",
              "      <td>el pecado que cometió lamujer en el paraíso de...</td>\n",
              "      <td>the sin that the woman committed in paradise h...</td>\n",
              "      <td>25</td>\n",
              "      <td>140</td>\n",
              "      <td>0.178571</td>\n",
              "      <td>0</td>\n",
              "      <td>0</td>\n",
              "      <td>0</td>\n",
              "      <td>no_emojis</td>\n",
              "      <td>1</td>\n",
              "    </tr>\n",
              "    <tr>\n",
              "      <th>96</th>\n",
              "      <td>tweet97</td>\n",
              "      <td>- El otro día ví a tu suegra y .....\\n- ¡Alto ...</td>\n",
              "      <td>- El otro día ví a tu suegra y .....\\n- ¡Alto ...</td>\n",
              "      <td>- El otro día ví a tu suegra y .\\n- ¡Alto ahí!...</td>\n",
              "      <td>- El otro día ví a tu suegra y  . - alto ahí s...</td>\n",
              "      <td>- El otro día ví a tu suegra y  . - alto ahí s...</td>\n",
              "      <td>- the other day I saw your mother-in-law and  ...</td>\n",
              "      <td>26</td>\n",
              "      <td>116</td>\n",
              "      <td>0.224138</td>\n",
              "      <td>1</td>\n",
              "      <td>0</td>\n",
              "      <td>1</td>\n",
              "      <td>no_emojis</td>\n",
              "      <td>1</td>\n",
              "    </tr>\n",
              "    <tr>\n",
              "      <th>97</th>\n",
              "      <td>tweet98</td>\n",
              "      <td>#Chiste Te amo\\n- ¿En serio? Que casualidad!\\n...</td>\n",
              "      <td>#Chiste Te amo\\n- ¿En serio? Que casualidad!\\n...</td>\n",
              "      <td>#Chiste Te amo\\n- ¿En serio? Que casualidad!\\n...</td>\n",
              "      <td>chiste Te amor  ¿ En serio ?  Que casualidad!-...</td>\n",
              "      <td>chiste Te amor  ¿ En serio ?  Que casualidad!-...</td>\n",
              "      <td>joke I love you seriously what chance!- Why ? ...</td>\n",
              "      <td>20</td>\n",
              "      <td>97</td>\n",
              "      <td>0.206186</td>\n",
              "      <td>0</td>\n",
              "      <td>0</td>\n",
              "      <td>0</td>\n",
              "      <td>no_emojis</td>\n",
              "      <td>1</td>\n",
              "    </tr>\n",
              "    <tr>\n",
              "      <th>98</th>\n",
              "      <td>tweet99</td>\n",
              "      <td>Escuchar reggaetón \\n\\nES DE POBRES</td>\n",
              "      <td>Escuchar reggaetón \\n\\nES DE POBRES</td>\n",
              "      <td>Escuchar reggaetón \\n\\nES DE POBRES</td>\n",
              "      <td>Escuchar reggaeton ES DE POBRES</td>\n",
              "      <td>Escuchar reggaeton ES DE POBRES</td>\n",
              "      <td>listening reggaeton is from the poor</td>\n",
              "      <td>7</td>\n",
              "      <td>33</td>\n",
              "      <td>0.212121</td>\n",
              "      <td>0</td>\n",
              "      <td>0</td>\n",
              "      <td>0</td>\n",
              "      <td>no_emojis</td>\n",
              "      <td>0</td>\n",
              "    </tr>\n",
              "    <tr>\n",
              "      <th>99</th>\n",
              "      <td>tweet100</td>\n",
              "      <td>Que pena que cuando me vengas a buscar ya no e...</td>\n",
              "      <td>Que pena que cuando me vengas a buscar ya no e...</td>\n",
              "      <td>Que pena que cuando me vengas a buscar ya no e...</td>\n",
              "      <td>Que pena que cuando me vengas a buscar ya no e...</td>\n",
              "      <td>Que pena que cuando me vengas a buscar ya no e...</td>\n",
              "      <td>Too bad when you come looking for me, I'm no l...</td>\n",
              "      <td>12</td>\n",
              "      <td>55</td>\n",
              "      <td>0.218182</td>\n",
              "      <td>0</td>\n",
              "      <td>0</td>\n",
              "      <td>0</td>\n",
              "      <td>:person_shrugging: :medium-light_skin_tone: :m...</td>\n",
              "      <td>0</td>\n",
              "    </tr>\n",
              "  </tbody>\n",
              "</table>\n",
              "</div>"
            ],
            "text/plain": [
              "          id  ... is_humor\n",
              "92   tweet93  ...        0\n",
              "93   tweet94  ...        0\n",
              "94   tweet95  ...        1\n",
              "95   tweet96  ...        1\n",
              "96   tweet97  ...        1\n",
              "97   tweet98  ...        1\n",
              "98   tweet99  ...        0\n",
              "99  tweet100  ...        0\n",
              "\n",
              "[8 rows x 15 columns]"
            ]
          },
          "metadata": {
            "tags": []
          },
          "execution_count": 37
        }
      ]
    },
    {
      "cell_type": "code",
      "metadata": {
        "colab": {
          "base_uri": "https://localhost:8080/"
        },
        "id": "ryBvn4le3Gw8",
        "outputId": "979b4868-9d75-4f58-f8c9-6552964ed1fb"
      },
      "source": [
        "test_corpus['text_emojis'][~test_corpus['text_emojis'].isna()]"
      ],
      "execution_count": 38,
      "outputs": [
        {
          "output_type": "execute_result",
          "data": {
            "text/plain": [
              "0                                             no_emojis\n",
              "1                                             no_emojis\n",
              "2                                             no_emojis\n",
              "3                                             no_emojis\n",
              "4                                             no_emojis\n",
              "                            ...                        \n",
              "95                                            no_emojis\n",
              "96                                            no_emojis\n",
              "97                                            no_emojis\n",
              "98                                            no_emojis\n",
              "99    :person_shrugging: :medium-light_skin_tone: :m...\n",
              "Name: text_emojis, Length: 100, dtype: object"
            ]
          },
          "metadata": {
            "tags": []
          },
          "execution_count": 38
        }
      ]
    },
    {
      "cell_type": "code",
      "metadata": {
        "colab": {
          "base_uri": "https://localhost:8080/",
          "height": 35
        },
        "id": "CnOWzgENd_ko",
        "outputId": "fead937d-96aa-429f-f7fb-0ad32a1dd2e8"
      },
      "source": [
        "test_corpus.iloc[6]['text']"
      ],
      "execution_count": 39,
      "outputs": [
        {
          "output_type": "execute_result",
          "data": {
            "application/vnd.google.colaboratory.intrinsic+json": {
              "type": "string"
            },
            "text/plain": [
              "'—Buenas don Pepe, ¿me vende un litro de leche?\\n—¿Entera?\\n—No, si quiere tómese un vasito pinche viejo abusivo...'"
            ]
          },
          "metadata": {
            "tags": []
          },
          "execution_count": 39
        }
      ]
    },
    {
      "cell_type": "code",
      "metadata": {
        "colab": {
          "base_uri": "https://localhost:8080/",
          "height": 35
        },
        "id": "YM1fUW4zh5zW",
        "outputId": "b5f416d4-3861-4570-f0eb-1e9f5b8e9867"
      },
      "source": [
        "test_corpus.iloc[6]['text_v3']"
      ],
      "execution_count": 40,
      "outputs": [
        {
          "output_type": "execute_result",
          "data": {
            "application/vnd.google.colaboratory.intrinsic+json": {
              "type": "string"
            },
            "text/plain": [
              "'—Buenas don Pepe, ¿me vende un litro de leche?\\n—¿Entera?\\n—No, si quiere tómese un vasito pinche viejo abusivo.'"
            ]
          },
          "metadata": {
            "tags": []
          },
          "execution_count": 40
        }
      ]
    },
    {
      "cell_type": "code",
      "metadata": {
        "colab": {
          "base_uri": "https://localhost:8080/",
          "height": 35
        },
        "id": "N81Cmutih-lp",
        "outputId": "d8d5ccce-b53a-4be9-8fc1-5ca54cb9dea9"
      },
      "source": [
        "test_corpus.iloc[6]['text_v4']"
      ],
      "execution_count": 41,
      "outputs": [
        {
          "output_type": "execute_result",
          "data": {
            "application/vnd.google.colaboratory.intrinsic+json": {
              "type": "string"
            },
            "text/plain": [
              "' . Buenas don pepe  ¿ me vende un litro de leche ?  .  ¿ Entera ?  . no si quiere tómese un vasito pinche viejo abusivo . '"
            ]
          },
          "metadata": {
            "tags": []
          },
          "execution_count": 41
        }
      ]
    },
    {
      "cell_type": "code",
      "metadata": {
        "colab": {
          "base_uri": "https://localhost:8080/",
          "height": 35
        },
        "id": "aA3-usHidtbh",
        "outputId": "3443af26-ccaa-4bd3-b7bf-26ba04703750"
      },
      "source": [
        "test_corpus.iloc[6]['text_v5']"
      ],
      "execution_count": 42,
      "outputs": [
        {
          "output_type": "execute_result",
          "data": {
            "application/vnd.google.colaboratory.intrinsic+json": {
              "type": "string"
            },
            "text/plain": [
              "' . Buenas don pepe  ¿ me vende un litro de leche ?  .  ¿ Entera ?  . no si quiere tómese un vasito pinche viejo abusivo . '"
            ]
          },
          "metadata": {
            "tags": []
          },
          "execution_count": 42
        }
      ]
    },
    {
      "cell_type": "code",
      "metadata": {
        "colab": {
          "base_uri": "https://localhost:8080/",
          "height": 35
        },
        "id": "NGc67vE0eJC6",
        "outputId": "6bd93edc-ebf3-4963-970e-3d03b1e914fc"
      },
      "source": [
        "test_corpus.iloc[6]['en_text']"
      ],
      "execution_count": 43,
      "outputs": [
        {
          "output_type": "execute_result",
          "data": {
            "application/vnd.google.colaboratory.intrinsic+json": {
              "type": "string"
            },
            "text/plain": [
              "' .  good don pepe does it sell me a liter of milk ?  .  whole ?  .  not if you want to take a pill old abusive  . '"
            ]
          },
          "metadata": {
            "tags": []
          },
          "execution_count": 43
        }
      ]
    },
    {
      "cell_type": "markdown",
      "metadata": {
        "id": "WbrUBiTrX93k"
      },
      "source": [
        "**I'm bored** antes se traducía como **meeee bored**, así que hemos ganado en calidad.\n",
        "\n",
        "Generar a partir de text_v2, text_v3 donde se pase text_v2 y se haga el spell_checker"
      ]
    },
    {
      "cell_type": "code",
      "metadata": {
        "colab": {
          "base_uri": "https://localhost:8080/",
          "height": 1000
        },
        "id": "_G6N_TChj3lc",
        "outputId": "83852187-b908-45e5-9d7d-9118cce3cf65"
      },
      "source": [
        "# eliminar nulos\n",
        "\n",
        "df_train = test_corpus[~test_corpus.text_v5.isna()]\n",
        "df_train"
      ],
      "execution_count": 44,
      "outputs": [
        {
          "output_type": "execute_result",
          "data": {
            "text/html": [
              "<div>\n",
              "<style scoped>\n",
              "    .dataframe tbody tr th:only-of-type {\n",
              "        vertical-align: middle;\n",
              "    }\n",
              "\n",
              "    .dataframe tbody tr th {\n",
              "        vertical-align: top;\n",
              "    }\n",
              "\n",
              "    .dataframe thead th {\n",
              "        text-align: right;\n",
              "    }\n",
              "</style>\n",
              "<table border=\"1\" class=\"dataframe\">\n",
              "  <thead>\n",
              "    <tr style=\"text-align: right;\">\n",
              "      <th></th>\n",
              "      <th>id</th>\n",
              "      <th>text</th>\n",
              "      <th>text_v2</th>\n",
              "      <th>text_v3</th>\n",
              "      <th>text_v4</th>\n",
              "      <th>text_v5</th>\n",
              "      <th>en_text</th>\n",
              "      <th>len_token</th>\n",
              "      <th>n_char</th>\n",
              "      <th>ratio</th>\n",
              "      <th>detected_cansinos</th>\n",
              "      <th>detected_emojis_cansinos</th>\n",
              "      <th>detected_text_cansinos</th>\n",
              "      <th>text_emojis</th>\n",
              "      <th>is_humor</th>\n",
              "    </tr>\n",
              "  </thead>\n",
              "  <tbody>\n",
              "    <tr>\n",
              "      <th>0</th>\n",
              "      <td>tweet1</td>\n",
              "      <td>Niveles de retraso mental: \\n\\n— Bajo.\\n— Medi...</td>\n",
              "      <td>Niveles de retraso mental: \\n\\n— Bajo.\\n— Medi...</td>\n",
              "      <td>Niveles de retraso mental: \\n\\n— Bajo.\\n— Medi...</td>\n",
              "      <td>Niveles de retraso mental  .  Bajo .  .  Medio...</td>\n",
              "      <td>Niveles de retraso mental  .  Bajo .  .  Medio...</td>\n",
              "      <td>mental retardation levels  .  low  .   .  medi...</td>\n",
              "      <td>19</td>\n",
              "      <td>86</td>\n",
              "      <td>0.220930</td>\n",
              "      <td>0</td>\n",
              "      <td>0</td>\n",
              "      <td>0</td>\n",
              "      <td>no_emojis</td>\n",
              "      <td>1</td>\n",
              "    </tr>\n",
              "    <tr>\n",
              "      <th>1</th>\n",
              "      <td>tweet2</td>\n",
              "      <td>—Vamos Luke desenfunda tu sable, demuestra tu ...</td>\n",
              "      <td>—Vamos Luke desenfunda tu sable, demuestra tu ...</td>\n",
              "      <td>—Vamos Luke desenfunda tu sable, demuestra tu ...</td>\n",
              "      <td>. Vamos Luke desenfunda tu sable demuestra tu...</td>\n",
              "      <td>. Vamos Luke desenfunda tu sable demuestra tu...</td>\n",
              "      <td>.  let's luke unscrew your sabre shows your h...</td>\n",
              "      <td>22</td>\n",
              "      <td>140</td>\n",
              "      <td>0.157143</td>\n",
              "      <td>0</td>\n",
              "      <td>0</td>\n",
              "      <td>0</td>\n",
              "      <td>no_emojis</td>\n",
              "      <td>1</td>\n",
              "    </tr>\n",
              "    <tr>\n",
              "      <th>2</th>\n",
              "      <td>tweet3</td>\n",
              "      <td>- ¿Te ofrezco algo?, ¿Agua, café, mi corazón, ...</td>\n",
              "      <td>- ¿Te ofrezco algo?, ¿Agua, café, mi corazón, ...</td>\n",
              "      <td>- ¿Te ofrezco algo?, ¿Agua, café, mi corazón, ...</td>\n",
              "      <td>-  ¿ Te ofrezco algo ? ,  ¿ agua café mi coraz...</td>\n",
              "      <td>-  ¿ Te ofrezco algo ? ,  ¿ agua café mi coraz...</td>\n",
              "      <td>- Do I offer you anything? , do I water coffee...</td>\n",
              "      <td>21</td>\n",
              "      <td>112</td>\n",
              "      <td>0.187500</td>\n",
              "      <td>1</td>\n",
              "      <td>0</td>\n",
              "      <td>1</td>\n",
              "      <td>no_emojis</td>\n",
              "      <td>1</td>\n",
              "    </tr>\n",
              "    <tr>\n",
              "      <th>3</th>\n",
              "      <td>tweet4</td>\n",
              "      <td>No se porqué me hago la cabeza deooos</td>\n",
              "      <td>No se porqué me hago la cabeza deooos</td>\n",
              "      <td>No se porqué me hago la cabeza deos</td>\n",
              "      <td>No se porqué me hago la cabeza deos</td>\n",
              "      <td>No se porqué me hago la cabeza deos</td>\n",
              "      <td>I don't know why I'm doing my head.</td>\n",
              "      <td>8</td>\n",
              "      <td>37</td>\n",
              "      <td>0.216216</td>\n",
              "      <td>1</td>\n",
              "      <td>0</td>\n",
              "      <td>1</td>\n",
              "      <td>no_emojis</td>\n",
              "      <td>0</td>\n",
              "    </tr>\n",
              "    <tr>\n",
              "      <th>4</th>\n",
              "      <td>tweet5</td>\n",
              "      <td>Quisiera saber que hago durante la siesta de l...</td>\n",
              "      <td>Quisiera saber que hago durante la siesta de l...</td>\n",
              "      <td>Quisiera saber que hago durante la siesta de l...</td>\n",
              "      <td>Quisiera saber que hago durante la siesta de l...</td>\n",
              "      <td>Quisiera saber que hago durante la siesta de l...</td>\n",
              "      <td>I want to know what I do during the nap from w...</td>\n",
              "      <td>20</td>\n",
              "      <td>106</td>\n",
              "      <td>0.188679</td>\n",
              "      <td>0</td>\n",
              "      <td>0</td>\n",
              "      <td>0</td>\n",
              "      <td>no_emojis</td>\n",
              "      <td>0</td>\n",
              "    </tr>\n",
              "    <tr>\n",
              "      <th>...</th>\n",
              "      <td>...</td>\n",
              "      <td>...</td>\n",
              "      <td>...</td>\n",
              "      <td>...</td>\n",
              "      <td>...</td>\n",
              "      <td>...</td>\n",
              "      <td>...</td>\n",
              "      <td>...</td>\n",
              "      <td>...</td>\n",
              "      <td>...</td>\n",
              "      <td>...</td>\n",
              "      <td>...</td>\n",
              "      <td>...</td>\n",
              "      <td>...</td>\n",
              "      <td>...</td>\n",
              "    </tr>\n",
              "    <tr>\n",
              "      <th>95</th>\n",
              "      <td>tweet96</td>\n",
              "      <td>el pecado que cometió lamujer en el paraíso de...</td>\n",
              "      <td>el pecado que cometió lamujer en el paraíso de...</td>\n",
              "      <td>el pecado que cometió lamujer en el paraíso de...</td>\n",
              "      <td>el pecado que cometió lamujer en el paraíso de...</td>\n",
              "      <td>el pecado que cometió lamujer en el paraíso de...</td>\n",
              "      <td>the sin that the woman committed in paradise h...</td>\n",
              "      <td>25</td>\n",
              "      <td>140</td>\n",
              "      <td>0.178571</td>\n",
              "      <td>0</td>\n",
              "      <td>0</td>\n",
              "      <td>0</td>\n",
              "      <td>no_emojis</td>\n",
              "      <td>1</td>\n",
              "    </tr>\n",
              "    <tr>\n",
              "      <th>96</th>\n",
              "      <td>tweet97</td>\n",
              "      <td>- El otro día ví a tu suegra y .....\\n- ¡Alto ...</td>\n",
              "      <td>- El otro día ví a tu suegra y .....\\n- ¡Alto ...</td>\n",
              "      <td>- El otro día ví a tu suegra y .\\n- ¡Alto ahí!...</td>\n",
              "      <td>- El otro día ví a tu suegra y  . - alto ahí s...</td>\n",
              "      <td>- El otro día ví a tu suegra y  . - alto ahí s...</td>\n",
              "      <td>- the other day I saw your mother-in-law and  ...</td>\n",
              "      <td>26</td>\n",
              "      <td>116</td>\n",
              "      <td>0.224138</td>\n",
              "      <td>1</td>\n",
              "      <td>0</td>\n",
              "      <td>1</td>\n",
              "      <td>no_emojis</td>\n",
              "      <td>1</td>\n",
              "    </tr>\n",
              "    <tr>\n",
              "      <th>97</th>\n",
              "      <td>tweet98</td>\n",
              "      <td>#Chiste Te amo\\n- ¿En serio? Que casualidad!\\n...</td>\n",
              "      <td>#Chiste Te amo\\n- ¿En serio? Que casualidad!\\n...</td>\n",
              "      <td>#Chiste Te amo\\n- ¿En serio? Que casualidad!\\n...</td>\n",
              "      <td>chiste Te amor  ¿ En serio ?  Que casualidad!-...</td>\n",
              "      <td>chiste Te amor  ¿ En serio ?  Que casualidad!-...</td>\n",
              "      <td>joke I love you seriously what chance!- Why ? ...</td>\n",
              "      <td>20</td>\n",
              "      <td>97</td>\n",
              "      <td>0.206186</td>\n",
              "      <td>0</td>\n",
              "      <td>0</td>\n",
              "      <td>0</td>\n",
              "      <td>no_emojis</td>\n",
              "      <td>1</td>\n",
              "    </tr>\n",
              "    <tr>\n",
              "      <th>98</th>\n",
              "      <td>tweet99</td>\n",
              "      <td>Escuchar reggaetón \\n\\nES DE POBRES</td>\n",
              "      <td>Escuchar reggaetón \\n\\nES DE POBRES</td>\n",
              "      <td>Escuchar reggaetón \\n\\nES DE POBRES</td>\n",
              "      <td>Escuchar reggaeton ES DE POBRES</td>\n",
              "      <td>Escuchar reggaeton ES DE POBRES</td>\n",
              "      <td>listening reggaeton is from the poor</td>\n",
              "      <td>7</td>\n",
              "      <td>33</td>\n",
              "      <td>0.212121</td>\n",
              "      <td>0</td>\n",
              "      <td>0</td>\n",
              "      <td>0</td>\n",
              "      <td>no_emojis</td>\n",
              "      <td>0</td>\n",
              "    </tr>\n",
              "    <tr>\n",
              "      <th>99</th>\n",
              "      <td>tweet100</td>\n",
              "      <td>Que pena que cuando me vengas a buscar ya no e...</td>\n",
              "      <td>Que pena que cuando me vengas a buscar ya no e...</td>\n",
              "      <td>Que pena que cuando me vengas a buscar ya no e...</td>\n",
              "      <td>Que pena que cuando me vengas a buscar ya no e...</td>\n",
              "      <td>Que pena que cuando me vengas a buscar ya no e...</td>\n",
              "      <td>Too bad when you come looking for me, I'm no l...</td>\n",
              "      <td>12</td>\n",
              "      <td>55</td>\n",
              "      <td>0.218182</td>\n",
              "      <td>0</td>\n",
              "      <td>0</td>\n",
              "      <td>0</td>\n",
              "      <td>:person_shrugging: :medium-light_skin_tone: :m...</td>\n",
              "      <td>0</td>\n",
              "    </tr>\n",
              "  </tbody>\n",
              "</table>\n",
              "<p>100 rows × 15 columns</p>\n",
              "</div>"
            ],
            "text/plain": [
              "          id  ... is_humor\n",
              "0     tweet1  ...        1\n",
              "1     tweet2  ...        1\n",
              "2     tweet3  ...        1\n",
              "3     tweet4  ...        0\n",
              "4     tweet5  ...        0\n",
              "..       ...  ...      ...\n",
              "95   tweet96  ...        1\n",
              "96   tweet97  ...        1\n",
              "97   tweet98  ...        1\n",
              "98   tweet99  ...        0\n",
              "99  tweet100  ...        0\n",
              "\n",
              "[100 rows x 15 columns]"
            ]
          },
          "metadata": {
            "tags": []
          },
          "execution_count": 44
        }
      ]
    }
  ]
}