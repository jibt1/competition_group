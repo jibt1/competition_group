{
  "nbformat": 4,
  "nbformat_minor": 5,
  "metadata": {
    "kernelspec": {
      "display_name": "Python 3",
      "language": "python",
      "name": "python3"
    },
    "language_info": {
      "codemirror_mode": {
        "name": "ipython",
        "version": 3
      },
      "file_extension": ".py",
      "mimetype": "text/x-python",
      "name": "python",
      "nbconvert_exporter": "python",
      "pygments_lexer": "ipython3",
      "version": "3.6.6"
    },
    "colab": {
      "name": "PRUEBA_Twitters_ingles_DistilBertTest.ipynb",
      "provenance": [],
      "collapsed_sections": []
    }
  },
  "cells": [
    {
      "cell_type": "code",
      "metadata": {
        "id": "HUdBmYUeGDMC",
        "colab": {
          "base_uri": "https://localhost:8080/"
        },
        "outputId": "a9cf24f2-7a60-445e-98b0-99b1c2014606"
      },
      "source": [
        "# Comprobamos si está tensorflow-gpu==2.3.0\n",
        "!pip freeze"
      ],
      "id": "HUdBmYUeGDMC",
      "execution_count": 183,
      "outputs": [
        {
          "output_type": "stream",
          "text": [
            "absl-py==0.12.0\n",
            "alabaster==0.7.12\n",
            "albumentations==0.1.12\n",
            "altair==4.1.0\n",
            "appdirs==1.4.4\n",
            "argon2-cffi==20.1.0\n",
            "arviz==0.11.2\n",
            "astor==0.8.1\n",
            "astropy==4.2.1\n",
            "astunparse==1.6.3\n",
            "async-generator==1.10\n",
            "atari-py==0.2.6\n",
            "atomicwrites==1.4.0\n",
            "attrs==21.2.0\n",
            "audioread==2.1.9\n",
            "autograd==1.3\n",
            "Babel==2.9.1\n",
            "backcall==0.2.0\n",
            "beautifulsoup4==4.6.3\n",
            "bleach==3.3.0\n",
            "blis==0.4.1\n",
            "bokeh==2.3.2\n",
            "Bottleneck==1.3.2\n",
            "branca==0.4.2\n",
            "bs4==0.0.1\n",
            "CacheControl==0.12.6\n",
            "cachetools==4.2.2\n",
            "catalogue==1.0.0\n",
            "certifi==2020.12.5\n",
            "cffi==1.14.5\n",
            "cftime==1.4.1\n",
            "chainer==7.4.0\n",
            "chardet==3.0.4\n",
            "click==7.1.2\n",
            "cloudpickle==1.3.0\n",
            "cmake==3.12.0\n",
            "cmdstanpy==0.9.5\n",
            "colorcet==2.0.6\n",
            "colorlover==0.3.0\n",
            "community==1.0.0b1\n",
            "contextlib2==0.5.5\n",
            "convertdate==2.3.2\n",
            "coverage==3.7.1\n",
            "coveralls==0.5\n",
            "crcmod==1.7\n",
            "cufflinks==0.17.3\n",
            "cupy-cuda101==7.4.0\n",
            "cvxopt==1.2.6\n",
            "cvxpy==1.0.31\n",
            "cycler==0.10.0\n",
            "cymem==2.0.5\n",
            "Cython==0.29.23\n",
            "daft==0.0.4\n",
            "dask==2.12.0\n",
            "datascience==0.10.6\n",
            "debugpy==1.0.0\n",
            "decorator==4.4.2\n",
            "defusedxml==0.7.1\n",
            "descartes==1.1.0\n",
            "dill==0.3.3\n",
            "distributed==1.25.3\n",
            "dlib==19.18.0\n",
            "dm-tree==0.1.6\n",
            "docopt==0.6.2\n",
            "docutils==0.17.1\n",
            "dopamine-rl==1.0.5\n",
            "earthengine-api==0.1.264\n",
            "easydict==1.9\n",
            "ecos==2.0.7.post1\n",
            "editdistance==0.5.3\n",
            "en-core-web-sm==2.2.5\n",
            "entrypoints==0.3\n",
            "ephem==3.7.7.1\n",
            "et-xmlfile==1.1.0\n",
            "fa2==0.3.5\n",
            "fancyimpute==0.4.3\n",
            "fastai==1.0.61\n",
            "fastdtw==0.3.4\n",
            "fastprogress==1.0.0\n",
            "fastrlock==0.6\n",
            "fbprophet==0.7.1\n",
            "feather-format==0.4.1\n",
            "filelock==3.0.12\n",
            "firebase-admin==4.4.0\n",
            "fix-yahoo-finance==0.0.22\n",
            "Flask==1.1.2\n",
            "flatbuffers==1.12\n",
            "folium==0.8.3\n",
            "future==0.16.0\n",
            "gast==0.3.3\n",
            "GDAL==2.2.2\n",
            "gdown==3.6.4\n",
            "gensim==3.6.0\n",
            "geographiclib==1.50\n",
            "geopy==1.17.0\n",
            "gin-config==0.4.0\n",
            "glob2==0.7\n",
            "google==2.0.3\n",
            "google-api-core==1.26.3\n",
            "google-api-python-client==1.12.8\n",
            "google-auth==1.30.0\n",
            "google-auth-httplib2==0.0.4\n",
            "google-auth-oauthlib==0.4.4\n",
            "google-cloud-bigquery==1.21.0\n",
            "google-cloud-bigquery-storage==1.1.0\n",
            "google-cloud-core==1.0.3\n",
            "google-cloud-datastore==1.8.0\n",
            "google-cloud-firestore==1.7.0\n",
            "google-cloud-language==1.2.0\n",
            "google-cloud-storage==1.18.1\n",
            "google-cloud-translate==1.5.0\n",
            "google-colab==1.0.0\n",
            "google-pasta==0.2.0\n",
            "google-resumable-media==0.4.1\n",
            "googleapis-common-protos==1.53.0\n",
            "googledrivedownloader==0.4\n",
            "graphviz==0.10.1\n",
            "greenlet==1.1.0\n",
            "grpcio==1.32.0\n",
            "gspread==3.0.1\n",
            "gspread-dataframe==3.0.8\n",
            "gym==0.17.3\n",
            "h5py==2.10.0\n",
            "HeapDict==1.0.1\n",
            "hijri-converter==2.1.1\n",
            "holidays==0.10.5.2\n",
            "holoviews==1.14.3\n",
            "html5lib==1.0.1\n",
            "httpimport==0.5.18\n",
            "httplib2==0.17.4\n",
            "httplib2shim==0.0.3\n",
            "humanize==0.5.1\n",
            "hyperopt==0.1.2\n",
            "ideep4py==2.0.0.post3\n",
            "idna==2.10\n",
            "imageio==2.4.1\n",
            "imagesize==1.2.0\n",
            "imbalanced-learn==0.4.3\n",
            "imblearn==0.0\n",
            "imgaug==0.2.9\n",
            "importlib-metadata==4.0.1\n",
            "importlib-resources==5.1.2\n",
            "imutils==0.5.4\n",
            "inflect==2.1.0\n",
            "iniconfig==1.1.1\n",
            "intel-openmp==2021.2.0\n",
            "intervaltree==2.1.0\n",
            "ipykernel==4.10.1\n",
            "ipython==5.5.0\n",
            "ipython-genutils==0.2.0\n",
            "ipython-sql==0.3.9\n",
            "ipywidgets==7.6.3\n",
            "itsdangerous==1.1.0\n",
            "jax==0.2.12\n",
            "jaxlib==0.1.65+cuda110\n",
            "jdcal==1.4.1\n",
            "jedi==0.18.0\n",
            "jieba==0.42.1\n",
            "Jinja2==2.11.3\n",
            "joblib==1.0.1\n",
            "jpeg4py==0.1.4\n",
            "jsonschema==2.6.0\n",
            "jupyter==1.0.0\n",
            "jupyter-client==5.3.5\n",
            "jupyter-console==5.2.0\n",
            "jupyter-core==4.7.1\n",
            "jupyterlab-pygments==0.1.2\n",
            "jupyterlab-widgets==1.0.0\n",
            "kaggle==1.5.12\n",
            "kapre==0.1.3.1\n",
            "Keras==2.4.3\n",
            "Keras-Preprocessing==1.1.2\n",
            "keras-vis==0.4.1\n",
            "kiwisolver==1.3.1\n",
            "knnimpute==0.1.0\n",
            "korean-lunar-calendar==0.2.1\n",
            "librosa==0.8.0\n",
            "lightgbm==2.2.3\n",
            "llvmlite==0.34.0\n",
            "lmdb==0.99\n",
            "LunarCalendar==0.0.9\n",
            "lxml==4.2.6\n",
            "Markdown==3.3.4\n",
            "MarkupSafe==1.1.1\n",
            "matplotlib==3.2.2\n",
            "matplotlib-inline==0.1.2\n",
            "matplotlib-venn==0.11.6\n",
            "missingno==0.4.2\n",
            "mistune==0.8.4\n",
            "mizani==0.6.0\n",
            "mkl==2019.0\n",
            "mlxtend==0.14.0\n",
            "more-itertools==8.7.0\n",
            "moviepy==0.2.3.5\n",
            "mpmath==1.2.1\n",
            "msgpack==1.0.2\n",
            "multiprocess==0.70.11.1\n",
            "multitasking==0.0.9\n",
            "murmurhash==1.0.5\n",
            "music21==5.5.0\n",
            "natsort==5.5.0\n",
            "nbclient==0.5.3\n",
            "nbconvert==5.6.1\n",
            "nbformat==5.1.3\n",
            "nest-asyncio==1.5.1\n",
            "netCDF4==1.5.6\n",
            "networkx==2.5.1\n",
            "nibabel==3.0.2\n",
            "nltk==3.2.5\n",
            "notebook==5.3.1\n",
            "np-utils==0.5.12.1\n",
            "numba==0.51.2\n",
            "numexpr==2.7.3\n",
            "numpy==1.18.5\n",
            "nvidia-ml-py3==7.352.0\n",
            "oauth2client==4.1.3\n",
            "oauthlib==3.1.0\n",
            "okgrade==0.4.3\n",
            "opencv-contrib-python==4.1.2.30\n",
            "opencv-python==4.1.2.30\n",
            "openpyxl==2.5.9\n",
            "opt-einsum==3.3.0\n",
            "osqp==0.6.2.post0\n",
            "packaging==20.9\n",
            "palettable==3.3.0\n",
            "pandas==1.1.5\n",
            "pandas-datareader==0.9.0\n",
            "pandas-gbq==0.13.3\n",
            "pandas-profiling==1.4.1\n",
            "pandocfilters==1.4.3\n",
            "panel==0.11.3\n",
            "param==1.10.1\n",
            "parso==0.8.2\n",
            "pathlib==1.0.1\n",
            "patsy==0.5.1\n",
            "pexpect==4.8.0\n",
            "pickleshare==0.7.5\n",
            "Pillow==7.1.2\n",
            "pip-tools==4.5.1\n",
            "plac==1.1.3\n",
            "plotly==4.4.1\n",
            "plotnine==0.6.0\n",
            "pluggy==0.7.1\n",
            "pooch==1.3.0\n",
            "portpicker==1.3.1\n",
            "prefetch-generator==1.0.1\n",
            "preshed==3.0.5\n",
            "prettytable==2.1.0\n",
            "progressbar2==3.38.0\n",
            "prometheus-client==0.10.1\n",
            "promise==2.3\n",
            "prompt-toolkit==1.0.18\n",
            "protobuf==3.12.4\n",
            "psutil==5.4.8\n",
            "psycopg2==2.7.6.1\n",
            "ptyprocess==0.7.0\n",
            "py==1.10.0\n",
            "pyarrow==3.0.0\n",
            "pyasn1==0.4.8\n",
            "pyasn1-modules==0.2.8\n",
            "pycocotools==2.0.2\n",
            "pycparser==2.20\n",
            "pyct==0.4.8\n",
            "pydata-google-auth==1.2.0\n",
            "pydot==1.3.0\n",
            "pydot-ng==2.0.0\n",
            "pydotplus==2.0.2\n",
            "PyDrive==1.3.1\n",
            "pyemd==0.5.1\n",
            "pyerfa==1.7.3\n",
            "pyglet==1.5.0\n",
            "Pygments==2.6.1\n",
            "pygobject==3.26.1\n",
            "pymc3==3.11.2\n",
            "PyMeeus==0.5.11\n",
            "pymongo==3.11.4\n",
            "pymystem3==0.2.0\n",
            "PyOpenGL==3.1.5\n",
            "pyparsing==2.4.7\n",
            "pyrsistent==0.17.3\n",
            "pysndfile==1.3.8\n",
            "PySocks==1.7.1\n",
            "pystan==2.19.1.1\n",
            "pytest==3.6.4\n",
            "python-apt==0.0.0\n",
            "python-chess==0.23.11\n",
            "python-dateutil==2.8.1\n",
            "python-louvain==0.15\n",
            "python-slugify==5.0.2\n",
            "python-utils==2.5.6\n",
            "pytz==2018.9\n",
            "pyviz-comms==2.0.1\n",
            "PyWavelets==1.1.1\n",
            "PyYAML==3.13\n",
            "pyzmq==22.0.3\n",
            "qdldl==0.1.5.post0\n",
            "qtconsole==5.1.0\n",
            "QtPy==1.9.0\n",
            "regex==2019.12.20\n",
            "requests==2.23.0\n",
            "requests-oauthlib==1.3.0\n",
            "resampy==0.2.2\n",
            "retrying==1.3.3\n",
            "rpy2==3.4.4\n",
            "rsa==4.7.2\n",
            "sacremoses==0.0.45\n",
            "scikit-image==0.16.2\n",
            "scikit-learn==0.22.2.post1\n",
            "scipy==1.4.1\n",
            "screen-resolution-extra==0.0.0\n",
            "scs==2.1.3\n",
            "seaborn==0.11.1\n",
            "semver==2.13.0\n",
            "Send2Trash==1.5.0\n",
            "setuptools-git==1.2\n",
            "Shapely==1.7.1\n",
            "simplegeneric==0.8.1\n",
            "six==1.15.0\n",
            "sklearn==0.0\n",
            "sklearn-pandas==1.8.0\n",
            "smart-open==5.0.0\n",
            "snowballstemmer==2.1.0\n",
            "sortedcontainers==2.3.0\n",
            "SoundFile==0.10.3.post1\n",
            "spacy==2.2.4\n",
            "Sphinx==1.8.5\n",
            "sphinxcontrib-serializinghtml==1.1.4\n",
            "sphinxcontrib-websupport==1.2.4\n",
            "SQLAlchemy==1.4.14\n",
            "sqlparse==0.4.1\n",
            "srsly==1.0.5\n",
            "statsmodels==0.10.2\n",
            "sympy==1.7.1\n",
            "tables==3.4.4\n",
            "tabulate==0.8.9\n",
            "tblib==1.7.0\n",
            "tensorboard==2.4.1\n",
            "tensorboard-plugin-wit==1.8.0\n",
            "tensorflow==2.4.1\n",
            "tensorflow-datasets==4.0.1\n",
            "tensorflow-estimator==2.3.0\n",
            "tensorflow-gcs-config==2.4.0\n",
            "tensorflow-gpu==2.3.0\n",
            "tensorflow-hub==0.12.0\n",
            "tensorflow-metadata==0.30.0\n",
            "tensorflow-probability==0.12.1\n",
            "termcolor==1.1.0\n",
            "terminado==0.9.4\n",
            "testpath==0.4.4\n",
            "text-unidecode==1.3\n",
            "textblob==0.15.3\n",
            "textgenrnn==1.4.1\n",
            "Theano-PyMC==1.1.2\n",
            "thinc==7.4.0\n",
            "tifffile==2021.4.8\n",
            "tokenizers==0.9.4\n",
            "toml==0.10.2\n",
            "toolz==0.11.1\n",
            "torch==1.8.1+cu101\n",
            "torchsummary==1.5.1\n",
            "torchtext==0.9.1\n",
            "torchvision==0.9.1+cu101\n",
            "tornado==5.1.1\n",
            "tqdm==4.41.1\n",
            "traitlets==5.0.5\n",
            "transformers==4.2.1\n",
            "tweepy==3.10.0\n",
            "typeguard==2.7.1\n",
            "typing-extensions==3.7.4.3\n",
            "tzlocal==1.5.1\n",
            "uritemplate==3.0.1\n",
            "urllib3==1.24.3\n",
            "vega-datasets==0.9.0\n",
            "wasabi==0.8.2\n",
            "wcwidth==0.2.5\n",
            "webencodings==0.5.1\n",
            "Werkzeug==1.0.1\n",
            "widgetsnbextension==3.5.1\n",
            "wordcloud==1.5.0\n",
            "wrapt==1.12.1\n",
            "xarray==0.18.0\n",
            "xgboost==0.90\n",
            "xkit==0.0.0\n",
            "xlrd==1.1.0\n",
            "xlwt==1.3.0\n",
            "yellowbrick==0.9.1\n",
            "zict==2.0.0\n",
            "zipp==3.4.1\n"
          ],
          "name": "stdout"
        }
      ]
    },
    {
      "cell_type": "code",
      "metadata": {
        "id": "GKT4OMu1GTXu",
        "colab": {
          "base_uri": "https://localhost:8080/"
        },
        "outputId": "cd390f46-bd46-40f5-b473-89af1265c1d6"
      },
      "source": [
        "# Esta es la tarjeta grafica\n",
        "!nvidia-smi"
      ],
      "id": "GKT4OMu1GTXu",
      "execution_count": 184,
      "outputs": [
        {
          "output_type": "stream",
          "text": [
            "Thu May 13 15:36:54 2021       \n",
            "+-----------------------------------------------------------------------------+\n",
            "| NVIDIA-SMI 465.19.01    Driver Version: 460.32.03    CUDA Version: 11.2     |\n",
            "|-------------------------------+----------------------+----------------------+\n",
            "| GPU  Name        Persistence-M| Bus-Id        Disp.A | Volatile Uncorr. ECC |\n",
            "| Fan  Temp  Perf  Pwr:Usage/Cap|         Memory-Usage | GPU-Util  Compute M. |\n",
            "|                               |                      |               MIG M. |\n",
            "|===============================+======================+======================|\n",
            "|   0  Tesla K80           Off  | 00000000:00:04.0 Off |                    0 |\n",
            "| N/A   52C    P0    60W / 149W |   2212MiB / 11441MiB |      0%      Default |\n",
            "|                               |                      |                  N/A |\n",
            "+-------------------------------+----------------------+----------------------+\n",
            "                                                                               \n",
            "+-----------------------------------------------------------------------------+\n",
            "| Processes:                                                                  |\n",
            "|  GPU   GI   CI        PID   Type   Process name                  GPU Memory |\n",
            "|        ID   ID                                                   Usage      |\n",
            "|=============================================================================|\n",
            "+-----------------------------------------------------------------------------+\n"
          ],
          "name": "stdout"
        }
      ]
    },
    {
      "cell_type": "code",
      "metadata": {
        "id": "9E5eE7XLbUfs"
      },
      "source": [
        "# instalar librerías. Esta casilla es últil por ejemplo si se ejecuta el cuaderno en Google Colab\n",
        "# Note que existen otras dependencias como tensorflow, etc. que en este caso se encontrarían ya instaladas\n",
        "\n",
        "%%capture\n",
        "# Libreríía transformers\n",
        "try:\n",
        "    import tranformers\n",
        "    print(\"module 'tranformers' is installed\")\n",
        "except ModuleNotFoundError:\n",
        "    print(\"module 'transformers' is being installed\")\n",
        "    !pip install transformers==4.2.1\n",
        "# Por si se quiere usar la gpu verificamos si tenemos transformers-gpu\n",
        "import sys\n",
        "if \"tensorflow-gpu\" in sys.modules:\n",
        "    print(\"tensorflow-gpu already in sys.modules\")\n",
        "else: \n",
        "  !pip install tensorflow-gpu==2.3.0"
      ],
      "id": "9E5eE7XLbUfs",
      "execution_count": 185,
      "outputs": []
    },
    {
      "cell_type": "code",
      "metadata": {
        "id": "fa734488-7dd1-4bf3-a10d-6d571b5d75e0"
      },
      "source": [
        "import pandas as pd\n",
        "import tensorflow as tf\n",
        "from transformers import DistilBertConfig, TFDistilBertForSequenceClassification, DistilBertTokenizer\n",
        "from sklearn import preprocessing\n",
        "from sklearn.metrics import f1_score\n",
        "# Para trabajar teniendo encuenta el desbalanceo\n",
        "from sklearn.utils import class_weight\n",
        "import os\n",
        "import tqdm\n",
        "import numpy as np\n",
        "from tensorflow.keras import backend as K\n",
        "from sklearn.model_selection import train_test_split"
      ],
      "id": "fa734488-7dd1-4bf3-a10d-6d571b5d75e0",
      "execution_count": 186,
      "outputs": []
    },
    {
      "cell_type": "code",
      "metadata": {
        "colab": {
          "base_uri": "https://localhost:8080/",
          "height": 206
        },
        "id": "38efad68-c786-42d3-b1b2-1a3e43717bcb",
        "outputId": "77adce0b-066f-48c3-dd17-1de65d7df015"
      },
      "source": [
        "train_dataframe = pd.read_csv(\"https://raw.githubusercontent.com/jibt1/competition_group/main/Tareas/datasets/haha_2021_train.csv\", sep=',')\n",
        "train_dataframe.head()"
      ],
      "id": "38efad68-c786-42d3-b1b2-1a3e43717bcb",
      "execution_count": 187,
      "outputs": [
        {
          "output_type": "execute_result",
          "data": {
            "text/html": [
              "<div>\n",
              "<style scoped>\n",
              "    .dataframe tbody tr th:only-of-type {\n",
              "        vertical-align: middle;\n",
              "    }\n",
              "\n",
              "    .dataframe tbody tr th {\n",
              "        vertical-align: top;\n",
              "    }\n",
              "\n",
              "    .dataframe thead th {\n",
              "        text-align: right;\n",
              "    }\n",
              "</style>\n",
              "<table border=\"1\" class=\"dataframe\">\n",
              "  <thead>\n",
              "    <tr style=\"text-align: right;\">\n",
              "      <th></th>\n",
              "      <th>id</th>\n",
              "      <th>text</th>\n",
              "      <th>is_humor</th>\n",
              "      <th>votes_no</th>\n",
              "      <th>votes_1</th>\n",
              "      <th>votes_2</th>\n",
              "      <th>votes_3</th>\n",
              "      <th>votes_4</th>\n",
              "      <th>votes_5</th>\n",
              "      <th>humor_rating</th>\n",
              "      <th>humor_mechanism</th>\n",
              "      <th>humor_target</th>\n",
              "    </tr>\n",
              "  </thead>\n",
              "  <tbody>\n",
              "    <tr>\n",
              "      <th>0</th>\n",
              "      <td>tweet1</td>\n",
              "      <td>Niveles de retraso mental: \\n\\n— Bajo.\\n— Medi...</td>\n",
              "      <td>1</td>\n",
              "      <td>1</td>\n",
              "      <td>2</td>\n",
              "      <td>2</td>\n",
              "      <td>0</td>\n",
              "      <td>0</td>\n",
              "      <td>0</td>\n",
              "      <td>1.5</td>\n",
              "      <td>NaN</td>\n",
              "      <td>NaN</td>\n",
              "    </tr>\n",
              "    <tr>\n",
              "      <th>1</th>\n",
              "      <td>tweet2</td>\n",
              "      <td>—Vamos Luke desenfunda tu sable, demuestra tu ...</td>\n",
              "      <td>1</td>\n",
              "      <td>1</td>\n",
              "      <td>3</td>\n",
              "      <td>0</td>\n",
              "      <td>1</td>\n",
              "      <td>0</td>\n",
              "      <td>0</td>\n",
              "      <td>1.5</td>\n",
              "      <td>NaN</td>\n",
              "      <td>NaN</td>\n",
              "    </tr>\n",
              "    <tr>\n",
              "      <th>2</th>\n",
              "      <td>tweet3</td>\n",
              "      <td>- ¿Te ofrezco algo?, ¿Agua, café, mi corazón, ...</td>\n",
              "      <td>1</td>\n",
              "      <td>0</td>\n",
              "      <td>2</td>\n",
              "      <td>1</td>\n",
              "      <td>0</td>\n",
              "      <td>1</td>\n",
              "      <td>1</td>\n",
              "      <td>2.6</td>\n",
              "      <td>NaN</td>\n",
              "      <td>NaN</td>\n",
              "    </tr>\n",
              "    <tr>\n",
              "      <th>3</th>\n",
              "      <td>tweet4</td>\n",
              "      <td>No se porqué me hago la cabeza deooos</td>\n",
              "      <td>0</td>\n",
              "      <td>3</td>\n",
              "      <td>0</td>\n",
              "      <td>0</td>\n",
              "      <td>0</td>\n",
              "      <td>0</td>\n",
              "      <td>0</td>\n",
              "      <td>NaN</td>\n",
              "      <td>NaN</td>\n",
              "      <td>NaN</td>\n",
              "    </tr>\n",
              "    <tr>\n",
              "      <th>4</th>\n",
              "      <td>tweet5</td>\n",
              "      <td>Quisiera saber que hago durante la siesta de l...</td>\n",
              "      <td>0</td>\n",
              "      <td>4</td>\n",
              "      <td>0</td>\n",
              "      <td>1</td>\n",
              "      <td>0</td>\n",
              "      <td>0</td>\n",
              "      <td>0</td>\n",
              "      <td>NaN</td>\n",
              "      <td>NaN</td>\n",
              "      <td>NaN</td>\n",
              "    </tr>\n",
              "  </tbody>\n",
              "</table>\n",
              "</div>"
            ],
            "text/plain": [
              "       id  ... humor_target\n",
              "0  tweet1  ...          NaN\n",
              "1  tweet2  ...          NaN\n",
              "2  tweet3  ...          NaN\n",
              "3  tweet4  ...          NaN\n",
              "4  tweet5  ...          NaN\n",
              "\n",
              "[5 rows x 12 columns]"
            ]
          },
          "metadata": {
            "tags": []
          },
          "execution_count": 187
        }
      ]
    },
    {
      "cell_type": "code",
      "metadata": {
        "colab": {
          "base_uri": "https://localhost:8080/"
        },
        "id": "t9jeO0qEBxMS",
        "outputId": "0db283c7-487f-47ea-d572-c20a8ccf2445"
      },
      "source": [
        "english_tweets = pd.read_csv(\"https://raw.githubusercontent.com/jibt1/competition_group/main/dataset_translated.csv\", sep=',')\n",
        "english_tweets = english_tweets[~english_tweets['texto'].isnull()]\n",
        "english_tweets['humor'] = english_tweets['humor'].astype(int)\n",
        "english_tweets.rename(columns={\"humor\": \"is_humor\"}, inplace=True)\n",
        "english_tweets  = english_tweets[['texto', 'is_humor']]\n",
        "english_tweets.rename(columns={\"texto\": \"text\"}, inplace=True)\n",
        "english_tweets\n",
        "# Clases ligeramente desbalanceadas\n",
        "english_tweets.is_humor.value_counts()\n",
        "english_tweets = english_tweets[1:25000]\n",
        "english_tweets.is_humor.value_counts()"
      ],
      "id": "t9jeO0qEBxMS",
      "execution_count": 188,
      "outputs": [
        {
          "output_type": "execute_result",
          "data": {
            "text/plain": [
              "1    12545\n",
              "0    12454\n",
              "Name: is_humor, dtype: int64"
            ]
          },
          "metadata": {
            "tags": []
          },
          "execution_count": 188
        }
      ]
    },
    {
      "cell_type": "code",
      "metadata": {
        "id": "2a1a262d-af41-4b0a-a58e-404511e53795"
      },
      "source": [
        "cfg = {}\n",
        "cfg[\"framework\"] = \"tf\"\n",
        "cfg[\"max_length\"] = 256 # 380 caracteros maximo por tweet (Mirar maximo de longitud)\n",
        "cfg[\"transformer_model_name\"] = \"dccuchile/bert-base-spanish-wwm-cased\" # Este es el modelo Bert para Spanish, con mayusculas\n",
        "cfg[\"num_labels\"] = 1"
      ],
      "id": "2a1a262d-af41-4b0a-a58e-404511e53795",
      "execution_count": 189,
      "outputs": []
    },
    {
      "cell_type": "code",
      "metadata": {
        "colab": {
          "base_uri": "https://localhost:8080/"
        },
        "id": "bb353e76-024b-420e-bc93-4db2832b1478",
        "outputId": "0ef4dd1a-dec4-4e78-b0e8-05b47a7d384f"
      },
      "source": [
        "# dim dimension del pooling layer de los outputs del encoder en la salida de la ultima capa\n",
        "# https://huggingface.co/transformers/model_doc/distilbert.html\n",
        "# https://huggingface.co/dccuchile/bert-base-spanish-wwm-uncased\n",
        "# dropout es el dropout de las denses de las capas de encoders\n",
        "# seq_classif_dropout es el dropout de la ultima densa ajena a Bert\n",
        "# Reducimos la complejidad del problema, solo tenemos 25000 tweets\n",
        "\n",
        "config_bert = DistilBertConfig(num_labels = cfg[\"num_labels\"], attention_dropout=0.75,\n",
        "                               seq_classif_dropout=0.75, dropout=0.4,\n",
        "                               n_heads=4, dim=16, max_position_embeddings=cfg[\"max_length\"],\n",
        "                               n_layers=2, hidden_dim=32, vocab_size=30522)\n",
        "model = TFDistilBertForSequenceClassification.from_pretrained(cfg[\"transformer_model_name\"], config=config_bert)"
      ],
      "id": "bb353e76-024b-420e-bc93-4db2832b1478",
      "execution_count": 225,
      "outputs": [
        {
          "output_type": "stream",
          "text": [
            "Some layers from the model checkpoint at dccuchile/bert-base-spanish-wwm-cased were not used when initializing TFDistilBertForSequenceClassification: ['mlm___cls', 'bert']\n",
            "- This IS expected if you are initializing TFDistilBertForSequenceClassification from the checkpoint of a model trained on another task or with another architecture (e.g. initializing a BertForSequenceClassification model from a BertForPreTraining model).\n",
            "- This IS NOT expected if you are initializing TFDistilBertForSequenceClassification from the checkpoint of a model that you expect to be exactly identical (initializing a BertForSequenceClassification model from a BertForSequenceClassification model).\n",
            "Some layers of TFDistilBertForSequenceClassification were not initialized from the model checkpoint at dccuchile/bert-base-spanish-wwm-cased and are newly initialized: ['dropout_137', 'pre_classifier', 'classifier', 'distilbert']\n",
            "You should probably TRAIN this model on a down-stream task to be able to use it for predictions and inference.\n"
          ],
          "name": "stderr"
        }
      ]
    },
    {
      "cell_type": "code",
      "metadata": {
        "id": "6bce9e6a-cb3f-41fe-92f1-c8bc4b3e6c8f"
      },
      "source": [
        "# Tripadvisor, aplicamos regresion sin reducir de 5 puntos a 0 1 2\n",
        "# Cambiar las metricas, MSE\n",
        "\n",
        "def recall_m(y_true, y_pred):\n",
        "    true_positives = K.sum(K.round(K.clip(y_true * y_pred, 0, 1)))\n",
        "    possible_positives = K.sum(K.round(K.clip(y_true, 0, 1)))\n",
        "    recall = true_positives / (possible_positives + K.epsilon())\n",
        "    return recall\n",
        "\n",
        "def precision_m(y_true, y_pred):\n",
        "    true_positives = K.sum(K.round(K.clip(y_true * y_pred, 0, 1)))\n",
        "    predicted_positives = K.sum(K.round(K.clip(y_pred, 0, 1)))\n",
        "    precision = true_positives / (predicted_positives + K.epsilon())\n",
        "    return precision\n",
        "\n",
        "def f1Score(y_true, y_pred):\n",
        "    precision = precision_m(y_true, y_pred)\n",
        "    recall = recall_m(y_true, y_pred)\n",
        "    return 2*((precision*recall)/(precision+recall+K.epsilon()))"
      ],
      "id": "6bce9e6a-cb3f-41fe-92f1-c8bc4b3e6c8f",
      "execution_count": 226,
      "outputs": []
    },
    {
      "cell_type": "code",
      "metadata": {
        "colab": {
          "base_uri": "https://localhost:8080/"
        },
        "id": "8fdeb09c-dbec-45f8-b77f-11a6b4fae2e1",
        "outputId": "e14d2cdf-0a3d-4695-cddb-77c948d7951a"
      },
      "source": [
        "optimizer = tf.keras.optimizers.Adam(learning_rate=5e-5)\n",
        "loss = tf.keras.losses.BinaryCrossentropy(from_logits = True)\n",
        "model.compile(optimizer=optimizer, loss=loss, metrics = [f1Score, 'accuracy'])\n",
        "model.summary()"
      ],
      "id": "8fdeb09c-dbec-45f8-b77f-11a6b4fae2e1",
      "execution_count": 227,
      "outputs": [
        {
          "output_type": "stream",
          "text": [
            "Model: \"tf_distil_bert_for_sequence_classification_11\"\n",
            "_________________________________________________________________\n",
            "Layer (type)                 Output Shape              Param #   \n",
            "=================================================================\n",
            "distilbert (TFDistilBertMain multiple                  496928    \n",
            "_________________________________________________________________\n",
            "pre_classifier (Dense)       multiple                  272       \n",
            "_________________________________________________________________\n",
            "classifier (Dense)           multiple                  17        \n",
            "_________________________________________________________________\n",
            "dropout_137 (Dropout)        multiple                  0         \n",
            "=================================================================\n",
            "Total params: 497,217\n",
            "Trainable params: 497,217\n",
            "Non-trainable params: 0\n",
            "_________________________________________________________________\n"
          ],
          "name": "stdout"
        }
      ]
    },
    {
      "cell_type": "code",
      "metadata": {
        "id": "be5082b3-07a6-436f-b439-d0ad3f3750dc"
      },
      "source": [
        "# Cargamos el tokenizador correspondiente ¿Lematiza?\n",
        "cfg['tokenizer'] = DistilBertTokenizer.from_pretrained(cfg['transformer_model_name'] )\n",
        "# Proceso de scikit learn para hacer OHE a 0 1 de la salida\n",
        "cfg['label_binarizer'] = preprocessing.LabelBinarizer()"
      ],
      "id": "be5082b3-07a6-436f-b439-d0ad3f3750dc",
      "execution_count": 228,
      "outputs": []
    },
    {
      "cell_type": "code",
      "metadata": {
        "id": "bc6f7705-2002-4901-9537-71fe387e0a72"
      },
      "source": [
        "def get_model_inputs(cfg, data):\n",
        "    encodings = cfg['tokenizer'](data, truncation=True, padding='max_length', max_length=cfg['max_length'], return_tensors=cfg['framework'])\n",
        "    inputs = {'input_ids': encodings['input_ids'],\n",
        "            'attention_mask': encodings['attention_mask']\n",
        "            }\n",
        "    return inputs"
      ],
      "id": "bc6f7705-2002-4901-9537-71fe387e0a72",
      "execution_count": 229,
      "outputs": []
    },
    {
      "cell_type": "code",
      "metadata": {
        "id": "202039e9-4ce6-44f5-bc7b-e5ea691dc7ad"
      },
      "source": [
        "# Constriumos la matriz de diseño con sus correspondientes Masks\n",
        "x_train = train_dataframe['text']\n",
        "y_train = train_dataframe['is_humor']"
      ],
      "id": "202039e9-4ce6-44f5-bc7b-e5ea691dc7ad",
      "execution_count": 230,
      "outputs": []
    },
    {
      "cell_type": "code",
      "metadata": {
        "id": "viWSpo5pMOgk"
      },
      "source": [
        "train_spanish = train_dataframe[['text','is_humor']]\n",
        "train, val = train_test_split(train_spanish, test_size=.15)"
      ],
      "id": "viWSpo5pMOgk",
      "execution_count": 231,
      "outputs": []
    },
    {
      "cell_type": "code",
      "metadata": {
        "colab": {
          "base_uri": "https://localhost:8080/",
          "height": 424
        },
        "id": "l8Y5ZJAvLb9N",
        "outputId": "a3cfac33-5e22-4f38-bfc0-f3912266bab3"
      },
      "source": [
        "train = pd.concat([train, english_tweets]).reset_index(drop=True)\n",
        "train"
      ],
      "id": "l8Y5ZJAvLb9N",
      "execution_count": 232,
      "outputs": [
        {
          "output_type": "execute_result",
          "data": {
            "text/html": [
              "<div>\n",
              "<style scoped>\n",
              "    .dataframe tbody tr th:only-of-type {\n",
              "        vertical-align: middle;\n",
              "    }\n",
              "\n",
              "    .dataframe tbody tr th {\n",
              "        vertical-align: top;\n",
              "    }\n",
              "\n",
              "    .dataframe thead th {\n",
              "        text-align: right;\n",
              "    }\n",
              "</style>\n",
              "<table border=\"1\" class=\"dataframe\">\n",
              "  <thead>\n",
              "    <tr style=\"text-align: right;\">\n",
              "      <th></th>\n",
              "      <th>text</th>\n",
              "      <th>is_humor</th>\n",
              "    </tr>\n",
              "  </thead>\n",
              "  <tbody>\n",
              "    <tr>\n",
              "      <th>0</th>\n",
              "      <td>Tapa más la niña sin brazos que el arquero del...</td>\n",
              "      <td>1</td>\n",
              "    </tr>\n",
              "    <tr>\n",
              "      <th>1</th>\n",
              "      <td>Prego</td>\n",
              "      <td>0</td>\n",
              "    </tr>\n",
              "    <tr>\n",
              "      <th>2</th>\n",
              "      <td>Estoy enamorada de mi campera</td>\n",
              "      <td>0</td>\n",
              "    </tr>\n",
              "    <tr>\n",
              "      <th>3</th>\n",
              "      <td>Las amistades son como las bubis: a veces se c...</td>\n",
              "      <td>1</td>\n",
              "    </tr>\n",
              "    <tr>\n",
              "      <th>4</th>\n",
              "      <td>Corazón que miente</td>\n",
              "      <td>0</td>\n",
              "    </tr>\n",
              "    <tr>\n",
              "      <th>...</th>\n",
              "      <td>...</td>\n",
              "      <td>...</td>\n",
              "    </tr>\n",
              "    <tr>\n",
              "      <th>45394</th>\n",
              "      <td>Las monjas súper tazón de observación están de...</td>\n",
              "      <td>0</td>\n",
              "    </tr>\n",
              "    <tr>\n",
              "      <th>45395</th>\n",
              "      <td>Mi gran boda gitana ': exhibiciones de novias ...</td>\n",
              "      <td>0</td>\n",
              "    </tr>\n",
              "    <tr>\n",
              "      <th>45396</th>\n",
              "      <td>¿Cuál es la diferencia entre 3 pollas y una br...</td>\n",
              "      <td>1</td>\n",
              "    </tr>\n",
              "    <tr>\n",
              "      <th>45397</th>\n",
              "      <td>Incluso las celebridades perdieron su fría sob...</td>\n",
              "      <td>0</td>\n",
              "    </tr>\n",
              "    <tr>\n",
              "      <th>45398</th>\n",
              "      <td>¿Por qué son los cigarrillos que se venden en ...</td>\n",
              "      <td>1</td>\n",
              "    </tr>\n",
              "  </tbody>\n",
              "</table>\n",
              "<p>45399 rows × 2 columns</p>\n",
              "</div>"
            ],
            "text/plain": [
              "                                                    text  is_humor\n",
              "0      Tapa más la niña sin brazos que el arquero del...         1\n",
              "1                                                  Prego         0\n",
              "2                          Estoy enamorada de mi campera         0\n",
              "3      Las amistades son como las bubis: a veces se c...         1\n",
              "4                                     Corazón que miente         0\n",
              "...                                                  ...       ...\n",
              "45394  Las monjas súper tazón de observación están de...         0\n",
              "45395  Mi gran boda gitana ': exhibiciones de novias ...         0\n",
              "45396  ¿Cuál es la diferencia entre 3 pollas y una br...         1\n",
              "45397  Incluso las celebridades perdieron su fría sob...         0\n",
              "45398  ¿Por qué son los cigarrillos que se venden en ...         1\n",
              "\n",
              "[45399 rows x 2 columns]"
            ]
          },
          "metadata": {
            "tags": []
          },
          "execution_count": 232
        }
      ]
    },
    {
      "cell_type": "code",
      "metadata": {
        "id": "i7hscjN2B00J"
      },
      "source": [
        "train_inputs = get_model_inputs(cfg, train[\"text\"].to_list())"
      ],
      "id": "i7hscjN2B00J",
      "execution_count": 233,
      "outputs": []
    },
    {
      "cell_type": "code",
      "metadata": {
        "colab": {
          "base_uri": "https://localhost:8080/"
        },
        "id": "Ir8IHtwhNio6",
        "outputId": "05d63ff0-0d21-4da0-8b00-f27b7709583c"
      },
      "source": [
        "val_inputs =  get_model_inputs(cfg, val[\"text\"].to_list())\n",
        "val_inputs"
      ],
      "id": "Ir8IHtwhNio6",
      "execution_count": 234,
      "outputs": [
        {
          "output_type": "execute_result",
          "data": {
            "text/plain": [
              "{'attention_mask': <tf.Tensor: shape=(3600, 256), dtype=int32, numpy=\n",
              " array([[1, 1, 1, ..., 0, 0, 0],\n",
              "        [1, 1, 1, ..., 0, 0, 0],\n",
              "        [1, 1, 1, ..., 0, 0, 0],\n",
              "        ...,\n",
              "        [1, 1, 1, ..., 0, 0, 0],\n",
              "        [1, 1, 1, ..., 0, 0, 0],\n",
              "        [1, 1, 1, ..., 0, 0, 0]], dtype=int32)>,\n",
              " 'input_ids': <tf.Tensor: shape=(3600, 256), dtype=int32, numpy=\n",
              " array([[    4,  1198,  3257, ...,     1,     1,     1],\n",
              "        [    4,  1110,  1486, ...,     1,     1,     1],\n",
              "        [    4,  1872, 26887, ...,     1,     1,     1],\n",
              "        ...,\n",
              "        [    4, 12816,  1957, ...,     1,     1,     1],\n",
              "        [    4,  1412, 21144, ...,     1,     1,     1],\n",
              "        [    4,   968,  1248, ...,     1,     1,     1]], dtype=int32)>}"
            ]
          },
          "metadata": {
            "tags": []
          },
          "execution_count": 234
        }
      ]
    },
    {
      "cell_type": "code",
      "metadata": {
        "colab": {
          "base_uri": "https://localhost:8080/"
        },
        "id": "VzjhgNsPNol8",
        "outputId": "d79aaa56-ffe5-4f4d-e3f5-8b6b719b1232"
      },
      "source": [
        "# Empleamos el labelizador\n",
        "# Trabajo ahora la target\n",
        "cfg['label_binarizer'].fit(train[\"is_humor\"])\n",
        "train_blabels = cfg['label_binarizer'].transform(train[\"is_humor\"])\n",
        "val_blabels = cfg['label_binarizer'].transform(val[\"is_humor\"])\n",
        "# Pasamos a tensor\n",
        "train_blabels_t = tf.convert_to_tensor(train_blabels, dtype='int32')\n",
        "val_blabels_t = tf.convert_to_tensor(val_blabels, dtype='int32')\n",
        "val_blabels_t"
      ],
      "id": "VzjhgNsPNol8",
      "execution_count": 235,
      "outputs": [
        {
          "output_type": "execute_result",
          "data": {
            "text/plain": [
              "<tf.Tensor: shape=(3600, 1), dtype=int32, numpy=\n",
              "array([[1],\n",
              "       [0],\n",
              "       [0],\n",
              "       ...,\n",
              "       [0],\n",
              "       [1],\n",
              "       [0]], dtype=int32)>"
            ]
          },
          "metadata": {
            "tags": []
          },
          "execution_count": 235
        }
      ]
    },
    {
      "cell_type": "code",
      "metadata": {
        "colab": {
          "base_uri": "https://localhost:8080/",
          "height": 35
        },
        "id": "ZiLusmOUCYlJ",
        "outputId": "d911c00e-7e3c-4810-9cd3-a18b9d4db7ce"
      },
      "source": [
        "cfg['tokenizer'].decode([4, 1, 5])"
      ],
      "id": "ZiLusmOUCYlJ",
      "execution_count": 236,
      "outputs": [
        {
          "output_type": "execute_result",
          "data": {
            "application/vnd.google.colaboratory.intrinsic+json": {
              "type": "string"
            },
            "text/plain": [
              "'[CLS] [PAD] [SEP]'"
            ]
          },
          "metadata": {
            "tags": []
          },
          "execution_count": 236
        }
      ]
    },
    {
      "cell_type": "code",
      "metadata": {
        "id": "b9ec284c-fc4e-4629-9e7e-8aa68adcfdbc"
      },
      "source": [
        "cfg['checkpoints_dir'] = 'checkpoints'\n",
        "cfg['model_name'] = 'distilbert-humor'\n",
        "cfg['trained_model_name'] = os.path.join(cfg['checkpoints_dir'], cfg['model_name'])"
      ],
      "id": "b9ec284c-fc4e-4629-9e7e-8aa68adcfdbc",
      "execution_count": 237,
      "outputs": []
    },
    {
      "cell_type": "code",
      "metadata": {
        "id": "C69ozX5-MndC",
        "colab": {
          "base_uri": "https://localhost:8080/"
        },
        "outputId": "e5a76ff6-8a6f-4db2-e665-522bcae27962"
      },
      "source": [
        "tlabels = train_blabels.reshape(train_blabels.shape[0])\n",
        "tlabels"
      ],
      "id": "C69ozX5-MndC",
      "execution_count": 238,
      "outputs": [
        {
          "output_type": "execute_result",
          "data": {
            "text/plain": [
              "array([1, 0, 0, ..., 1, 0, 1])"
            ]
          },
          "metadata": {
            "tags": []
          },
          "execution_count": 238
        }
      ]
    },
    {
      "cell_type": "code",
      "metadata": {
        "colab": {
          "base_uri": "https://localhost:8080/"
        },
        "id": "qJteDxEgO5FC",
        "outputId": "8e099496-56cf-4770-f255-37571876b36b"
      },
      "source": [
        "val_inputs"
      ],
      "id": "qJteDxEgO5FC",
      "execution_count": 239,
      "outputs": [
        {
          "output_type": "execute_result",
          "data": {
            "text/plain": [
              "{'attention_mask': <tf.Tensor: shape=(3600, 256), dtype=int32, numpy=\n",
              " array([[1, 1, 1, ..., 0, 0, 0],\n",
              "        [1, 1, 1, ..., 0, 0, 0],\n",
              "        [1, 1, 1, ..., 0, 0, 0],\n",
              "        ...,\n",
              "        [1, 1, 1, ..., 0, 0, 0],\n",
              "        [1, 1, 1, ..., 0, 0, 0],\n",
              "        [1, 1, 1, ..., 0, 0, 0]], dtype=int32)>,\n",
              " 'input_ids': <tf.Tensor: shape=(3600, 256), dtype=int32, numpy=\n",
              " array([[    4,  1198,  3257, ...,     1,     1,     1],\n",
              "        [    4,  1110,  1486, ...,     1,     1,     1],\n",
              "        [    4,  1872, 26887, ...,     1,     1,     1],\n",
              "        ...,\n",
              "        [    4, 12816,  1957, ...,     1,     1,     1],\n",
              "        [    4,  1412, 21144, ...,     1,     1,     1],\n",
              "        [    4,   968,  1248, ...,     1,     1,     1]], dtype=int32)>}"
            ]
          },
          "metadata": {
            "tags": []
          },
          "execution_count": 239
        }
      ]
    },
    {
      "cell_type": "code",
      "metadata": {
        "id": "d4294efd-f1d1-4d95-ae3b-f533bd1c1850",
        "colab": {
          "base_uri": "https://localhost:8080/"
        },
        "outputId": "c3f22ecf-bebe-49a5-9c20-0eb90fe24802"
      },
      "source": [
        "epochs_max = 30\n",
        "epochs_to_save = 10\n",
        "batch_size = 80\n",
        "\n",
        "class_weights = class_weight.compute_class_weight('balanced', np.unique(tlabels), tlabels)\n",
        "class_weights = dict(enumerate(class_weights))\n",
        "\n",
        "for epoch in tqdm.tqdm(range(0, epochs_max, epochs_to_save)):\n",
        "    print(f'Training model, epochs {epoch+1} - {epoch+epochs_to_save}')\n",
        "    \n",
        "    # entrenar el modelo. Opcionalmente, se puede suministrar datos de validación => validation_data=(val_inputs,val_blabels_t )\n",
        "    model.fit(train_inputs, y=train_blabels_t, epochs=epochs_to_save, batch_size=batch_size, validation_data=(val_inputs, val_blabels_t), class_weight=class_weights)\n",
        "\n",
        "    model.save_pretrained(cfg['trained_model_name'] + f'-epochs-{epoch+1:03d}-{epoch+epochs_to_save:03d}')\n",
        "    cfg['tokenizer'].save_pretrained(cfg['trained_model_name'] + f'-epochs-{epoch+1:03d}-{epoch+epochs_to_save:03d}')"
      ],
      "id": "d4294efd-f1d1-4d95-ae3b-f533bd1c1850",
      "execution_count": 240,
      "outputs": [
        {
          "output_type": "stream",
          "text": [
            "\n",
            "\n",
            "\n",
            "\n",
            "\n",
            "\n",
            "  0%|          | 0/3 [00:00<?, ?it/s]\u001b[A\u001b[A\u001b[A\u001b[A\u001b[A\u001b[AThe parameters `output_attentions`, `output_hidden_states` and `use_cache` cannot be updated when calling a model.They have to be set to True/False in the config object (i.e.: `config=XConfig.from_pretrained('name', output_attentions=True)`).\n",
            "The parameter `return_dict` cannot be set in graph mode and will always be set to `True`.\n"
          ],
          "name": "stderr"
        },
        {
          "output_type": "stream",
          "text": [
            "Training model, epochs 1 - 10\n",
            "Epoch 1/10\n"
          ],
          "name": "stdout"
        },
        {
          "output_type": "stream",
          "text": [
            "The parameters `output_attentions`, `output_hidden_states` and `use_cache` cannot be updated when calling a model.They have to be set to True/False in the config object (i.e.: `config=XConfig.from_pretrained('name', output_attentions=True)`).\n",
            "The parameter `return_dict` cannot be set in graph mode and will always be set to `True`.\n"
          ],
          "name": "stderr"
        },
        {
          "output_type": "stream",
          "text": [
            "567/568 [============================>.] - ETA: 0s - loss: 0.6931 - f1Score: 0.0000e+00 - accuracy: 0.5512"
          ],
          "name": "stdout"
        },
        {
          "output_type": "stream",
          "text": [
            "The parameters `output_attentions`, `output_hidden_states` and `use_cache` cannot be updated when calling a model.They have to be set to True/False in the config object (i.e.: `config=XConfig.from_pretrained('name', output_attentions=True)`).\n",
            "The parameter `return_dict` cannot be set in graph mode and will always be set to `True`.\n"
          ],
          "name": "stderr"
        },
        {
          "output_type": "stream",
          "text": [
            "WARNING:tensorflow:Callbacks method `on_test_batch_end` is slow compared to the batch time (batch time: 0.0026s vs `on_test_batch_end` time: 0.0163s). Check your callbacks.\n",
            "568/568 [==============================] - 48s 85ms/step - loss: 0.6931 - f1Score: 0.0000e+00 - accuracy: 0.5512 - val_loss: 0.6937 - val_f1Score: 0.0000e+00 - val_accuracy: 0.6044\n",
            "Epoch 2/10\n",
            "568/568 [==============================] - 47s 83ms/step - loss: 0.6887 - f1Score: 0.0000e+00 - accuracy: 0.5512 - val_loss: 0.6707 - val_f1Score: 0.0000e+00 - val_accuracy: 0.6044\n",
            "Epoch 3/10\n",
            "568/568 [==============================] - 47s 83ms/step - loss: 0.5973 - f1Score: 0.3808 - accuracy: 0.6484 - val_loss: 0.5781 - val_f1Score: 0.6911 - val_accuracy: 0.7497\n",
            "Epoch 4/10\n",
            "568/568 [==============================] - 47s 83ms/step - loss: 0.5028 - f1Score: 0.7109 - accuracy: 0.7748 - val_loss: 0.5379 - val_f1Score: 0.7023 - val_accuracy: 0.7597\n",
            "Epoch 5/10\n",
            "568/568 [==============================] - 47s 83ms/step - loss: 0.4579 - f1Score: 0.7834 - accuracy: 0.8213 - val_loss: 0.5161 - val_f1Score: 0.7124 - val_accuracy: 0.7714\n",
            "Epoch 6/10\n",
            "568/568 [==============================] - 47s 83ms/step - loss: 0.4311 - f1Score: 0.8083 - accuracy: 0.8392 - val_loss: 0.5014 - val_f1Score: 0.7222 - val_accuracy: 0.7808\n",
            "Epoch 7/10\n",
            "568/568 [==============================] - 47s 83ms/step - loss: 0.4144 - f1Score: 0.8162 - accuracy: 0.8457 - val_loss: 0.4940 - val_f1Score: 0.7251 - val_accuracy: 0.7822\n",
            "Epoch 8/10\n",
            "568/568 [==============================] - 48s 84ms/step - loss: 0.4009 - f1Score: 0.8283 - accuracy: 0.8549 - val_loss: 0.4785 - val_f1Score: 0.7315 - val_accuracy: 0.7933\n",
            "Epoch 9/10\n",
            "568/568 [==============================] - 47s 83ms/step - loss: 0.3877 - f1Score: 0.8343 - accuracy: 0.8605 - val_loss: 0.4792 - val_f1Score: 0.7321 - val_accuracy: 0.7928\n",
            "Epoch 10/10\n",
            "568/568 [==============================] - 47s 83ms/step - loss: 0.3777 - f1Score: 0.8372 - accuracy: 0.8626 - val_loss: 0.4838 - val_f1Score: 0.7352 - val_accuracy: 0.7908\n"
          ],
          "name": "stdout"
        },
        {
          "output_type": "stream",
          "text": [
            "\n",
            "\n",
            "\n",
            "\n",
            "\n",
            "\n",
            " 33%|███▎      | 1/3 [07:59<15:58, 479.08s/it]\u001b[A\u001b[A\u001b[A\u001b[A\u001b[A\u001b[A"
          ],
          "name": "stderr"
        },
        {
          "output_type": "stream",
          "text": [
            "Training model, epochs 11 - 20\n",
            "Epoch 1/10\n",
            "567/568 [============================>.] - ETA: 0s - loss: 0.3681 - f1Score: 0.8439 - accuracy: 0.8681WARNING:tensorflow:Callbacks method `on_test_batch_end` is slow compared to the batch time (batch time: 0.0025s vs `on_test_batch_end` time: 0.0167s). Check your callbacks.\n",
            "568/568 [==============================] - 47s 83ms/step - loss: 0.3681 - f1Score: 0.8440 - accuracy: 0.8682 - val_loss: 0.4727 - val_f1Score: 0.7362 - val_accuracy: 0.7958\n",
            "Epoch 2/10\n",
            "568/568 [==============================] - 47s 83ms/step - loss: 0.3615 - f1Score: 0.8469 - accuracy: 0.8705 - val_loss: 0.4689 - val_f1Score: 0.7428 - val_accuracy: 0.8019\n",
            "Epoch 3/10\n",
            "568/568 [==============================] - 47s 83ms/step - loss: 0.3548 - f1Score: 0.8507 - accuracy: 0.8736 - val_loss: 0.4858 - val_f1Score: 0.7422 - val_accuracy: 0.7939\n",
            "Epoch 4/10\n",
            "568/568 [==============================] - 47s 83ms/step - loss: 0.3473 - f1Score: 0.8515 - accuracy: 0.8750 - val_loss: 0.4755 - val_f1Score: 0.7411 - val_accuracy: 0.7983\n",
            "Epoch 5/10\n",
            "568/568 [==============================] - 47s 83ms/step - loss: 0.3401 - f1Score: 0.8550 - accuracy: 0.8784 - val_loss: 0.4750 - val_f1Score: 0.7453 - val_accuracy: 0.8031\n",
            "Epoch 6/10\n",
            "568/568 [==============================] - 47s 83ms/step - loss: 0.3322 - f1Score: 0.8582 - accuracy: 0.8810 - val_loss: 0.4863 - val_f1Score: 0.7471 - val_accuracy: 0.7997\n",
            "Epoch 7/10\n",
            "568/568 [==============================] - 47s 83ms/step - loss: 0.3253 - f1Score: 0.8606 - accuracy: 0.8831 - val_loss: 0.4781 - val_f1Score: 0.7449 - val_accuracy: 0.8022\n",
            "Epoch 8/10\n",
            "568/568 [==============================] - 47s 83ms/step - loss: 0.3187 - f1Score: 0.8633 - accuracy: 0.8857 - val_loss: 0.4867 - val_f1Score: 0.7437 - val_accuracy: 0.8022\n",
            "Epoch 9/10\n",
            "568/568 [==============================] - 47s 84ms/step - loss: 0.3157 - f1Score: 0.8634 - accuracy: 0.8856 - val_loss: 0.4758 - val_f1Score: 0.7312 - val_accuracy: 0.8008\n",
            "Epoch 10/10\n",
            "568/568 [==============================] - 47s 83ms/step - loss: 0.3112 - f1Score: 0.8678 - accuracy: 0.8893 - val_loss: 0.4982 - val_f1Score: 0.7445 - val_accuracy: 0.8014\n"
          ],
          "name": "stdout"
        },
        {
          "output_type": "stream",
          "text": [
            "\n",
            "\n",
            "\n",
            "\n",
            "\n",
            "\n",
            " 67%|██████▋   | 2/3 [15:52<07:57, 477.52s/it]\u001b[A\u001b[A\u001b[A\u001b[A\u001b[A\u001b[A"
          ],
          "name": "stderr"
        },
        {
          "output_type": "stream",
          "text": [
            "Training model, epochs 21 - 30\n",
            "Epoch 1/10\n",
            "567/568 [============================>.] - ETA: 0s - loss: 0.3057 - f1Score: 0.8687 - accuracy: 0.8903WARNING:tensorflow:Callbacks method `on_test_batch_end` is slow compared to the batch time (batch time: 0.0028s vs `on_test_batch_end` time: 0.0164s). Check your callbacks.\n",
            "568/568 [==============================] - 48s 84ms/step - loss: 0.3059 - f1Score: 0.8687 - accuracy: 0.8903 - val_loss: 0.4849 - val_f1Score: 0.7323 - val_accuracy: 0.7997\n",
            "Epoch 2/10\n",
            "568/568 [==============================] - 48s 84ms/step - loss: 0.3002 - f1Score: 0.8714 - accuracy: 0.8926 - val_loss: 0.5170 - val_f1Score: 0.7459 - val_accuracy: 0.7997\n",
            "Epoch 3/10\n",
            "568/568 [==============================] - 47s 84ms/step - loss: 0.2951 - f1Score: 0.8737 - accuracy: 0.8946 - val_loss: 0.5128 - val_f1Score: 0.7448 - val_accuracy: 0.8033\n",
            "Epoch 4/10\n",
            "568/568 [==============================] - 47s 83ms/step - loss: 0.2927 - f1Score: 0.8737 - accuracy: 0.8946 - val_loss: 0.5091 - val_f1Score: 0.7397 - val_accuracy: 0.8011\n",
            "Epoch 5/10\n",
            "568/568 [==============================] - 48s 84ms/step - loss: 0.2847 - f1Score: 0.8782 - accuracy: 0.8983 - val_loss: 0.5237 - val_f1Score: 0.7392 - val_accuracy: 0.7992\n",
            "Epoch 6/10\n",
            "568/568 [==============================] - 48s 84ms/step - loss: 0.2848 - f1Score: 0.8750 - accuracy: 0.8960 - val_loss: 0.5182 - val_f1Score: 0.7376 - val_accuracy: 0.8000\n",
            "Epoch 7/10\n",
            "568/568 [==============================] - 48s 84ms/step - loss: 0.2843 - f1Score: 0.8797 - accuracy: 0.8993 - val_loss: 0.5134 - val_f1Score: 0.7318 - val_accuracy: 0.7972\n",
            "Epoch 8/10\n",
            "568/568 [==============================] - 47s 83ms/step - loss: 0.2776 - f1Score: 0.8821 - accuracy: 0.9013 - val_loss: 0.5294 - val_f1Score: 0.7395 - val_accuracy: 0.8003\n",
            "Epoch 9/10\n",
            "568/568 [==============================] - 47s 83ms/step - loss: 0.2745 - f1Score: 0.8826 - accuracy: 0.9016 - val_loss: 0.5349 - val_f1Score: 0.7389 - val_accuracy: 0.7997\n",
            "Epoch 10/10\n",
            "568/568 [==============================] - 47s 83ms/step - loss: 0.2739 - f1Score: 0.8820 - accuracy: 0.9012 - val_loss: 0.5263 - val_f1Score: 0.7367 - val_accuracy: 0.8003\n"
          ],
          "name": "stdout"
        },
        {
          "output_type": "stream",
          "text": [
            "\n",
            "\n",
            "\n",
            "\n",
            "\n",
            "\n",
            "100%|██████████| 3/3 [23:49<00:00, 476.34s/it]\n"
          ],
          "name": "stderr"
        }
      ]
    },
    {
      "cell_type": "code",
      "metadata": {
        "id": "jr5vdNWQHjk8"
      },
      "source": [
        ""
      ],
      "id": "jr5vdNWQHjk8",
      "execution_count": 240,
      "outputs": []
    }
  ]
}