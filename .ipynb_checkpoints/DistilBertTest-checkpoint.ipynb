{
 "cells": [
  {
   "cell_type": "code",
   "execution_count": 1,
   "id": "9E5eE7XLbUfs",
   "metadata": {
    "id": "9E5eE7XLbUfs"
   },
   "outputs": [
    {
     "name": "stderr",
     "output_type": "stream",
     "text": [
      "UsageError: Line magic function `%%capture` not found.\n"
     ]
    }
   ],
   "source": [
    "#INSTALAR ESTO SI SOLO ESTÁIS EN COLAB, EN LOCAL NO ES NECESARIO PORQUE YA HE INCLUIDO LA LIBRERÍA EN LOCAL_REQUIREMENTS.TXT\n",
    "#%%capture\n",
    "#!pip install transformers==4.2.1\n",
    "\n",
    "#print('Done!')"
   ]
  },
  {
   "cell_type": "code",
   "execution_count": null,
   "id": "fa734488-7dd1-4bf3-a10d-6d571b5d75e0",
   "metadata": {
    "id": "fa734488-7dd1-4bf3-a10d-6d571b5d75e0"
   },
   "outputs": [],
   "source": [
    "import pandas as pd\n",
    "import tensorflow as tf\n",
    "from transformers import DistilBertConfig, TFDistilBertForSequenceClassification, DistilBertTokenizer\n",
    "from sklearn import preprocessing\n",
    "from sklearn.metrics import f1_score\n",
    "import os\n",
    "import tqdm\n",
    "from tensorflow.keras import backend as K"
   ]
  },
  {
   "cell_type": "code",
   "execution_count": null,
   "id": "16adbfd7-6ede-419f-b7b7-beef83c5c35b",
   "metadata": {},
   "outputs": [],
   "source": [
    "config = tf.compat.v1.ConfigProto(gpu_options = \n",
    "                         tf.compat.v1.GPUOptions(per_process_gpu_memory_fraction=0.8)\n",
    ")\n",
    "config.gpu_options.allow_growth = True\n",
    "session = tf.compat.v1.Session(config=config)\n",
    "tf.compat.v1.keras.backend.set_session(session)"
   ]
  },
  {
   "cell_type": "code",
   "execution_count": null,
   "id": "38efad68-c786-42d3-b1b2-1a3e43717bcb",
   "metadata": {
    "colab": {
     "base_uri": "https://localhost:8080/",
     "height": 206
    },
    "id": "38efad68-c786-42d3-b1b2-1a3e43717bcb",
    "outputId": "450a114a-aaa4-4178-b936-2f62273fcc62"
   },
   "outputs": [],
   "source": [
    "train_dataframe = pd.read_csv(\"https://raw.githubusercontent.com/jibt1/competition_group/main/datasets/haha_2021_train.csv\", sep=',')\n",
    "val_dataframe = pd.read_csv(\"https://raw.githubusercontent.com/jibt1/competition_group/main/datasets/haha_2021_dev.csv\", sep=\",\")\n",
    "train_dataframe.head()"
   ]
  },
  {
   "cell_type": "code",
   "execution_count": null,
   "id": "06168315-eb1d-4277-acdf-3f888a566267",
   "metadata": {},
   "outputs": [],
   "source": [
    "val_dataframe.head() #Jaja que cabrones, no está etiquetado"
   ]
  },
  {
   "cell_type": "code",
   "execution_count": null,
   "id": "2a1a262d-af41-4b0a-a58e-404511e53795",
   "metadata": {
    "id": "2a1a262d-af41-4b0a-a58e-404511e53795"
   },
   "outputs": [],
   "source": [
    "cfg = {}\n",
    "cfg[\"framework\"] = \"tf\"\n",
    "cfg[\"max_length\"] = 512\n",
    "cfg[\"transformer_model_name\"] = \"distilbert-base-uncased\"\n",
    "cfg[\"num_labels\"] = 1"
   ]
  },
  {
   "cell_type": "code",
   "execution_count": null,
   "id": "bb353e76-024b-420e-bc93-4db2832b1478",
   "metadata": {
    "colab": {
     "base_uri": "https://localhost:8080/",
     "height": 173,
     "referenced_widgets": [
      "1f7d4b25153741fcb41f5f4945d6b34b",
      "d4d3b9082a2a43dfa9d8059e72cdb177",
      "2420dff20f4a402da944175f60dc6b13",
      "06f1d16fe82d476e9eb9696911fa17b0",
      "596bca265c6b492387e0ef2b22888791",
      "ca4362d4bd8941a49a9fee2b1c46cfa6",
      "9a8407aa6064408aa7f1f1c0b7e10f27",
      "aba20dd0e7f5416d97062fc1aa017c2e"
     ]
    },
    "id": "bb353e76-024b-420e-bc93-4db2832b1478",
    "outputId": "8b20dfaa-5e35-46fe-b9ec-6032416d48bc"
   },
   "outputs": [],
   "source": [
    "config_bert = DistilBertConfig(num_labels = cfg[\"num_labels\"], seq_classif_dropout=0.25)\n",
    "model = TFDistilBertForSequenceClassification.from_pretrained(cfg[\"transformer_model_name\"], config=config_bert)"
   ]
  },
  {
   "cell_type": "code",
   "execution_count": null,
   "id": "6bce9e6a-cb3f-41fe-92f1-c8bc4b3e6c8f",
   "metadata": {
    "id": "6bce9e6a-cb3f-41fe-92f1-c8bc4b3e6c8f"
   },
   "outputs": [],
   "source": [
    "def recall_m(y_true, y_pred):\n",
    "    true_positives = K.sum(K.round(K.clip(y_true * y_pred, 0, 1)))\n",
    "    possible_positives = K.sum(K.round(K.clip(y_true, 0, 1)))\n",
    "    recall = true_positives / (possible_positives + K.epsilon())\n",
    "    return recall\n",
    "\n",
    "def precision_m(y_true, y_pred):\n",
    "    true_positives = K.sum(K.round(K.clip(y_true * y_pred, 0, 1)))\n",
    "    predicted_positives = K.sum(K.round(K.clip(y_pred, 0, 1)))\n",
    "    precision = true_positives / (predicted_positives + K.epsilon())\n",
    "    return precision\n",
    "\n",
    "def f1Score(y_true, y_pred):\n",
    "    precision = precision_m(y_true, y_pred)\n",
    "    recall = recall_m(y_true, y_pred)\n",
    "    return 2*((precision*recall)/(precision+recall+K.epsilon()))"
   ]
  },
  {
   "cell_type": "code",
   "execution_count": null,
   "id": "8fdeb09c-dbec-45f8-b77f-11a6b4fae2e1",
   "metadata": {
    "colab": {
     "base_uri": "https://localhost:8080/"
    },
    "id": "8fdeb09c-dbec-45f8-b77f-11a6b4fae2e1",
    "outputId": "bb18bf84-8f08-4929-f5a8-2b3aab9ee9d0"
   },
   "outputs": [],
   "source": [
    "optimizer = tf.keras.optimizers.Adam(learning_rate=5e-5)\n",
    "loss = tf.keras.losses.BinaryCrossentropy(from_logits = True)\n",
    "model.compile(optimizer=optimizer, loss=loss, metrics = [f1Score])\n",
    "model.summary()"
   ]
  },
  {
   "cell_type": "code",
   "execution_count": null,
   "id": "be5082b3-07a6-436f-b439-d0ad3f3750dc",
   "metadata": {
    "id": "be5082b3-07a6-436f-b439-d0ad3f3750dc"
   },
   "outputs": [],
   "source": [
    "cfg['tokenizer'] = DistilBertTokenizer.from_pretrained(cfg['transformer_model_name'] )\n",
    "cfg['label_binarizer'] = preprocessing.LabelBinarizer()"
   ]
  },
  {
   "cell_type": "code",
   "execution_count": null,
   "id": "8e4d7ef1-fcf9-48d9-b4a6-85d02472691f",
   "metadata": {
    "id": "8e4d7ef1-fcf9-48d9-b4a6-85d02472691f"
   },
   "outputs": [],
   "source": [
    "cfg['label_binarizer'].fit(train_dataframe[\"is_humor\"])\n",
    "train_blabels = cfg['label_binarizer'].transform(train_dataframe[\"is_humor\"])\n",
    "train_blabels_t = tf.convert_to_tensor(train_blabels, dtype='int32')"
   ]
  },
  {
   "cell_type": "code",
   "execution_count": null,
   "id": "bc6f7705-2002-4901-9537-71fe387e0a72",
   "metadata": {
    "id": "bc6f7705-2002-4901-9537-71fe387e0a72"
   },
   "outputs": [],
   "source": [
    "def get_model_inputs(cfg, data):\n",
    "    encodings = cfg['tokenizer'](data, truncation=True, padding='max_length', max_length=cfg['max_length'], return_tensors=cfg['framework'])\n",
    "    inputs = {'input_ids': encodings['input_ids'],\n",
    "            'attention_mask': encodings['attention_mask']\n",
    "            }\n",
    "    return inputs"
   ]
  },
  {
   "cell_type": "code",
   "execution_count": null,
   "id": "202039e9-4ce6-44f5-bc7b-e5ea691dc7ad",
   "metadata": {
    "id": "202039e9-4ce6-44f5-bc7b-e5ea691dc7ad",
    "outputId": "53f1c4e6-495f-4292-c021-f6d6c0a31255"
   },
   "outputs": [],
   "source": [
    "train_inputs = get_model_inputs(cfg, train_dataframe[\"text\"].to_list())\n",
    "train_inputs"
   ]
  },
  {
   "cell_type": "code",
   "execution_count": null,
   "id": "b9ec284c-fc4e-4629-9e7e-8aa68adcfdbc",
   "metadata": {
    "id": "b9ec284c-fc4e-4629-9e7e-8aa68adcfdbc"
   },
   "outputs": [],
   "source": [
    "cfg['checkpoints_dir'] = 'checkpoints'\n",
    "cfg['model_name'] = 'distilbert-humor'\n",
    "cfg['trained_model_name'] = os.path.join(cfg['checkpoints_dir'], cfg['model_name'])"
   ]
  },
  {
   "cell_type": "code",
   "execution_count": null,
   "id": "d4294efd-f1d1-4d95-ae3b-f533bd1c1850",
   "metadata": {
    "id": "d4294efd-f1d1-4d95-ae3b-f533bd1c1850",
    "outputId": "900be85b-ffc1-447b-88c6-82f5e0ccdc3b"
   },
   "outputs": [],
   "source": [
    "epochs_max = 5\n",
    "epochs_to_save = 1\n",
    "batch_size = 16\n",
    "\n",
    "for epoch in tqdm.tqdm(range(0, epochs_max, epochs_to_save)):\n",
    "    print(f'Training model, epochs {epoch+1} - {epoch+epochs_to_save}')\n",
    "    \n",
    "    # entrenar el modelo. Opcionalmente, se puede suministrar datos de validación => validation_data=(val_inputs,val_blabels_t )\n",
    "    model.fit(train_inputs, y=train_blabels_t, epochs=epochs_to_save, batch_size=batch_size, validation_split=0.25)\n",
    "\n",
    "    model.save_pretrained(cfg['trained_model_name'] + f'-epochs-{epoch+1:03d}-{epoch+epochs_to_save:03d}')\n",
    "    cfg['tokenizer'].save_pretrained(cfg['trained_model_name'] + f'-epochs-{epoch+1:03d}-{epoch+epochs_to_save:03d}')"
   ]
  }
 ],
 "metadata": {
  "colab": {
   "collapsed_sections": [],
   "name": "Copy of DistilBertTest.ipynb",
   "provenance": []
  },
  "kernelspec": {
   "display_name": "Python 3",
   "language": "python",
   "name": "python3"
  },
  "language_info": {
   "codemirror_mode": {
    "name": "ipython",
    "version": 3
   },
   "file_extension": ".py",
   "mimetype": "text/x-python",
   "name": "python",
   "nbconvert_exporter": "python",
   "pygments_lexer": "ipython3",
   "version": "3.6.6"
  },
  "widgets": {
   "application/vnd.jupyter.widget-state+json": {
    "06f1d16fe82d476e9eb9696911fa17b0": {
     "model_module": "@jupyter-widgets/controls",
     "model_name": "HTMLModel",
     "state": {
      "_dom_classes": [],
      "_model_module": "@jupyter-widgets/controls",
      "_model_module_version": "1.5.0",
      "_model_name": "HTMLModel",
      "_view_count": null,
      "_view_module": "@jupyter-widgets/controls",
      "_view_module_version": "1.5.0",
      "_view_name": "HTMLView",
      "description": "",
      "description_tooltip": null,
      "layout": "IPY_MODEL_aba20dd0e7f5416d97062fc1aa017c2e",
      "placeholder": "​",
      "style": "IPY_MODEL_9a8407aa6064408aa7f1f1c0b7e10f27",
      "value": " 363M/363M [00:09&lt;00:00, 38.3MB/s]"
     }
    },
    "1f7d4b25153741fcb41f5f4945d6b34b": {
     "model_module": "@jupyter-widgets/controls",
     "model_name": "HBoxModel",
     "state": {
      "_dom_classes": [],
      "_model_module": "@jupyter-widgets/controls",
      "_model_module_version": "1.5.0",
      "_model_name": "HBoxModel",
      "_view_count": null,
      "_view_module": "@jupyter-widgets/controls",
      "_view_module_version": "1.5.0",
      "_view_name": "HBoxView",
      "box_style": "",
      "children": [
       "IPY_MODEL_2420dff20f4a402da944175f60dc6b13",
       "IPY_MODEL_06f1d16fe82d476e9eb9696911fa17b0"
      ],
      "layout": "IPY_MODEL_d4d3b9082a2a43dfa9d8059e72cdb177"
     }
    },
    "2420dff20f4a402da944175f60dc6b13": {
     "model_module": "@jupyter-widgets/controls",
     "model_name": "FloatProgressModel",
     "state": {
      "_dom_classes": [],
      "_model_module": "@jupyter-widgets/controls",
      "_model_module_version": "1.5.0",
      "_model_name": "FloatProgressModel",
      "_view_count": null,
      "_view_module": "@jupyter-widgets/controls",
      "_view_module_version": "1.5.0",
      "_view_name": "ProgressView",
      "bar_style": "success",
      "description": "Downloading: 100%",
      "description_tooltip": null,
      "layout": "IPY_MODEL_ca4362d4bd8941a49a9fee2b1c46cfa6",
      "max": 363423424,
      "min": 0,
      "orientation": "horizontal",
      "style": "IPY_MODEL_596bca265c6b492387e0ef2b22888791",
      "value": 363423424
     }
    },
    "596bca265c6b492387e0ef2b22888791": {
     "model_module": "@jupyter-widgets/controls",
     "model_name": "ProgressStyleModel",
     "state": {
      "_model_module": "@jupyter-widgets/controls",
      "_model_module_version": "1.5.0",
      "_model_name": "ProgressStyleModel",
      "_view_count": null,
      "_view_module": "@jupyter-widgets/base",
      "_view_module_version": "1.2.0",
      "_view_name": "StyleView",
      "bar_color": null,
      "description_width": "initial"
     }
    },
    "9a8407aa6064408aa7f1f1c0b7e10f27": {
     "model_module": "@jupyter-widgets/controls",
     "model_name": "DescriptionStyleModel",
     "state": {
      "_model_module": "@jupyter-widgets/controls",
      "_model_module_version": "1.5.0",
      "_model_name": "DescriptionStyleModel",
      "_view_count": null,
      "_view_module": "@jupyter-widgets/base",
      "_view_module_version": "1.2.0",
      "_view_name": "StyleView",
      "description_width": ""
     }
    },
    "aba20dd0e7f5416d97062fc1aa017c2e": {
     "model_module": "@jupyter-widgets/base",
     "model_name": "LayoutModel",
     "state": {
      "_model_module": "@jupyter-widgets/base",
      "_model_module_version": "1.2.0",
      "_model_name": "LayoutModel",
      "_view_count": null,
      "_view_module": "@jupyter-widgets/base",
      "_view_module_version": "1.2.0",
      "_view_name": "LayoutView",
      "align_content": null,
      "align_items": null,
      "align_self": null,
      "border": null,
      "bottom": null,
      "display": null,
      "flex": null,
      "flex_flow": null,
      "grid_area": null,
      "grid_auto_columns": null,
      "grid_auto_flow": null,
      "grid_auto_rows": null,
      "grid_column": null,
      "grid_gap": null,
      "grid_row": null,
      "grid_template_areas": null,
      "grid_template_columns": null,
      "grid_template_rows": null,
      "height": null,
      "justify_content": null,
      "justify_items": null,
      "left": null,
      "margin": null,
      "max_height": null,
      "max_width": null,
      "min_height": null,
      "min_width": null,
      "object_fit": null,
      "object_position": null,
      "order": null,
      "overflow": null,
      "overflow_x": null,
      "overflow_y": null,
      "padding": null,
      "right": null,
      "top": null,
      "visibility": null,
      "width": null
     }
    },
    "ca4362d4bd8941a49a9fee2b1c46cfa6": {
     "model_module": "@jupyter-widgets/base",
     "model_name": "LayoutModel",
     "state": {
      "_model_module": "@jupyter-widgets/base",
      "_model_module_version": "1.2.0",
      "_model_name": "LayoutModel",
      "_view_count": null,
      "_view_module": "@jupyter-widgets/base",
      "_view_module_version": "1.2.0",
      "_view_name": "LayoutView",
      "align_content": null,
      "align_items": null,
      "align_self": null,
      "border": null,
      "bottom": null,
      "display": null,
      "flex": null,
      "flex_flow": null,
      "grid_area": null,
      "grid_auto_columns": null,
      "grid_auto_flow": null,
      "grid_auto_rows": null,
      "grid_column": null,
      "grid_gap": null,
      "grid_row": null,
      "grid_template_areas": null,
      "grid_template_columns": null,
      "grid_template_rows": null,
      "height": null,
      "justify_content": null,
      "justify_items": null,
      "left": null,
      "margin": null,
      "max_height": null,
      "max_width": null,
      "min_height": null,
      "min_width": null,
      "object_fit": null,
      "object_position": null,
      "order": null,
      "overflow": null,
      "overflow_x": null,
      "overflow_y": null,
      "padding": null,
      "right": null,
      "top": null,
      "visibility": null,
      "width": null
     }
    },
    "d4d3b9082a2a43dfa9d8059e72cdb177": {
     "model_module": "@jupyter-widgets/base",
     "model_name": "LayoutModel",
     "state": {
      "_model_module": "@jupyter-widgets/base",
      "_model_module_version": "1.2.0",
      "_model_name": "LayoutModel",
      "_view_count": null,
      "_view_module": "@jupyter-widgets/base",
      "_view_module_version": "1.2.0",
      "_view_name": "LayoutView",
      "align_content": null,
      "align_items": null,
      "align_self": null,
      "border": null,
      "bottom": null,
      "display": null,
      "flex": null,
      "flex_flow": null,
      "grid_area": null,
      "grid_auto_columns": null,
      "grid_auto_flow": null,
      "grid_auto_rows": null,
      "grid_column": null,
      "grid_gap": null,
      "grid_row": null,
      "grid_template_areas": null,
      "grid_template_columns": null,
      "grid_template_rows": null,
      "height": null,
      "justify_content": null,
      "justify_items": null,
      "left": null,
      "margin": null,
      "max_height": null,
      "max_width": null,
      "min_height": null,
      "min_width": null,
      "object_fit": null,
      "object_position": null,
      "order": null,
      "overflow": null,
      "overflow_x": null,
      "overflow_y": null,
      "padding": null,
      "right": null,
      "top": null,
      "visibility": null,
      "width": null
     }
    }
   }
  }
 },
 "nbformat": 4,
 "nbformat_minor": 5
}
